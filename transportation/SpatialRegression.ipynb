{
 "cells": [
  {
   "cell_type": "markdown",
   "id": "928b8670-de3b-4282-8c39-8ff2b605a0b1",
   "metadata": {},
   "source": [
    "# Spatial regression"
   ]
  },
  {
   "cell_type": "code",
   "execution_count": null,
   "id": "ed239483-49e2-4469-b7fb-2845cd48a1ec",
   "metadata": {},
   "outputs": [],
   "source": [
    "gdf_name = \"results_pcparis.gpkg\" "
   ]
  },
  {
   "cell_type": "code",
   "execution_count": null,
   "id": "5c5c8def-7497-4e82-885a-1908a9ffefb8",
   "metadata": {},
   "outputs": [],
   "source": [
    "import os\n",
    "import sys\n",
    "sys.path.append(os.path.abspath(os.path.join(os.getcwd(), os.pardir)))\n",
    "os.environ['USE_PYGEOS'] = '0'\n",
    "import pysal.lib\n",
    "import helpers as hs\n",
    "from importlib import reload\n",
    "import folium\n",
    "import pandas as pd\n",
    "import geopandas as gpd\n",
    "import matplotlib.pyplot as plt\n",
    "import numpy as np"
   ]
  },
  {
   "cell_type": "code",
   "execution_count": null,
   "id": "2d288da0-9755-4973-87c1-7425068f79db",
   "metadata": {},
   "outputs": [],
   "source": [
    "%cd ../data\n",
    "gdf = gpd.read_file(gdf_name, layer=\"cool\")"
   ]
  },
  {
   "cell_type": "code",
   "execution_count": null,
   "id": "0c983a77-1d45-4ed8-81da-db0c2ef71de2",
   "metadata": {},
   "outputs": [],
   "source": [
    "gdfs = gdf.copy()\n",
    "gdfs[\"%_soc.minimum\"] = (gdfs[\"Men_pauv\"]/gdfs[\"Ind\"])*100\n",
    "gdfs[\"%_>_65\"] = ((gdfs[\"Ind_65_79\"] +gdfs[\"Ind_80p\"])/gdfs[\"Ind\"])*100\n",
    "gdfs[\"%_<_17\"] = ((gdfs[\"Ind_0_3\"] +gdfs[\"Ind_4_5\"] + gdfs[\"Ind_6_10\"] + gdfs[\"Ind_11_17\"])/gdfs[\"Ind\"])*100\n",
    "gdfs[\"%_<_bat_45\"] = (gdfs[\"Log_av45\"]/(gdfs[\"Log_av45\"] +gdfs[\"Log_45_70\"] + gdfs[\"Log_70_90\"] + gdfs[\"Log_ap90\"] + gdfs[\"Log_inc\"]))*100\n",
    "gdfs[\"%_>_bat_90\"] = (gdfs[\"Log_ap90\"]/(gdfs[\"Log_av45\"] +gdfs[\"Log_45_70\"] + gdfs[\"Log_70_90\"] + gdfs[\"Log_ap90\"] + gdfs[\"Log_inc\"]))*100\n",
    "gdfs[\"%_residences\"] = (gdfs[\"Men_coll\"]/(gdfs[\"Men_coll\"] +gdfs[\"Men_mais\"]))*100\n",
    "gdfs[\"mean_income\"] = gdfs[\"Ind_snv\"]/gdfs[\"Ind\"]\n",
    "gdfs[\"density\"] = gdfs[\"Ind\"]/(0.0002)"
   ]
  },
  {
   "cell_type": "code",
   "execution_count": null,
   "id": "c4c9a886-5b29-438f-af60-ac15232ef018",
   "metadata": {},
   "outputs": [],
   "source": [
    "from pysal.model import spreg\n",
    "from pysal.lib import weights\n",
    "from spreg import OLS"
   ]
  },
  {
   "cell_type": "code",
   "execution_count": null,
   "id": "fddfc518-f910-4948-9a76-7e71d0bc42a3",
   "metadata": {},
   "outputs": [],
   "source": [
    "w_queen = weights.contiguity.Queen.from_dataframe(gdfs) # adjacent in all directions, including diagonal.\n",
    "# Replace Queen by rook for only up/down/left/right adjancy"
   ]
  },
  {
   "cell_type": "code",
   "execution_count": null,
   "id": "4d4a58bd-22d5-45fe-a103-39fe85576dfe",
   "metadata": {},
   "outputs": [],
   "source": [
    "w_queen.transform = 'r'"
   ]
  },
  {
   "cell_type": "code",
   "execution_count": null,
   "id": "30093f2b-733d-4fe6-9a47-66a4c5cb2f9b",
   "metadata": {},
   "outputs": [],
   "source": [
    "dep_var = \"CS_aggregated\"\n",
    "independ_var_B = [\"%_soc.minimum\", \"%_>_65\", \"%_<_17\", \"%_<_bat_45\", \"%_>_bat_90\", \"%_residences\", \"mean_income\",\"density\"]\n",
    "ols = OLS(gdfs[[dep_var]].values, gdfs[independ_var_B].values)"
   ]
  },
  {
   "cell_type": "code",
   "execution_count": null,
   "id": "a916043b-2f85-45a2-b016-e5727fa70c7b",
   "metadata": {},
   "outputs": [],
   "source": [
    "sample = gdfs[independ_var_B]\n",
    "sample.describe()"
   ]
  },
  {
   "cell_type": "code",
   "execution_count": null,
   "id": "78ff855b-8ce8-4bba-8dfc-0e0703b161c1",
   "metadata": {},
   "outputs": [],
   "source": [
    "from sklearn.preprocessing import MinMaxScaler, StandardScaler\n",
    "scaler = StandardScaler()\n",
    "changevars = independ_var_B\n",
    "gdfs[changevars] = scaler.fit_transform(gdfs[changevars])\n",
    "gdfs[\"CS_aggregated\"] += 0.0000001"
   ]
  },
  {
   "cell_type": "code",
   "execution_count": null,
   "id": "758014b9-879a-46ca-9878-e5d81e47027e",
   "metadata": {},
   "outputs": [],
   "source": [
    "gdfs[\"CS_aggregated\"] = scaler.fit_transform(gdfs[[\"CS_aggregated\"]])"
   ]
  },
  {
   "cell_type": "code",
   "execution_count": null,
   "id": "985d9430-3783-428a-b481-f4addf383d04",
   "metadata": {},
   "outputs": [],
   "source": [
    "mB = spreg.GM_Combo(\n",
    "    gdfs[[dep_var]].values,\n",
    "    gdfs[independ_var_B].values,\n",
    "    w=w_queen,\n",
    "    name_y=dep_var,\n",
    "    name_x=independ_var_B,\n",
    ")\n",
    "\n",
    "print(mB.summary)"
   ]
  },
  {
   "cell_type": "code",
   "execution_count": null,
   "id": "3a4379a8-c7b9-4bab-b251-209a6a20e72d",
   "metadata": {},
   "outputs": [],
   "source": []
  }
 ],
 "metadata": {
  "kernelspec": {
   "display_name": "Python (batomouchekurwa)",
   "language": "python",
   "name": "batomouchekurwa"
  },
  "language_info": {
   "codemirror_mode": {
    "name": "ipython",
    "version": 3
   },
   "file_extension": ".py",
   "mimetype": "text/x-python",
   "name": "python",
   "nbconvert_exporter": "python",
   "pygments_lexer": "ipython3",
   "version": "3.11.7"
  }
 },
 "nbformat": 4,
 "nbformat_minor": 5
}
