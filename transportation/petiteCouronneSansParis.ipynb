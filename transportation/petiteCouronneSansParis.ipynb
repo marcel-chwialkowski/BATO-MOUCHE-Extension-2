{
 "cells": [
  {
   "cell_type": "code",
   "execution_count": null,
   "id": "945c392c-fc2d-47be-ab01-7e0515dde2c0",
   "metadata": {},
   "outputs": [],
   "source": [
    "import os\n",
    "import sys\n",
    "sys.path.append(os.path.abspath(os.path.join(os.getcwd(), os.pardir)))\n",
    "os.environ['USE_PYGEOS'] = '0'\n",
    "import pysal.lib\n",
    "import helpers as hs\n",
    "from importlib import reload\n",
    "import folium\n",
    "import pandas as pd\n",
    "import geopandas as gpd"
   ]
  },
  {
   "cell_type": "code",
   "execution_count": null,
   "id": "071b926e-cfac-44e1-927c-ec8bbc0c68c2",
   "metadata": {},
   "outputs": [],
   "source": [
    "%cd ../data"
   ]
  },
  {
   "cell_type": "markdown",
   "id": "1598d13b-87a2-4620-98b9-40ee29438888",
   "metadata": {},
   "source": [
    "Read geopackage for PC witout paris"
   ]
  },
  {
   "cell_type": "code",
   "execution_count": null,
   "id": "b70d3260-3fb9-4822-88f3-41e382896825",
   "metadata": {},
   "outputs": [],
   "source": [
    "pc_sans_paris_gdf = gpd.read_file(\"pc_sans_paris_gdf.gpkg\", layer=\"cool\")"
   ]
  },
  {
   "cell_type": "code",
   "execution_count": null,
   "id": "34ade446-43be-43ca-ba57-729c83af2a15",
   "metadata": {},
   "outputs": [],
   "source": [
    "import r5py\n",
    "import shapely"
   ]
  },
  {
   "cell_type": "code",
   "execution_count": null,
   "id": "cfdd1ea9-ee76-4d36-bbb1-70f18f64ff00",
   "metadata": {},
   "outputs": [],
   "source": [
    "transport_network = r5py.TransportNetwork(\"Petite-Couronne-Sans-Paris.pbf\", [\"IDFM.gtfs.zip\"])"
   ]
  },
  {
   "cell_type": "code",
   "execution_count": null,
   "id": "4af0fdb7-9f9e-43f2-9886-7d239da58e20",
   "metadata": {},
   "outputs": [],
   "source": [
    "hs.folium_grid_cat_plot(pc_sans_paris_gdf,\"restaurant\")"
   ]
  },
  {
   "cell_type": "markdown",
   "id": "94c00bb6-dc78-47c5-ab0b-ce4a9b9d61b4",
   "metadata": {},
   "source": [
    "In order to work with r5 we replace IdINSIPRE with id"
   ]
  },
  {
   "cell_type": "code",
   "execution_count": null,
   "id": "ae84881e-adcd-4806-b150-c4d213e05874",
   "metadata": {},
   "outputs": [],
   "source": [
    "pc_sans_paris_gdf.rename(columns={'IdINSPIRE':'id'}, inplace = True)"
   ]
  },
  {
   "cell_type": "code",
   "execution_count": null,
   "id": "41a1ae2c-a034-4156-b034-38396843cd7e",
   "metadata": {},
   "outputs": [],
   "source": [
    "pc_sans_paris_gdf['Log'] = pc_sans_paris_gdf['Log_inc'] + pc_sans_paris_gdf['Log_av45'] + pc_sans_paris_gdf['Log_45_70'] + pc_sans_paris_gdf['Log_70_90'] + pc_sans_paris_gdf['Log_ap90']\n"
   ]
  },
  {
   "cell_type": "code",
   "execution_count": null,
   "id": "9089b3fe-c113-439a-960f-a1c754c6b2e6",
   "metadata": {},
   "outputs": [],
   "source": [
    "import datetime\n",
    "import time"
   ]
  },
  {
   "cell_type": "code",
   "execution_count": null,
   "id": "fb10bdd3-17b4-480c-98c8-75e903aefdd5",
   "metadata": {},
   "outputs": [],
   "source": [
    "pc_sans_paris_gdf_centered = pc_sans_paris_gdf.copy()\n",
    "pc_sans_paris_gdf_centered['geometry'] = pc_sans_paris_gdf_centered['geometry'].apply(lambda x : x.centroid)\n",
    "\n",
    "travel_time_matrix_computer = r5py.TravelTimeMatrixComputer(\n",
    "    transport_network,\n",
    "    origins=pc_sans_paris_gdf_centered,\n",
    "    destinations=pc_sans_paris_gdf_centered,\n",
    "    departure=datetime.datetime(2024,10,8,11,59),\n",
    "    transport_modes=[\n",
    "        r5py.TransportMode.TRANSIT,\n",
    "        r5py.TransportMode.WALK,\n",
    "    ],\n",
    ")"
   ]
  },
  {
   "cell_type": "markdown",
   "id": "777ff8dc-2e85-4b5a-a10e-2d0763e30551",
   "metadata": {},
   "source": [
    "Compute travel times:"
   ]
  },
  {
   "cell_type": "code",
   "execution_count": null,
   "id": "d95bf28d-137f-42cf-81d4-b8e68fd44472",
   "metadata": {},
   "outputs": [],
   "source": [
    "travel_times = travel_time_matrix_computer.compute_travel_times()"
   ]
  },
  {
   "cell_type": "code",
   "execution_count": null,
   "id": "5f7243c5-564c-4944-b38f-96158c09a765",
   "metadata": {},
   "outputs": [],
   "source": [
    "travel_times.to_csv(\"travel_times_pc_sp.csv\")"
   ]
  },
  {
   "cell_type": "code",
   "execution_count": null,
   "id": "e90b5cbf-dbfa-41e5-aa1d-2f92a8de1d53",
   "metadata": {},
   "outputs": [],
   "source": [
    "travel_times_square = hs.vert_to_square(travel_times)"
   ]
  },
  {
   "cell_type": "code",
   "execution_count": null,
   "id": "1fed6fc9-9b1e-4ea7-aa85-4be2389b3d0f",
   "metadata": {},
   "outputs": [],
   "source": [
    "weights_by_id = hs.transfer_time_to_weight_faster(travel_times_square)"
   ]
  },
  {
   "cell_type": "code",
   "execution_count": null,
   "id": "702d19eb-3444-46b1-8c3d-7d167265bf50",
   "metadata": {},
   "outputs": [],
   "source": [
    "df_reset = weights_by_id.reset_index()"
   ]
  },
  {
   "cell_type": "code",
   "execution_count": null,
   "id": "a7911089-b17e-40cc-90d2-3567632a9e1f",
   "metadata": {},
   "outputs": [],
   "source": [
    "pc_sans_paris_gdf."
   ]
  },
  {
   "cell_type": "code",
   "execution_count": null,
   "id": "95e05adc-6e3d-4681-9371-bbe3a94c82ae",
   "metadata": {},
   "outputs": [],
   "source": [
    "interestVar = ['Log','Log_soc','restaurant',\n",
    "       'culture and art', 'education', 'food_shops', 'fashion_beauty',\n",
    "       'supply_shops']\n",
    "accessibility_measures = hs.calculate_2SFCA_accessibility(pc_sans_paris_gdf,interestVar,weights_by_id)"
   ]
  },
  {
   "cell_type": "code",
   "execution_count": null,
   "id": "eb746583-a427-471d-896e-9930f5037151",
   "metadata": {},
   "outputs": [],
   "source": [
    "for var in interestVar:\n",
    "    pc_sans_paris_gdf[var+\"_access\"] = accessibility_measures[var]"
   ]
  },
  {
   "cell_type": "code",
   "execution_count": null,
   "id": "0ca1b816-ec66-4eab-8f1e-8561c64bef84",
   "metadata": {},
   "outputs": [],
   "source": [
    "reload(hs)"
   ]
  },
  {
   "cell_type": "code",
   "execution_count": null,
   "id": "9f7b48c3-6164-4f53-bdf6-5efe42a4eb32",
   "metadata": {},
   "outputs": [],
   "source": [
    "hs.folium_color_map(pc_sans_paris_gdf,\"Log_soc_access\")"
   ]
  },
  {
   "cell_type": "code",
   "execution_count": null,
   "id": "4b1cfe4d-2845-4700-a860-4d3dcdb6a9d7",
   "metadata": {},
   "outputs": [],
   "source": [
    "interestVar2 = ['restaurant',\n",
    "       'culture and art', 'education', 'food_shops', 'fashion_beauty',\n",
    "       'supply_shops']\n",
    "for var in interestVar2:\n",
    "        pc_sans_paris_gdf[str(\"weight_\" + var)] = pc_sans_paris_gdf[var].sum()/(pc_sans_paris_gdf[interestVar2].sum(axis = 1).sum())"
   ]
  },
  {
   "cell_type": "code",
   "execution_count": null,
   "id": "79d76d04-7c12-4d30-b0c4-acaa4fbd8b2e",
   "metadata": {},
   "outputs": [],
   "source": [
    "1 - pc_sans_paris_gdf[[str(\"weight_\" + var) for var in interestVar2]]"
   ]
  },
  {
   "cell_type": "code",
   "execution_count": null,
   "id": "76a340f5-1b33-4a04-b3fc-57c944372663",
   "metadata": {},
   "outputs": [],
   "source": [
    "for var in interestVar2 : \n",
    "    pc_sans_paris_gdf[str(var + \"_access\" + \"_norm*weight\")] = (pc_sans_paris_gdf[str(var + \"_access\")].apply(lambda x : (x - pc_sans_paris_gdf[str(var + \"_access\")].min())/(pc_sans_paris_gdf[str(var + \"_access\")].max() - pc_sans_paris_gdf[str(var + \"_access\")].min())))*(1 - pc_sans_paris_gdf[str(\"weight_\" + var)])"
   ]
  },
  {
   "cell_type": "code",
   "execution_count": null,
   "id": "81824b61-b5f3-4786-8985-9f85394c0c0e",
   "metadata": {},
   "outputs": [],
   "source": [
    "for var in interestVar2 : \n",
    "    pc_sans_paris_gdf[str(var + \"_access\" + \"without_norm*weight\")] = (pc_sans_paris_gdf[str(var + \"_access\")].apply(lambda x : (x - pc_sans_paris_gdf[str(var + \"_access\")].min())/(pc_sans_paris_gdf[str(var + \"_access\")].max() - \n",
    "                                                                                                                                       pc_sans_paris_gdf[str(var + \"_access\")].min())))"
   ]
  },
  {
   "cell_type": "code",
   "execution_count": null,
   "id": "025d44ea-be85-4c09-a538-df1efd8c2254",
   "metadata": {},
   "outputs": [],
   "source": [
    "pc_sans_paris_gdf[\"CS_aggregated\"] = pc_sans_paris_gdf[[i + \"_access_norm*weight\" for i in interestVar2]].sum(axis = 1) "
   ]
  },
  {
   "cell_type": "code",
   "execution_count": null,
   "id": "5a5fa128-43b0-4213-9cef-5a2cea9e067a",
   "metadata": {},
   "outputs": [],
   "source": [
    "pc_sans_paris_gdf[\"CS_aggregated_without_weight\"] = pc_sans_paris_gdf[[i + \"_accesswithout_norm*weight\" for i in interestVar2]].sum(axis = 1) "
   ]
  },
  {
   "cell_type": "code",
   "execution_count": null,
   "id": "2889c0ce-ee93-48a6-b7ae-69f8d5e9f3d1",
   "metadata": {},
   "outputs": [],
   "source": [
    "hs.folium_color_map(pc_sans_paris_gdf,\"CS_aggregated_without_weight\")"
   ]
  },
  {
   "cell_type": "code",
   "execution_count": null,
   "id": "a15fa4a7-50ef-47b0-93db-2dd583453211",
   "metadata": {},
   "outputs": [],
   "source": [
    "hs.folium_color_map(pc_sans_paris_gdf,\"CS_aggregated\")"
   ]
  },
  {
   "cell_type": "code",
   "execution_count": null,
   "id": "4c09dd49-4457-4f55-87aa-e224d397911e",
   "metadata": {},
   "outputs": [],
   "source": []
  }
 ],
 "metadata": {
  "kernelspec": {
   "display_name": "Python (batomouchekurwa)",
   "language": "python",
   "name": "batomouchekurwa"
  },
  "language_info": {
   "codemirror_mode": {
    "name": "ipython",
    "version": 3
   },
   "file_extension": ".py",
   "mimetype": "text/x-python",
   "name": "python",
   "nbconvert_exporter": "python",
   "pygments_lexer": "ipython3",
   "version": "3.11.7"
  }
 },
 "nbformat": 4,
 "nbformat_minor": 5
}
