{
 "cells": [
  {
   "cell_type": "markdown",
   "id": "0c7e511c-d59f-416c-8d02-339585f09b7b",
   "metadata": {},
   "source": [
    "# Clustering of results"
   ]
  },
  {
   "cell_type": "markdown",
   "id": "5427c6ca-8777-4d7f-9b1e-ffb9868b87b6",
   "metadata": {},
   "source": [
    "Note: this clustering can be done for any of the resulting datasets, this notebook does it for petitecouronne + paris"
   ]
  },
  {
   "cell_type": "code",
   "execution_count": null,
   "id": "c83b4964-78a4-4652-a773-1fe5f5763561",
   "metadata": {},
   "outputs": [],
   "source": [
    "gdf_name = \"results_pcparis.gpkg\" "
   ]
  },
  {
   "cell_type": "code",
   "execution_count": null,
   "id": "55026ffe-0b98-4fcb-93a9-b3ac94186e1b",
   "metadata": {},
   "outputs": [],
   "source": [
    "import os\n",
    "import sys\n",
    "sys.path.append(os.path.abspath(os.path.join(os.getcwd(), os.pardir)))\n",
    "os.environ['USE_PYGEOS'] = '0'\n",
    "import pysal.lib\n",
    "import helpers as hs\n",
    "from importlib import reload\n",
    "import folium\n",
    "import pandas as pd\n",
    "import geopandas as gpd\n",
    "import r5py\n",
    "import shapely\n",
    "import time\n",
    "import datetime\n",
    "\n",
    "from sklearn.cluster import KMeans, MiniBatchKMeans\n",
    "from sklearn.pipeline import Pipeline\n",
    "from sklearn.preprocessing import StandardScaler\n",
    "from yellowbrick.cluster import KElbowVisualizer"
   ]
  },
  {
   "cell_type": "code",
   "execution_count": null,
   "id": "25f35371-689a-4490-8815-0cf98f57db21",
   "metadata": {},
   "outputs": [],
   "source": [
    "%cd ../data\n",
    "gdf = gpd.read_file(gdf_name, layer=\"cool\")"
   ]
  },
  {
   "cell_type": "markdown",
   "id": "9924c31e-382d-4a57-a3b8-72e8a0294f23",
   "metadata": {},
   "source": [
    "Inspect the dataset:"
   ]
  },
  {
   "cell_type": "code",
   "execution_count": null,
   "id": "5536ec89-ee76-42e0-bffb-ad18d94d4e19",
   "metadata": {},
   "outputs": [],
   "source": [
    "gdf.columns"
   ]
  },
  {
   "cell_type": "markdown",
   "id": "0b88992b-6769-423d-8fc2-147e60f2c2ea",
   "metadata": {},
   "source": [
    "Exclude forests from the dataset:"
   ]
  },
  {
   "cell_type": "code",
   "execution_count": null,
   "id": "52429cec-f746-4ec4-9f6d-8ef51e86d4d2",
   "metadata": {},
   "outputs": [],
   "source": [
    "woods = [\"CRS3035RES200mN2891600E3754800\",\"CRS3035RES200mN2891600E3754400\",\"CRS3035RES200mN2891800E3754000\",\"CRS3035RES200mN2892000E3753800\",\n",
    "        \"CRS3035RES200mN2891800E3753200\",\"CRS3035RES200mN2891400E3753200\",\"CRS3035RES200mN2891600E3752000\",\"CRS3035RES200mN2891400E3752400\",\n",
    "        \"CRS3035RES200mN2891200E3751800\",\"CRS3035RES200mN2891000E3752200\",\"CRS3035RES200mN2890600E3752000\",\"CRS3035RES200mN2890000E3751400\",\n",
    "        \"CRS3035RES200mN2890200E3752600\",\"CRS3035RES200mN2889400E3752600\",\"CRS3035RES200mN2890600E3753600\",\"CRS3035RES200mN2890000E3753200\",\n",
    "        \"CRS3035RES200mN2889800E3753600\",\"CRS3035RES200mN2890400E3754000\",\"CRS3035RES200mN2890200E3754000\",\"CRS3035RES200mN2893000E3764400\",\n",
    "        \"CRS3035RES200mN2887000E3754400\",\"CRS3035RES200mN2887000E3754600\",\"CRS3035RES200mN2887200E3754800\",\"CRS3035RES200mN2887400E3754800\",\n",
    "        \"CRS3035RES200mN2885600E3762800\",\"CRS3035RES200mN2885600E3764600\",\"CRS3035RES200mN2886200E3765200\",\"CRS3035RES200mN2886400E3765400\",\n",
    "        \"CRS3035RES200mN2885600E3765400\",\"CRS3035RES200mN2886000E3765800\",\"CRS3035RES200mN2886400E3766200\",\"CRS3035RES200mN2886600E3766400\",\n",
    "        \"CRS3035RES200mN2886400E3766800\",\"CRS3035RES200mN2886600E3766800\",\"CRS3035RES200mN2886600E3767000\",\"CRS3035RES200mN2886600E3767200\",\n",
    "        \"CRS3035RES200mN2886400E3767600\",\"CRS3035RES200mN2886400E3768000\",\"CRS3035RES200mN2886600E3768200\",\"CRS3035RES200mN2886000E3767000\",\n",
    "        \"CRS3035RES200mN2886000E3767600\",\"CRS3035RES200mN2885600E3768000\",\"CRS3035RES200mN2885000E3767000\",\"CRS3035RES200mN2885000E3767400\",\n",
    "        \"CRS3035RES200mN2885000E3768200\",\"CRS3035RES200mN2884600E3768200\",\"CRS3035RES200mN2884400E3768000\"]"
   ]
  },
  {
   "cell_type": "code",
   "execution_count": null,
   "id": "c4599073-9fe6-46aa-9c5a-697081152324",
   "metadata": {},
   "outputs": [],
   "source": [
    "gdf = gdf.set_index('id')"
   ]
  },
  {
   "cell_type": "code",
   "execution_count": null,
   "id": "1ecdc745-7269-49cc-a237-37daf5a38a91",
   "metadata": {},
   "outputs": [],
   "source": [
    "interestVar = ['restaurant',\n",
    "       'culture and art', 'education', 'food_shops', 'fashion_beauty',\n",
    "       'supply_shops']\n",
    "clusterVar = [var+\"_access_normalized\" for var in interestVar]#+interestVar\n",
    "X = gdf[clusterVar]\n",
    "X = X.drop(woods)\n",
    "inmur = gdf.drop(woods)"
   ]
  },
  {
   "cell_type": "code",
   "execution_count": null,
   "id": "50ccb247-9d1b-460b-a15b-fbe3e754c905",
   "metadata": {},
   "outputs": [],
   "source": [
    "X.describe()"
   ]
  },
  {
   "cell_type": "code",
   "execution_count": null,
   "id": "974d1636-0dca-454a-aa19-c811de63ad8f",
   "metadata": {},
   "outputs": [],
   "source": [
    "visualizer = KElbowVisualizer(MiniBatchKMeans(random_state=1), k=(2,12))\n",
    "visualizer.fit(X.values)\n",
    "visualizer.show()"
   ]
  },
  {
   "cell_type": "markdown",
   "id": "577d8c3f-413d-416b-a87b-45c5409b7c34",
   "metadata": {},
   "source": [
    "We get an elbow at around 5."
   ]
  },
  {
   "cell_type": "code",
   "execution_count": null,
   "id": "9b155463-d3aa-40d7-ae70-968e48e5be0f",
   "metadata": {},
   "outputs": [],
   "source": [
    "visualizer = KElbowVisualizer(MiniBatchKMeans(random_state=1), k=(2,12), metric=\"silhouette\")\n",
    "visualizer.fit(X.values)\n",
    "visualizer.show()"
   ]
  },
  {
   "cell_type": "code",
   "execution_count": null,
   "id": "23ffbb44-fc07-4383-92b8-1c625cd66dc0",
   "metadata": {},
   "outputs": [],
   "source": [
    "km = MiniBatchKMeans(n_clusters=5, random_state=1)\n",
    "inmur[\"label\"] = km.fit_predict(X.values)"
   ]
  },
  {
   "cell_type": "code",
   "execution_count": null,
   "id": "b66bb5a5-c3d6-431a-9bfc-962fe7e7236b",
   "metadata": {},
   "outputs": [],
   "source": [
    "hs.folium_color_map(inmur,'label', discrete = True)"
   ]
  },
  {
   "cell_type": "code",
   "execution_count": null,
   "id": "9bbf3261-545a-4fce-886c-e71c9ebc43a1",
   "metadata": {},
   "outputs": [],
   "source": [
    "reload(hs)"
   ]
  },
  {
   "cell_type": "code",
   "execution_count": null,
   "id": "f687b759-6b5b-4732-adfb-d8a3ebc9504b",
   "metadata": {},
   "outputs": [],
   "source": [
    "km = MiniBatchKMeans(n_clusters=2, random_state=1)\n",
    "inmur[\"label\"] = km.fit_predict(X.values)"
   ]
  },
  {
   "cell_type": "code",
   "execution_count": null,
   "id": "6c5c8690-7e71-425f-a95f-fc268ffb501d",
   "metadata": {
    "scrolled": true
   },
   "outputs": [],
   "source": [
    "hs.folium_color_map(inmur,'label', discrete = True)"
   ]
  },
  {
   "cell_type": "markdown",
   "id": "781f83ba-8008-48d5-89df-be443a124ec6",
   "metadata": {},
   "source": [
    "## Clustering on just one variable "
   ]
  },
  {
   "cell_type": "code",
   "execution_count": null,
   "id": "1e8949c9-3d02-4397-bbbe-7d7791b7a9e4",
   "metadata": {},
   "outputs": [],
   "source": [
    "X = gdf[[\"CS_aggregated\"]]\n",
    "X = X.drop(woods)"
   ]
  },
  {
   "cell_type": "code",
   "execution_count": null,
   "id": "56c1cea2-9c60-4d7d-8c2d-5084123669fb",
   "metadata": {},
   "outputs": [],
   "source": [
    "visualizer = KElbowVisualizer(MiniBatchKMeans(random_state=1), k=(2,12), metric=\"silhouette\")\n",
    "visualizer.fit(X.values)\n",
    "visualizer.show()"
   ]
  },
  {
   "cell_type": "code",
   "execution_count": null,
   "id": "01794679-6c37-4acb-b66d-255cd888a81d",
   "metadata": {
    "scrolled": true
   },
   "outputs": [],
   "source": [
    "visualizer = KElbowVisualizer(MiniBatchKMeans(random_state=1), k=(2,12))\n",
    "visualizer.fit(X.values)\n",
    "visualizer.show()"
   ]
  },
  {
   "cell_type": "code",
   "execution_count": null,
   "id": "3bdcb3af-2108-4f52-aeaa-4ae29bf90d78",
   "metadata": {},
   "outputs": [],
   "source": [
    "km = MiniBatchKMeans(n_clusters=5, random_state=1)\n",
    "inmur[\"label\"] = km.fit_predict(X.values)"
   ]
  },
  {
   "cell_type": "code",
   "execution_count": null,
   "id": "0d78a5a3-ba0a-47c1-84e5-f9d1bea7e50f",
   "metadata": {},
   "outputs": [],
   "source": [
    "hs.folium_color_map(inmur,'label', discrete = True)"
   ]
  },
  {
   "cell_type": "code",
   "execution_count": null,
   "id": "5aafd50d-54f7-473c-9395-aa66f12d4a86",
   "metadata": {},
   "outputs": [],
   "source": [
    "km = MiniBatchKMeans(n_clusters=2, random_state=1)\n",
    "inmur[\"label\"] = km.fit_predict(X.values)"
   ]
  },
  {
   "cell_type": "code",
   "execution_count": null,
   "id": "2307d206-beb2-4eef-9a41-477012bb70d2",
   "metadata": {},
   "outputs": [],
   "source": [
    "hs.folium_color_map(inmur,'label', discrete = True)"
   ]
  },
  {
   "cell_type": "markdown",
   "id": "3f3ae515-b4d1-4dac-929d-61dfc0def479",
   "metadata": {},
   "source": [
    "## Clustering excluding access to housing:"
   ]
  },
  {
   "cell_type": "markdown",
   "id": "2764cef1-b68b-4d00-b82b-dcd8125213ae",
   "metadata": {},
   "source": [
    "interestingly enough we get education as the most important thing ??"
   ]
  },
  {
   "cell_type": "code",
   "execution_count": null,
   "id": "b4c2a4b4-fb21-4530-8ae7-34f07202fc93",
   "metadata": {},
   "outputs": [],
   "source": [
    "inmur['Ind_mineur'] =100* (inmur['Ind_0_3']+inmur['Ind_4_5']+inmur['Ind_6_10']+inmur['Ind_11_17'])/inmur['Ind']\n",
    "inmur['Ind_jeune']= 100*inmur['Ind_18_24']/inmur['Ind']\n",
    "inmur['Ind_actif'] = 100*(inmur['Ind_25_39']+inmur['Ind_40_54']+inmur['Ind_55_64'])/inmur['Ind']\n",
    "inmur['Ind_old'] = 100*(inmur['Ind_65_79']+inmur['Ind_80p']+inmur['Ind_55_64'])/inmur['Ind']\n",
    "inmur['Men_pauv_rela'] =100* inmur['Men_pauv']/inmur['Men']\n",
    "inmur['Men_1ind_rela'] =100* inmur['Men_1ind']/inmur['Men']\n",
    "inmur['Men_5ind_rela'] = 100*inmur['Men_5ind']/inmur['Men']\n",
    "inmur['Men_prop_rela'] = 100*inmur['Men_prop']/inmur['Men']\n",
    "inmur['Men_fmp_rela'] = 100*inmur['Men_fmp']/inmur['Men']\n",
    "inmur['mean_Ind_snv'] = inmur['Ind_snv']/inmur['Ind'] "
   ]
  },
  {
   "cell_type": "code",
   "execution_count": null,
   "id": "20fa4dab-d71b-4d2a-981d-96d0d3d80502",
   "metadata": {},
   "outputs": [],
   "source": [
    "varSocioEco = ['Men_pauv_rela', 'Men_1ind_rela',\n",
    "       'Men_5ind_rela', 'Men_prop_rela', 'Men_fmp_rela','Ind', 'mean_Ind_snv','Ind_mineur', \n",
    "       'Ind_jeune', 'Ind_actif', 'Ind_old']"
   ]
  },
  {
   "cell_type": "code",
   "execution_count": null,
   "id": "79878cf2-8358-4ec0-91b7-6d1f48ae944a",
   "metadata": {},
   "outputs": [],
   "source": [
    "dico_var = {'Ind' : \"Nombre d’individus\",\n",
    "'Men' : \"Nombre de ménages\",\n",
    "'Men_pauv' : \"Nombre de ménages pauvres\",\n",
    "'Men_1ind' : \"Nombre de ménages d’un seul individu\",\n",
    "'Men_5ind' : \"Nombre de ménages de 5 individus ou plus\",\n",
    "'Men_prop' : \"Nombre de ménages propriétaires\",\n",
    "'Men_fmp' : \"Nombre de ménages monoparentaux\",\n",
    "'Men_pauv_rela' : \"% de ménages pauvres\",\n",
    "'Men_1ind_rela' : \"% de ménages d’un seul individu\",\n",
    "'Men_5ind_rela' : \"% de ménages de 5 individus ou plus\",\n",
    "'Men_prop_rela' : \"% de ménages propriétaires\",\n",
    "'Men_fmp_rela' : \"% de ménages monoparentaux\",\n",
    "'Ind_snv' : \"Somme des niveaux de vie winsorisés des individus\",\n",
    "'mean_Ind_snv' : \"Moyenne des niveaux de vie winsorisés des individus\",\n",
    "'Ind_0_3' : \"Nombre d’individus de 0 à 3 ans\",\n",
    "'Ind_4_5' : \"Nombre d’individus de 4 à 5 ans\",\n",
    "'Ind_6_10' : \"Nombre d’individus de 6 à 10 ans\",\n",
    "'Ind_11_17' : \"Nombre d’individus de 11 à 17 ans\",\n",
    "'Ind_18_24' : \"Nombre d’individus de 18 à 24 ans\",\n",
    "'Ind_25_39' : \"Nombre d’individus de 25 à 39 ans\",\n",
    "'Ind_40_54' : \"Nombre d’individus de 40 à 54 ans\",\n",
    "'Ind_55_64' : \"Nombre d’individus de 55 à 64 ans\",\n",
    "'Ind_65_79' : \"Nombre d’individus de 65 à 79 ans\",\n",
    "'Ind_80p' : \"Nombre d’individus de 80 ans ou plus\", \n",
    "'Ind_mineur' : \"% d’individus de 0 à 17 ans\",\n",
    "'Ind_jeune': \"% d’individus de 18 à 24 ans\",\n",
    "'Ind_actif' : \"% d’individus de 25 à 64 ans\",\n",
    "'Ind_old' :\"% d’individus de 65 ans ou plus\",\n",
    "'Log_access_normalized': '2SFCA Logements',\n",
    "'Log_soc_access_normalized': '2SFCA Logements sociaux',\n",
    "'restaurant_access_normalized': '2SFCA restaurants',\n",
    "'culture and art_access_normalized': '2SFCA culture and art',\n",
    "'education_access_normalized': '2SFCA education',\n",
    "'food_shops_access_normalized': '2SFCA food shops',\n",
    "'fashion_beauty_access_normalized': '2SFCA fashion beauty',\n",
    "'supply_shops_access_normalized': '2SFCA supply shops'\n",
    "}"
   ]
  },
  {
   "cell_type": "code",
   "execution_count": null,
   "id": "bee747de-d5be-48a5-bfba-1a6377ad4dcb",
   "metadata": {},
   "outputs": [],
   "source": [
    "base_bis = inmur[['label']+varSocioEco+clusterVar]\n",
    "hs.boxplots(base_bis,clusterVar,nb_cluster,dico_var=dico_var,ttest=False)"
   ]
  },
  {
   "cell_type": "code",
   "execution_count": null,
   "id": "18c807e6-774e-493d-a263-f8193748169c",
   "metadata": {},
   "outputs": [],
   "source": [
    "varSocioEcoShort = ['Men_pauv_rela','mean_Ind_snv', 'Ind_mineur',\n",
    " 'Ind_jeune',\n",
    " 'Ind_actif',\n",
    " 'Ind_old']"
   ]
  },
  {
   "cell_type": "code",
   "execution_count": null,
   "id": "0ac0019f-3d4f-4b0d-9802-350a02089eb2",
   "metadata": {},
   "outputs": [],
   "source": [
    "hs.boxplots(base_bis,varSocioEcoShort,nb_cluster,dico_var=dico_var,ttest=False)"
   ]
  }
 ],
 "metadata": {
  "kernelspec": {
   "display_name": "Python (batomouchenotebook)",
   "language": "python",
   "name": "batomouchenotebook"
  },
  "language_info": {
   "codemirror_mode": {
    "name": "ipython",
    "version": 3
   },
   "file_extension": ".py",
   "mimetype": "text/x-python",
   "name": "python",
   "nbconvert_exporter": "python",
   "pygments_lexer": "ipython3",
   "version": "3.11.7"
  }
 },
 "nbformat": 4,
 "nbformat_minor": 5
}
