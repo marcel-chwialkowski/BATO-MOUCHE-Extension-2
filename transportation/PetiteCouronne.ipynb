{
 "cells": [
  {
   "cell_type": "code",
   "execution_count": null,
   "id": "cdda852b-4dd5-417f-9bcd-384a63940970",
   "metadata": {},
   "outputs": [],
   "source": [
    "import os\n",
    "import sys\n",
    "sys.path.append(os.path.abspath(os.path.join(os.getcwd(), os.pardir)))\n",
    "os.environ['USE_PYGEOS'] = '0'\n",
    "import pysal.lib\n",
    "import helpers as hs\n",
    "from importlib import reload\n",
    "import folium\n",
    "import pandas as pd\n",
    "import geopandas as gpd"
   ]
  },
  {
   "cell_type": "code",
   "execution_count": null,
   "id": "93923baa-2840-4fd8-9eb4-953011f20209",
   "metadata": {},
   "outputs": [],
   "source": [
    "%cd ../data"
   ]
  },
  {
   "cell_type": "markdown",
   "id": "5a827240-9a50-4892-859a-aabda0e67329",
   "metadata": {},
   "source": [
    "Read geopackage - important to use this instead of read_csv!!!"
   ]
  },
  {
   "cell_type": "code",
   "execution_count": null,
   "id": "6584f13a-70fc-47fc-b23b-293dd4f6cc74",
   "metadata": {},
   "outputs": [],
   "source": [
    "pc_gdf = gpd.read_file(\"pc_gdf.gpkg\", layer=\"cool\")"
   ]
  },
  {
   "cell_type": "code",
   "execution_count": null,
   "id": "2b838f4a-c6fc-4734-9d82-ddcb8645a22d",
   "metadata": {},
   "outputs": [],
   "source": [
    "import r5py\n",
    "import shapely"
   ]
  },
  {
   "cell_type": "code",
   "execution_count": null,
   "id": "e4b2edea-771b-44c1-b971-d3751e4b594c",
   "metadata": {},
   "outputs": [],
   "source": [
    "transport_network = r5py.TransportNetwork(\"petite-couronne.pbf\", [\"IDFM.gtfs.zip\"])"
   ]
  },
  {
   "cell_type": "code",
   "execution_count": null,
   "id": "0a823e1d-0729-4dbf-8176-fdbcc2670c66",
   "metadata": {},
   "outputs": [],
   "source": [
    "pc_gdf.columns"
   ]
  },
  {
   "cell_type": "code",
   "execution_count": null,
   "id": "84968e86-5768-4ad7-af72-0f9aac6c3669",
   "metadata": {},
   "outputs": [],
   "source": [
    "hs.folium_grid_cat_plot(pc_gdf,\"restaurant\")"
   ]
  },
  {
   "cell_type": "code",
   "execution_count": null,
   "id": "c1afd1bb-7941-41f1-b8b3-717af957f4f4",
   "metadata": {},
   "outputs": [],
   "source": [
    "import datetime\n",
    "import time"
   ]
  },
  {
   "cell_type": "code",
   "execution_count": null,
   "id": "e1714767-885d-4e13-b83b-e9c244ebf831",
   "metadata": {},
   "outputs": [],
   "source": [
    "pc_gdf.head()\n",
    "pc_gdf.rename(columns={'IdINSPIRE':'id'}, inplace = True)"
   ]
  },
  {
   "cell_type": "code",
   "execution_count": null,
   "id": "d5ca7854-c45e-445c-872e-3cbbcb052489",
   "metadata": {},
   "outputs": [],
   "source": [
    "pc_gdf.columns"
   ]
  },
  {
   "cell_type": "code",
   "execution_count": null,
   "id": "c4d15ee5-8acd-4b20-a3bc-f985d6f6504a",
   "metadata": {},
   "outputs": [],
   "source": [
    "pc_gdf['Log'] = pc_gdf['Log_inc'] + pc_gdf['Log_av45'] + pc_gdf['Log_45_70'] + pc_gdf['Log_70_90'] + pc_gdf['Log_ap90']\n"
   ]
  },
  {
   "cell_type": "code",
   "execution_count": null,
   "id": "deb0bba6-4f11-4782-883f-3be2242dc9a1",
   "metadata": {},
   "outputs": [],
   "source": [
    "pc_gdf_centered = pc_gdf.copy()\n",
    "pc_gdf_centered['geometry'] = pc_gdf_centered['geometry'].apply(lambda x : x.centroid)\n",
    "\n",
    "travel_time_matrix_computer = r5py.TravelTimeMatrixComputer(\n",
    "    transport_network,\n",
    "    origins=pc_gdf_centered,\n",
    "    destinations=pc_gdf_centered,\n",
    "    departure=datetime.datetime(2024,10,8,11,59),\n",
    "    transport_modes=[\n",
    "        r5py.TransportMode.TRANSIT,\n",
    "        r5py.TransportMode.WALK,\n",
    "    ],\n",
    ")"
   ]
  },
  {
   "cell_type": "code",
   "execution_count": null,
   "id": "8db53b58-43a7-478a-b9da-cbaa64e012d0",
   "metadata": {},
   "outputs": [],
   "source": [
    "travel_times = travel_time_matrix_computer.compute_travel_times()"
   ]
  },
  {
   "cell_type": "markdown",
   "id": "ba414264-34ca-4795-81f9-28e33254c0f1",
   "metadata": {},
   "source": [
    "it took me like max1h to do this!!!"
   ]
  },
  {
   "cell_type": "code",
   "execution_count": null,
   "id": "90eea409-bfa2-4aa9-b807-668042f1417d",
   "metadata": {},
   "outputs": [],
   "source": [
    "travel_times.to_csv(\"travel_times_pc.csv\")"
   ]
  },
  {
   "cell_type": "code",
   "execution_count": null,
   "id": "98063897-300b-4261-a8e2-75ca7d02f2b2",
   "metadata": {},
   "outputs": [],
   "source": [
    "travel_times_square = hs.vert_to_square(travel_times)"
   ]
  },
  {
   "cell_type": "code",
   "execution_count": null,
   "id": "e1e9ff12-81c8-44f8-9d1c-81422fd29d84",
   "metadata": {},
   "outputs": [],
   "source": [
    "travel_times_square.head()"
   ]
  },
  {
   "cell_type": "code",
   "execution_count": null,
   "id": "c16dcb4b-6f27-4be0-abf9-5f88c41846eb",
   "metadata": {},
   "outputs": [],
   "source": [
    "reload(hs)"
   ]
  },
  {
   "cell_type": "code",
   "execution_count": null,
   "id": "28d2e202-a1a1-4885-8c52-248e6d44ae08",
   "metadata": {},
   "outputs": [],
   "source": [
    "weights_by_id = hs.transfer_time_to_weight_faster(travel_times_square)"
   ]
  },
  {
   "cell_type": "code",
   "execution_count": null,
   "id": "20102a7d-3903-4e3a-89ea-204dbd74f65b",
   "metadata": {},
   "outputs": [],
   "source": [
    "weights_by_id.head()"
   ]
  },
  {
   "cell_type": "code",
   "execution_count": null,
   "id": "57c82782-97f4-4570-8f1f-4e35d2a691ed",
   "metadata": {},
   "outputs": [],
   "source": [
    "df_reset = weights_by_id.reset_index()"
   ]
  },
  {
   "cell_type": "code",
   "execution_count": null,
   "id": "5eccb236-e0cf-4fee-b26d-361c795a934d",
   "metadata": {},
   "outputs": [],
   "source": [
    "df_reset.head()"
   ]
  },
  {
   "cell_type": "code",
   "execution_count": null,
   "id": "b9a518e2-865c-47b4-8087-e541c4c283e7",
   "metadata": {},
   "outputs": [],
   "source": [
    "value = 'CRS3035RES200mN2890000E3760400'\n",
    "losc = df_reset.where(df_reset == value).stack().index.tolist()\n",
    "print(losc)\n",
    "\n",
    "example = pc_gdf[[\"geometry\", \"id\"]].assign(weight_0 = df_reset.iloc[losc[0][0],1:].values)#\n",
    "example"
   ]
  },
  {
   "cell_type": "code",
   "execution_count": null,
   "id": "c782db19-6326-4e9b-b8a9-f4e03068c141",
   "metadata": {},
   "outputs": [],
   "source": [
    "hs.folium_color_map(example, \"weight_0\")"
   ]
  },
  {
   "cell_type": "code",
   "execution_count": null,
   "id": "5fc080ad-c5d6-411f-a6e5-8c23ec4a548a",
   "metadata": {},
   "outputs": [],
   "source": [
    "pc_gdf = pc_gdf.set_index('id')\n",
    "pc_gdf.head(2)hs"
   ]
  },
  {
   "cell_type": "code",
   "execution_count": null,
   "id": "cd66797d-0563-46ed-9515-97a22af71de4",
   "metadata": {},
   "outputs": [],
   "source": [
    "weights_by_id = weights_by_id.drop('index', axis=1)\n",
    "weights_by_id.head()"
   ]
  },
  {
   "cell_type": "code",
   "execution_count": null,
   "id": "25252d4c-5c27-430f-a398-5a9be0b3fce3",
   "metadata": {},
   "outputs": [],
   "source": [
    "weights_by_id = weights_by_id.reset_index()\n",
    "weights_by_id = weights_by_id.set_index('id')\n",
    "weights_by_id"
   ]
  },
  {
   "cell_type": "code",
   "execution_count": null,
   "id": "032d34df-b824-4612-a4c3-9e07031f1018",
   "metadata": {},
   "outputs": [],
   "source": [
    "interestVar = ['Log','Log_soc','restaurant',\n",
    "       'culture and art', 'education', 'food_shops', 'fashion_beauty',\n",
    "       'supply_shops']\n",
    "accessibility_measures = hs.calculate_2SFCA_accessibility(pc_gdf,interestVar,weights_by_id)"
   ]
  },
  {
   "cell_type": "code",
   "execution_count": null,
   "id": "d440e380-8c88-4a5d-84c2-4382fcd5c6ca",
   "metadata": {},
   "outputs": [],
   "source": [
    "for var in interestVar:\n",
    "    pc_gdf[var+\"_access\"] = accessibility_measures[var]"
   ]
  },
  {
   "cell_type": "code",
   "execution_count": null,
   "id": "7f8dad9e-4aec-4957-a169-6fc1819d90fc",
   "metadata": {},
   "outputs": [],
   "source": [
    "pc_gdf.columns"
   ]
  },
  {
   "cell_type": "code",
   "execution_count": null,
   "id": "c942a57e-f6f8-4eb5-8ca8-da4a28b3b2b5",
   "metadata": {},
   "outputs": [],
   "source": [
    "pc_gdf.head()"
   ]
  },
  {
   "cell_type": "code",
   "execution_count": null,
   "id": "4bb40136-7ee3-4473-87ba-c00f01f3c1e3",
   "metadata": {},
   "outputs": [],
   "source": [
    "interestVar2 = ['restaurant',\n",
    "       'culture and art', 'education', 'food_shops', 'fashion_beauty',\n",
    "       'supply_shops']\n",
    "for var in interestVar2:\n",
    "        pc_gdf[str(\"weight_\" + var)] = pc_gdf[var].sum()/(pc_gdf[interestVar2].sum(axis = 1).sum())"
   ]
  },
  {
   "cell_type": "code",
   "execution_count": null,
   "id": "13b64eb4-7deb-49df-95df-0c87aaf26c2a",
   "metadata": {},
   "outputs": [],
   "source": [
    "1 - pc_gdf[[str(\"weight_\" + var) for var in interestVar2]]"
   ]
  },
  {
   "cell_type": "markdown",
   "id": "ff7e25ff-a3bf-4310-be08-ff55a07ba3ae",
   "metadata": {},
   "source": [
    "## Calculating the aggregated 2SFCA score:"
   ]
  },
  {
   "cell_type": "code",
   "execution_count": null,
   "id": "552e124e-e6d9-45cb-9ec4-a58828c5b7c5",
   "metadata": {},
   "outputs": [],
   "source": [
    "for var in interestVar2 : \n",
    "    pc_gdf[str(var + \"_access\" + \"_norm*weight\")] = (pc_gdf[str(var + \"_access\")].apply(lambda x : (x - pc_gdf[str(var + \"_access\")].min())/(pc_gdf[str(var + \"_access\")].max() - pc_gdf[str(var + \"_access\")].min())))*(1 - pc_gdf[str(\"weight_\" + var)])"
   ]
  },
  {
   "cell_type": "code",
   "execution_count": null,
   "id": "da888c59-de4f-45b5-9aa1-566a2a21c37d",
   "metadata": {},
   "outputs": [],
   "source": [
    "for var in interestVar2 : \n",
    "    pc_gdf[str(var + \"_access\" + \"without_norm*weight\")] = (pc_gdf[str(var + \"_access\")].apply(lambda x : (x - pc_gdf[str(var + \"_access\")].min())/(pc_gdf[str(var + \"_access\")].max() - \n",
    "                                                                                                                                       pc_gdf[str(var + \"_access\")].min())))"
   ]
  },
  {
   "cell_type": "code",
   "execution_count": null,
   "id": "60802566-e790-4ed3-a589-e2fd8b762476",
   "metadata": {},
   "outputs": [],
   "source": [
    "pc_gdf[\"CS_aggregated\"] = pc_gdf[[i + \"_access_norm*weight\" for i in interestVar2]].sum(axis = 1) "
   ]
  },
  {
   "cell_type": "code",
   "execution_count": null,
   "id": "11123cca-94f1-4882-a165-d1256f7b33b5",
   "metadata": {},
   "outputs": [],
   "source": [
    "pc_gdf[\"CS_aggregated_without_weight\"] = pc_gdf[[i + \"_accesswithout_norm*weight\" for i in interestVar2]].sum(axis = 1) "
   ]
  },
  {
   "cell_type": "markdown",
   "id": "51d85000-adc9-4cc5-ac24-bbced1ff2ce1",
   "metadata": {},
   "source": [
    "# Results:"
   ]
  },
  {
   "cell_type": "markdown",
   "id": "8724c977-8246-4b77-b52b-c46ff3f28c61",
   "metadata": {},
   "source": [
    "## Without weights:"
   ]
  },
  {
   "cell_type": "code",
   "execution_count": null,
   "id": "424cf577-d64f-49a3-a558-28dc7cb67b93",
   "metadata": {},
   "outputs": [],
   "source": [
    "reload(hs)"
   ]
  },
  {
   "cell_type": "code",
   "execution_count": null,
   "id": "9013e8f7-d1b4-4eb3-a356-79aa0e994872",
   "metadata": {},
   "outputs": [],
   "source": [
    "pc_gdf.columns"
   ]
  },
  {
   "cell_type": "code",
   "execution_count": null,
   "id": "1ef81d32-94df-41ac-a0b1-6d931fb93c36",
   "metadata": {},
   "outputs": [],
   "source": [
    "hs.folium_color_map(pc_gdf,\"CS_aggregated_without_weight\")"
   ]
  },
  {
   "cell_type": "markdown",
   "id": "afdfbacc-f376-4b3f-b1bb-fa2d5b1c9486",
   "metadata": {},
   "source": [
    "## with weights:"
   ]
  },
  {
   "cell_type": "code",
   "execution_count": null,
   "id": "114ef0fc-d35b-43db-ae04-9788ca77574a",
   "metadata": {},
   "outputs": [],
   "source": [
    "hs.folium_color_map(pc_gdf,\"CS_aggregated\")"
   ]
  },
  {
   "cell_type": "code",
   "execution_count": null,
   "id": "8bbabbd4-e2c9-44b9-b5db-fed888e03406",
   "metadata": {},
   "outputs": [],
   "source": [
    "woods = [\"CRS3035RES200mN2891600E3754800\",\"CRS3035RES200mN2891600E3754400\",\"CRS3035RES200mN2891800E3754000\",\"CRS3035RES200mN2892000E3753800\",\n",
    "        \"CRS3035RES200mN2891800E3753200\",\"CRS3035RES200mN2891400E3753200\",\"CRS3035RES200mN2891600E3752000\",\"CRS3035RES200mN2891400E3752400\",\n",
    "        \"CRS3035RES200mN2891200E3751800\",\"CRS3035RES200mN2891000E3752200\",\"CRS3035RES200mN2890600E3752000\",\"CRS3035RES200mN2890000E3751400\",\n",
    "        \"CRS3035RES200mN2890200E3752600\",\"CRS3035RES200mN2889400E3752600\",\"CRS3035RES200mN2890600E3753600\",\"CRS3035RES200mN2890000E3753200\",\n",
    "        \"CRS3035RES200mN2889800E3753600\",\"CRS3035RES200mN2890400E3754000\",\"CRS3035RES200mN2890200E3754000\",\"CRS3035RES200mN2893000E3764400\",\n",
    "        \"CRS3035RES200mN2887000E3754400\",\"CRS3035RES200mN2887000E3754600\",\"CRS3035RES200mN2887200E3754800\",\"CRS3035RES200mN2887400E3754800\",\n",
    "        \"CRS3035RES200mN2885600E3762800\",\"CRS3035RES200mN2885600E3764600\",\"CRS3035RES200mN2886200E3765200\",\"CRS3035RES200mN2886400E3765400\",\n",
    "        \"CRS3035RES200mN2885600E3765400\",\"CRS3035RES200mN2886000E3765800\",\"CRS3035RES200mN2886400E3766200\",\"CRS3035RES200mN2886600E3766400\",\n",
    "        \"CRS3035RES200mN2886400E3766800\",\"CRS3035RES200mN2886600E3766800\",\"CRS3035RES200mN2886600E3767000\",\"CRS3035RES200mN2886600E3767200\",\n",
    "        \"CRS3035RES200mN2886400E3767600\",\"CRS3035RES200mN2886400E3768000\",\"CRS3035RES200mN2886600E3768200\",\"CRS3035RES200mN2886000E3767000\",\n",
    "        \"CRS3035RES200mN2886000E3767600\",\"CRS3035RES200mN2885600E3768000\",\"CRS3035RES200mN2885000E3767000\",\"CRS3035RES200mN2885000E3767400\",\n",
    "        \"CRS3035RES200mN2885000E3768200\",\"CRS3035RES200mN2884600E3768200\",\"CRS3035RES200mN2884400E3768000\"]"
   ]
  },
  {
   "cell_type": "code",
   "execution_count": null,
   "id": "049baa24-c6da-432f-a22b-cbe086835f9c",
   "metadata": {},
   "outputs": [],
   "source": [
    "interestVar = ['Log_soc']\n",
    "clusterVar = [var+\"_access\" for var in interestVar]#+interestVar\n",
    "X = pc_gdf[clusterVar]\n",
    "X = X.drop(woods)\n",
    "inmur = pc_gdf.drop(woods)"
   ]
  },
  {
   "cell_type": "code",
   "execution_count": null,
   "id": "83c48e66-cd1f-43c4-845c-b4f2875d28f9",
   "metadata": {},
   "outputs": [],
   "source": [
    "from pysal.lib import weights\n",
    "\n",
    "w_queen = weights.contiguity.Queen.from_dataframe(inmur)\n",
    "from sklearn.pipeline import Pipeline\n",
    "from sklearn.preprocessing import StandardScaler\n",
    "from sklearn.cluster import AgglomerativeClustering\n",
    "import numpy as np\n",
    "mat = X.values\n",
    "\n",
    "pipe = Pipeline(steps=[('preprocessor', StandardScaler),\n",
    "                      ('clustering', AgglomerativeClustering)])\n",
    "\n",
    "scaler = pipe['preprocessor']()\n",
    "scaler.fit(X=mat)\n",
    "mat = scaler.transform(mat)\n",
    "nb_cluster = 10\n",
    "clustering = pipe['clustering'](compute_full_tree= True, n_clusters=nb_cluster, connectivity = w_queen.sparse, linkage='ward')\n",
    "#clustering = pipe['clustering'](n_clusters = nb_cluster,connectivity = w_queen.symmetrize().full()[0])\n",
    "clustering.fit(mat)\n",
    "inmur[\"label\"] = clustering.labels_\n"
   ]
  },
  {
   "cell_type": "code",
   "execution_count": null,
   "id": "03596d6a-7e79-49c7-a7ec-8825345d4687",
   "metadata": {},
   "outputs": [],
   "source": [
    "hs.folium_color_map(inmur,'label', discrete=True)"
   ]
  },
  {
   "cell_type": "code",
   "execution_count": null,
   "id": "510a6c5b-6fc4-422c-a294-e2147e4ffcd5",
   "metadata": {},
   "outputs": [],
   "source": []
  }
 ],
 "metadata": {
  "kernelspec": {
   "display_name": "Python (batomouchekurwa)",
   "language": "python",
   "name": "batomouchekurwa"
  },
  "language_info": {
   "codemirror_mode": {
    "name": "ipython",
    "version": 3
   },
   "file_extension": ".py",
   "mimetype": "text/x-python",
   "name": "python",
   "nbconvert_exporter": "python",
   "pygments_lexer": "ipython3",
   "version": "3.11.7"
  }
 },
 "nbformat": 4,
 "nbformat_minor": 5
}
