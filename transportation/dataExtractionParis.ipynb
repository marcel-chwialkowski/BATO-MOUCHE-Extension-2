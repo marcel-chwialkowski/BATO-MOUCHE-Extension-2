{
 "cells": [
  {
   "cell_type": "raw",
   "id": "4240bdfb-f584-4096-823c-53e2cec4b971",
   "metadata": {},
   "source": [
    "# Setup"
   ]
  },
  {
   "cell_type": "code",
   "execution_count": null,
   "id": "946ebae7-a682-49e1-abfe-1b2bf6a0e97e",
   "metadata": {},
   "outputs": [],
   "source": [
    "import os\n",
    "import sys\n",
    "sys.path.append(os.path.abspath(os.path.join(os.getcwd(), os.pardir)))\n",
    "os.environ['USE_PYGEOS'] = '0'\n",
    "import pysal.lib\n",
    "import helpers as hs\n",
    "from importlib import reload\n",
    "import folium\n",
    "import pandas as pd\n",
    "import geopandas as gpd"
   ]
  },
  {
   "cell_type": "markdown",
   "id": "4e6b3a4d-2e19-46d5-9e5e-885cccd0edc0",
   "metadata": {},
   "source": [
    "2. Load the filosofi file and build the dataframe"
   ]
  },
  {
   "cell_type": "code",
   "execution_count": null,
   "id": "0469e1d0-7cff-4b80-ade5-e1d002c10343",
   "metadata": {},
   "outputs": [],
   "source": [
    "cd ../data"
   ]
  },
  {
   "cell_type": "code",
   "execution_count": null,
   "id": "c00e96e7-bf24-4bfc-951d-eec5b1270b3b",
   "metadata": {},
   "outputs": [],
   "source": [
    "import py7zr\n",
    "with py7zr.SevenZipFile('Filosofi2015_carreaux_200m_gpkg.7z', mode='r') as z:\n",
    "    z.extractall()"
   ]
  },
  {
   "cell_type": "code",
   "execution_count": null,
   "id": "26ce5ad6-c95e-42aa-b3b0-e8b95a5e11aa",
   "metadata": {},
   "outputs": [],
   "source": [
    "gdf = gpd.read_file(\"Filosofi2015_carreaux_200m_metropole.gpkg\")"
   ]
  },
  {
   "cell_type": "code",
   "execution_count": null,
   "id": "e4649da6-ce36-4d7e-9665-eb3924454f37",
   "metadata": {},
   "outputs": [],
   "source": [
    "gdfParis = gdf[gdf['Depcom'].str[:2].isin([\"75\"])]"
   ]
  },
  {
   "cell_type": "code",
   "execution_count": null,
   "id": "0e48dc25-45e2-44d8-9a17-3cab1e25d32d",
   "metadata": {},
   "outputs": [],
   "source": [
    "gdfParis.to_file(\"Filosofi2015_carreaux_200m_Paris.gpkg\")"
   ]
  },
  {
   "cell_type": "code",
   "execution_count": null,
   "id": "50648c72-ae16-4977-a89e-08365d12623f",
   "metadata": {
    "scrolled": true
   },
   "outputs": [],
   "source": [
    "filosofi_file = \"Filosofi2015_carreaux_200m_Paris.gpkg\" \n",
    "pgdf = hs.get_POI_cat_on_INSPIRE_grid(filosofi_file) "
   ]
  },
  {
   "cell_type": "code",
   "execution_count": null,
   "id": "166d1f76-5186-4689-8d10-bc7f5fca1fcb",
   "metadata": {},
   "outputs": [],
   "source": [
    "pgdf.to_file(\"pgdf.gpkg\", layer=\"cool\", driver=\"GPKG\")"
   ]
  },
  {
   "cell_type": "markdown",
   "id": "e768f86f-2862-47ce-a92a-e5d188a4a302",
   "metadata": {},
   "source": [
    "3. Create the r5 transport network"
   ]
  },
  {
   "cell_type": "code",
   "execution_count": null,
   "id": "dba1e47e-16a7-4eb6-b337-3affbc5ad999",
   "metadata": {},
   "outputs": [],
   "source": [
    "transport_network = r5py.TransportNetwork(\"paris_expr.pbf\", [\"IDFM.gtfs.zip\"])"
   ]
  },
  {
   "cell_type": "markdown",
   "id": "5ccdd99f-3c02-4f40-a65d-b2b02b8f7a03",
   "metadata": {},
   "source": [
    "Example: Visual presentation of number of restaurants in each square."
   ]
  },
  {
   "cell_type": "code",
   "execution_count": null,
   "id": "e33f59ac-4cd9-493a-8aa3-2ade7b87269b",
   "metadata": {},
   "outputs": [],
   "source": [
    "hs.folium_color_map(pgdf, \"restaurant\")"
   ]
  },
  {
   "cell_type": "code",
   "execution_count": null,
   "id": "24ee84a7-5855-4cd7-9c65-af4baab4b0a2",
   "metadata": {},
   "outputs": [],
   "source": [
    "import datetime\n",
    "import time"
   ]
  },
  {
   "cell_type": "code",
   "execution_count": null,
   "id": "2c272874-3544-4741-a36d-9fe1f586727a",
   "metadata": {},
   "outputs": [],
   "source": [
    "pgdf_centered = pgdf.copy()\n",
    "pgdf_centered['geometry'] = pgdf_centered['geometry'].apply(lambda x : x.centroid)\n",
    "\n",
    "travel_time_matrix_computer = r5py.TravelTimeMatrixComputer(\n",
    "    transport_network,\n",
    "    origins=pgdf_centered,\n",
    "    destinations=pgdf_centered,\n",
    "    departure=datetime.datetime(2024,10,8,11,59),\n",
    "    transport_modes=[\n",
    "        r5py.TransportMode.TRANSIT,\n",
    "        r5py.TransportMode.WALK,\n",
    "    ],\n",
    ")"
   ]
  },
  {
   "cell_type": "markdown",
   "id": "f609f18f-9844-4c0b-a57c-11ff9efaaa47",
   "metadata": {},
   "source": [
    "This computation takes around half an hour, for *just* Paris. Therefore, it can probably perform a similar computation for the Petite-Couronne region in reasonable time."
   ]
  },
  {
   "cell_type": "code",
   "execution_count": null,
   "id": "e144bc6b-13a7-4fa1-bae4-985418395b3a",
   "metadata": {},
   "outputs": [],
   "source": [
    "travel_times = travel_time_matrix_computer.compute_travel_times()"
   ]
  },
  {
   "cell_type": "code",
   "execution_count": null,
   "id": "a086b816-362d-4b5d-bfe9-b45c0dc13740",
   "metadata": {},
   "outputs": [],
   "source": [
    "travel_times.to_csv(\"travel_times.csv\")"
   ]
  },
  {
   "cell_type": "markdown",
   "id": "36e7349e-a744-4eff-8833-dbb82f0edbe0",
   "metadata": {},
   "source": [
    "To not run the computation again, results are given here:"
   ]
  },
  {
   "cell_type": "code",
   "execution_count": null,
   "id": "189d5f66-e3a4-493e-9c5f-a5b80c954013",
   "metadata": {},
   "outputs": [],
   "source": [
    "travel_times_vert = pd.read_csv(\"testtest.csv\")"
   ]
  },
  {
   "cell_type": "markdown",
   "id": "9249d82d-cbb5-4756-a9a5-af82f67280cc",
   "metadata": {},
   "source": [
    "Auxilliary function changes them to the same format to adapt to what the previous work uses:"
   ]
  },
  {
   "cell_type": "code",
   "execution_count": null,
   "id": "8a4fb8b2-51d1-4316-8739-dc07f6516bd5",
   "metadata": {},
   "outputs": [],
   "source": [
    "travel_times_square = hs.vert_to_square(travel_times_vert)\n"
   ]
  },
  {
   "cell_type": "markdown",
   "id": "6e225065-99d5-4429-9eef-4de5fb3064d9",
   "metadata": {},
   "source": [
    "**Important**: reading and writing to csv was done sometimes throughout the work, but it changes the dimensions of the dataframe by 1. Therefore, the function should adapt to accommodate both, but it doesn't yet. For running the code below, please use the imported .csv file.\n",
    "\n",
    "*Note that further ahead there is another csv import, so this portion of the code can be safely skipped!*"
   ]
  },
  {
   "cell_type": "code",
   "execution_count": null,
   "id": "95f32cbf-281b-4b2a-9ecd-d6bda63a31f5",
   "metadata": {},
   "outputs": [],
   "source": [
    "travel_times_square = pd.read_csv(\"travel_times_square.csv\")"
   ]
  },
  {
   "cell_type": "code",
   "execution_count": null,
   "id": "4b09f2b9-d848-4ec5-9bb4-78439815e11d",
   "metadata": {},
   "outputs": [],
   "source": [
    "travel_times_square = travel_times_square.set_index('id')"
   ]
  },
  {
   "cell_type": "code",
   "execution_count": null,
   "id": "bea7e9e8-3cd3-48a0-b195-2a06248f5e49",
   "metadata": {
    "scrolled": true
   },
   "outputs": [],
   "source": [
    "weights_by_id = hs.transfer_time_to_weight_faster(travel_times_square)"
   ]
  },
  {
   "cell_type": "code",
   "execution_count": null,
   "id": "dd522875-93c2-4d23-ad22-c63f18a88ce1",
   "metadata": {},
   "outputs": [],
   "source": [
    "weights_by_id = pd.read_csv(\"weights_by_id.csv\")\n",
    "weights_by_id.columns\n",
    "weights_by_id = weights_by_id.drop('Unnamed: 0', axis=1)\n",
    "#weights_by_id = weights_by_id.set_index('id')"
   ]
  },
  {
   "cell_type": "code",
   "execution_count": null,
   "id": "e5b446d9-0619-427c-a3d8-6e89d3568b11",
   "metadata": {},
   "outputs": [],
   "source": [
    "weights_by_id.head()"
   ]
  },
  {
   "cell_type": "markdown",
   "id": "88b74404-7ff9-422f-8abe-834fae333521",
   "metadata": {},
   "source": [
    "## Example: weights from the square containing Chatelet Les-Halles station"
   ]
  },
  {
   "cell_type": "code",
   "execution_count": null,
   "id": "da181920-37d2-461a-bb0c-d97d7d25863a",
   "metadata": {},
   "outputs": [],
   "source": [
    "value = 'CRS3035RES200mN2890000E3760400'\n",
    "losc = weights_by_id.where(weights_by_id == value).stack().index.tolist()\n",
    "\n",
    "example = pgdf[[\"geometry\", \"id\"]].assign(weight_0 = weights_by_id.iloc[losc[0][0],1:].values)\n",
    "example"
   ]
  },
  {
   "cell_type": "code",
   "execution_count": null,
   "id": "52597540-d044-4f12-b21c-e0d9753a5a7b",
   "metadata": {},
   "outputs": [],
   "source": [
    "hs.folium_color_map(example, \"weight_0\")"
   ]
  },
  {
   "cell_type": "markdown",
   "id": "e9c330f4-67cd-490e-a5a3-5d1e70890830",
   "metadata": {},
   "source": [
    "We can verify now that the results make sense: Observe that the outliers with higher weights correspond closely to metro stops. Moreover, the map above doesn't consider all the transit lines, but the results do, which explains some other outliers (Consider Alesia and Porte d'Orleans, which on the map have slightly higher weights than their surrounding area, which probably results from them being located close to metro stations, which are not shown on the map)."
   ]
  }
 ],
 "metadata": {
  "kernelspec": {
   "display_name": "Python (batomouchenotebook)",
   "language": "python",
   "name": "batomouchenotebook"
  },
  "language_info": {
   "codemirror_mode": {
    "name": "ipython",
    "version": 3
   },
   "file_extension": ".py",
   "mimetype": "text/x-python",
   "name": "python",
   "nbconvert_exporter": "python",
   "pygments_lexer": "ipython3",
   "version": "3.11.7"
  }
 },
 "nbformat": 4,
 "nbformat_minor": 5
}
