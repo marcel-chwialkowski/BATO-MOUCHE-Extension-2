{
 "cells": [
  {
   "cell_type": "markdown",
   "id": "950061c0-2bb6-409f-b4ce-cec1c6d743ff",
   "metadata": {},
   "source": [
    "# Regression for the Petite Couronne region"
   ]
  },
  {
   "cell_type": "markdown",
   "id": "522065b7-1897-4d4f-930e-1712fc22e6b7",
   "metadata": {},
   "source": [
    "Correlation doesnt require any sort of regression. Then we just want to find a fine predictor."
   ]
  },
  {
   "cell_type": "markdown",
   "id": "1e131d92-67e9-4561-964b-030d99f2caae",
   "metadata": {},
   "source": [
    "We investigate the correlation between the aggregated 2SFCA score and mean income in the Petite Couronne region"
   ]
  },
  {
   "cell_type": "code",
   "execution_count": null,
   "id": "ae6dd915-5fc9-40b7-81c7-d4aa00b85949",
   "metadata": {},
   "outputs": [],
   "source": [
    "gdf_name = \"results_pcparis.gpkg\" "
   ]
  },
  {
   "cell_type": "code",
   "execution_count": null,
   "id": "1085a17f-4723-4dfb-b157-61aeb9162adc",
   "metadata": {},
   "outputs": [],
   "source": [
    "import os\n",
    "import sys\n",
    "sys.path.append(os.path.abspath(os.path.join(os.getcwd(), os.pardir)))\n",
    "os.environ['USE_PYGEOS'] = '0'\n",
    "import pysal.lib\n",
    "import helpers as hs\n",
    "from importlib import reload\n",
    "import folium\n",
    "import pandas as pd\n",
    "import geopandas as gpd\n",
    "import matplotlib.pyplot as plt\n",
    "import numpy as np"
   ]
  },
  {
   "cell_type": "code",
   "execution_count": null,
   "id": "d776db43-cec2-4e6e-87cf-3e78eacf745e",
   "metadata": {},
   "outputs": [],
   "source": [
    "%cd ../data\n",
    "gdf = gpd.read_file(gdf_name, layer=\"cool\")"
   ]
  },
  {
   "cell_type": "markdown",
   "id": "eff74f41-e862-435e-b528-2242aa8c523d",
   "metadata": {},
   "source": [
    "## Regression with single variable"
   ]
  },
  {
   "cell_type": "code",
   "execution_count": null,
   "id": "9d769db1-8003-4b82-8ce5-2b04981803ce",
   "metadata": {},
   "outputs": [],
   "source": [
    "gdf[\"mean_income\"] = gdf[\"Ind_snv\"]/gdf[\"Ind\"]"
   ]
  },
  {
   "cell_type": "code",
   "execution_count": null,
   "id": "62b0d0c8-24da-4683-9ae4-20b6567949aa",
   "metadata": {},
   "outputs": [],
   "source": [
    "gdf.plot(x='mean_income',y='CS_aggregated', kind='scatter')\n",
    "plt.savefig(\"foo.png\")\n",
    "plt.show()"
   ]
  },
  {
   "cell_type": "markdown",
   "id": "c9860f0a-b01c-4f92-a346-6ef65c4658eb",
   "metadata": {},
   "source": [
    "We see that there is a disproportionate amount of extremely low accessibility scores. Therefore, we transform the y axis to logscale:"
   ]
  },
  {
   "cell_type": "code",
   "execution_count": null,
   "id": "fb685baf-56ef-4fec-b4cf-2a508e7fd72e",
   "metadata": {},
   "outputs": [],
   "source": [
    "gdf.plot(x='mean_income',y='CS_aggregated', kind='scatter')\n",
    "plt.yscale(\"log\")\n",
    "plt.show()"
   ]
  },
  {
   "cell_type": "markdown",
   "id": "2934b0f6-6caa-4111-9d4f-80a129b58fe5",
   "metadata": {},
   "source": [
    "Now we begin to see some trend lines. On this log transformed data, we can perform linear."
   ]
  },
  {
   "cell_type": "code",
   "execution_count": null,
   "id": "fc865a10-5b3d-4f1e-87c9-dfaf0419c0e6",
   "metadata": {
    "scrolled": true
   },
   "outputs": [],
   "source": [
    "from sklearn.linear_model import LinearRegression\n",
    "from sklearn.metrics import mean_squared_error, r2_score\n",
    "\n",
    "x = gdf[\"mean_income\"].values\n",
    "y = gdf[\"CS_aggregated\"].values\n",
    "x = x.reshape(-1,1)\n",
    "yr = y.reshape(-1,1)\n",
    "\n",
    "yr = yr + 0.0001\n",
    "yr = np.log(yr)\n",
    "\n",
    "model = LinearRegression()\n",
    "model.fit(x, yr)\n",
    "\n",
    "yr_pred = model.predict(x)\n",
    "\n",
    "plt.scatter(x, yr, color='blue', label='Actual Data')\n",
    "plt.plot(x, yr_pred, color='red', label='Fitted Line')\n",
    "plt.xlabel('Log of Mean Income')\n",
    "plt.ylabel('Log of CS Aggregated')\n",
    "plt.legend()\n",
    "plt.title('Log-Transformed Linear Regression')\n",
    "plt.show()"
   ]
  },
  {
   "cell_type": "markdown",
   "id": "0c7b36f6-1d4d-4137-b1bb-96f356cdfbbb",
   "metadata": {},
   "source": [
    "There is a large amount of outliers still with extremely low CS aggregated score. This may result from a large amount of squares being on the edge of the considered area. As the bounds of the surveyed area are quite rough, those outliers might happen and it makes sense to remove them."
   ]
  },
  {
   "cell_type": "code",
   "execution_count": null,
   "id": "0f67d16f-cf12-43e7-8561-20bfd528e3bc",
   "metadata": {},
   "outputs": [],
   "source": [
    "threshold = gdf['CS_aggregated'].quantile(0.01)\n",
    "outliers = gdf[gdf['CS_aggregated'] < threshold]\n",
    "remaining = gdf[gdf['CS_aggregated'] >= threshold]\n",
    "\n",
    "income_threshold = remaining['mean_income'].quantile(0.999)\n",
    "rem2 = remaining[remaining['mean_income'] < income_threshold]"
   ]
  },
  {
   "cell_type": "code",
   "execution_count": null,
   "id": "ff23c966-5297-4fec-b3f0-4e3fef1aa49f",
   "metadata": {},
   "outputs": [],
   "source": [
    "outliers.explore()"
   ]
  },
  {
   "cell_type": "code",
   "execution_count": null,
   "id": "be1da3ba-c6e7-4162-a4a0-ba3cf32b9be3",
   "metadata": {},
   "outputs": [],
   "source": [
    "\n",
    "x = rem2[\"mean_income\"].values\n",
    "y = rem2[\"CS_aggregated\"].values\n",
    "x = x.reshape(-1,1)\n",
    "yr = y.reshape(-1,1)\n",
    "\n",
    "yr = yr + 0.0001\n",
    "yr = np.log(yr)\n",
    "\n",
    "model = LinearRegression()\n",
    "model.fit(x, yr)\n",
    "\n",
    "yr_pred = model.predict(x)\n",
    "\n",
    "print(mean_squared_error(yr, yr_pred))\n",
    "\n",
    "plt.scatter(x, yr, color='blue', label='Actual Data')\n",
    "plt.plot(x, yr_pred, color='red', label='Fitted Line')\n",
    "plt.xlabel('Mean Income')\n",
    "plt.ylabel('Log of CS Aggregated')\n",
    "plt.legend()\n",
    "plt.title('Log-Transformed Linear Regression')\n",
    "plt.savefig(\"foo2.png\")\n",
    "plt.show()"
   ]
  },
  {
   "cell_type": "markdown",
   "id": "67d33dd0-1fe2-47e9-8d04-d8f753e7c051",
   "metadata": {},
   "source": [
    "Clear tend, but with a huge variance."
   ]
  },
  {
   "cell_type": "markdown",
   "id": "f5930434-4f00-487b-ab28-7291cfb971eb",
   "metadata": {},
   "source": [
    "Why *not* remove the outleirs? - rich people often choose to live in inaccessible places."
   ]
  },
  {
   "cell_type": "markdown",
   "id": "10f4a5bc-35da-47e6-9ccd-41ef941667c7",
   "metadata": {},
   "source": [
    "## Regression with Mutliple Variables"
   ]
  },
  {
   "cell_type": "code",
   "execution_count": null,
   "id": "3edd4d33-3a53-4288-a8db-56192a895884",
   "metadata": {},
   "outputs": [],
   "source": [
    "import seaborn as sns"
   ]
  },
  {
   "cell_type": "code",
   "execution_count": null,
   "id": "92342414-1471-41f6-b38b-aa4baf7da0b9",
   "metadata": {},
   "outputs": [],
   "source": [
    "# Plot distribution\n",
    "sns.histplot(gdf['CS_aggregated'], kde=True, bins=10)  # kde=True adds a kernel density estimate curve\n",
    "plt.title('Distribution of Values')\n",
    "plt.xlabel('values')\n",
    "plt.ylabel('Frequency')\n",
    "plt.show()"
   ]
  },
  {
   "cell_type": "code",
   "execution_count": null,
   "id": "50296703-335a-4d59-9ac4-29d4366f86d0",
   "metadata": {},
   "outputs": [],
   "source": [
    "gdf[\"CSlog\"] = np.log(gdf[\"CS_aggregated\"] + 0.00001)"
   ]
  },
  {
   "cell_type": "code",
   "execution_count": null,
   "id": "6dd92169-1422-4204-b5e1-f098edc78cc3",
   "metadata": {},
   "outputs": [],
   "source": [
    "# Plot distribution\n",
    "sns.histplot(gdf['CSlog'], kde=True, bins=20)  # kde=True adds a kernel density estimate curve\n",
    "plt.title('Distribution of Values')\n",
    "plt.xlabel('values')\n",
    "plt.ylabel('Frequency')\n",
    "plt.show()"
   ]
  },
  {
   "cell_type": "markdown",
   "id": "12f9ef04-dd1c-4a3c-a7b4-555f3d0e31d6",
   "metadata": {},
   "source": [
    "we can see a ton of outliers!"
   ]
  },
  {
   "cell_type": "code",
   "execution_count": null,
   "id": "1f516fdc-9a0b-482f-afef-ae312bfd3493",
   "metadata": {},
   "outputs": [],
   "source": [
    "rem2[\"CSlog\"] = np.log(rem2[\"CS_aggregated\"] + 0.00001)"
   ]
  },
  {
   "cell_type": "code",
   "execution_count": null,
   "id": "93c9b5a1-44ef-416d-b2a3-f66984e85472",
   "metadata": {},
   "outputs": [],
   "source": [
    "# Plot distribution\n",
    "sns.histplot(rem2['CSlog'], kde=True, bins=20)  # kde=True adds a kernel density estimate curve\n",
    "plt.title('Distribution of Values')\n",
    "plt.xlabel('values')\n",
    "plt.ylabel('Frequency')\n",
    "plt.show()"
   ]
  },
  {
   "cell_type": "markdown",
   "id": "74606554-a09b-46f2-b915-164aa8085de6",
   "metadata": {},
   "source": [
    "Looking good, almost normal!"
   ]
  },
  {
   "cell_type": "code",
   "execution_count": null,
   "id": "bdc44a2c-3ad2-44ff-8df6-62b8e55deed6",
   "metadata": {},
   "outputs": [],
   "source": [
    "gdfs = rem2.copy()\n",
    "gdfs[\"%_soc.minimum\"] = (gdfs[\"Men_pauv\"]/gdfs[\"Ind\"])*100\n",
    "gdfs[\"%_>_65\"] = ((gdfs[\"Ind_65_79\"] +gdfs[\"Ind_80p\"])/gdfs[\"Ind\"])*100\n",
    "gdfs[\"%_<_17\"] = ((gdfs[\"Ind_0_3\"] +gdfs[\"Ind_4_5\"] + gdfs[\"Ind_6_10\"] + gdfs[\"Ind_11_17\"])/gdfs[\"Ind\"])*100\n",
    "gdfs[\"%_<_bat_45\"] = (gdfs[\"Log_av45\"]/(gdfs[\"Log_av45\"] +gdfs[\"Log_45_70\"] + gdfs[\"Log_70_90\"] + gdfs[\"Log_ap90\"] + gdfs[\"Log_inc\"]))*100\n",
    "gdfs[\"%_>_bat_90\"] = (gdfs[\"Log_ap90\"]/(gdfs[\"Log_av45\"] +gdfs[\"Log_45_70\"] + gdfs[\"Log_70_90\"] + gdfs[\"Log_ap90\"] + gdfs[\"Log_inc\"]))*100\n",
    "gdfs[\"%_residences\"] = (gdfs[\"Men_coll\"]/(gdfs[\"Men_coll\"] +gdfs[\"Men_mais\"]))*100\n",
    "gdfs[\"mean_income\"] = gdfs[\"Ind_snv\"]/gdfs[\"Ind\"]\n",
    "gdfs[\"density\"] = gdfs[\"Ind\"]/(0.0002)"
   ]
  },
  {
   "cell_type": "code",
   "execution_count": null,
   "id": "d6d55318-697f-4478-bf44-ff6f79752e13",
   "metadata": {},
   "outputs": [],
   "source": [
    "gdfs.describe()"
   ]
  },
  {
   "cell_type": "code",
   "execution_count": null,
   "id": "5694d71d-1434-4df5-98c2-e89c119de05b",
   "metadata": {
    "scrolled": true
   },
   "outputs": [],
   "source": [
    "soc_vars = [\"%_soc.minimum\", \"%_>_65\", \"%_<_17\", \"%_<_bat_45\", \"%_>_bat_90\", \"%_residences\", \"mean_income\",\"density\"]\n",
    "for feature in soc_vars:\n",
    "    plt.figure(figsize=(4, 3))\n",
    "    plt.scatter(gdfs[feature].values, gdfs[\"CSlog\"])\n",
    "    plt.xlabel(feature)\n",
    "    plt.tight_layout()"
   ]
  },
  {
   "cell_type": "markdown",
   "id": "f4201ef9-a013-4e3b-8183-16e799bbfb5a",
   "metadata": {},
   "source": [
    "Okay. We only see some trends on: density, mean income, residences, bat90, bat45, social minimum. Let's see how correlated they are."
   ]
  },
  {
   "cell_type": "code",
   "execution_count": null,
   "id": "ee0b0d96-4104-4a17-b391-ae4e698f7b57",
   "metadata": {
    "scrolled": true
   },
   "outputs": [],
   "source": [
    "soc_vars = [\"%_soc.minimum\", \"%_>_65\", \"%_<_17\", \"%_<_bat_45\", \"%_>_bat_90\", \"%_residences\", \"mean_income\",\"density\"]\n",
    "for feature in soc_vars:\n",
    "    sns.histplot(gdfs[feature], kde=True, bins=20)  # kde=True adds a kernel density estimate curve\n",
    "    plt.title('Distribution of Values')\n",
    "    plt.xlabel(feature)\n",
    "    plt.ylabel('Frequency')\n",
    "    plt.show()"
   ]
  },
  {
   "cell_type": "code",
   "execution_count": null,
   "id": "0ffc982e-1329-431f-a531-b05be3eb4f20",
   "metadata": {
    "scrolled": true
   },
   "outputs": [],
   "source": [
    "gdfs[soc_vars].describe()"
   ]
  },
  {
   "cell_type": "code",
   "execution_count": null,
   "id": "8fb85389-e0d5-42b0-83ac-1a545909a120",
   "metadata": {},
   "outputs": [],
   "source": [
    "from statsmodels.stats.outliers_influence import variance_inflation_factor\n",
    "soc_vars = [\"%_soc.minimum\",\"%_<_bat_45\", \"%_>_bat_90\", \"%_residences\", \"mean_income\",\"density\"]\n",
    "\n",
    "gdfrel = gdfs[soc_vars]\n",
    "correlation_matrix = gdfrel.corr()\n",
    "print(\"Correlation Matrix:\")\n",
    "print(correlation_matrix)\n",
    "\n",
    "sns.heatmap(correlation_matrix, annot=True, cmap='coolwarm', fmt=\".2f\")\n",
    "plt.title(\"Correlation Heatmap\")\n",
    "plt.show()\n",
    "\n",
    "X = gdfrel  # Independent variables\n",
    "vif_data = pd.DataFrame()\n",
    "vif_data[\"Feature\"] = X.columns\n",
    "vif_data[\"VIF\"] = [variance_inflation_factor(X.values, i) for i in range(X.shape[1])]\n",
    "print(\"VIF Scores:\")\n",
    "print(vif_data)"
   ]
  },
  {
   "cell_type": "markdown",
   "id": "0bd1990d-8da4-4d62-931d-fc413839ab1a",
   "metadata": {},
   "source": [
    "Generally, we get a semi-worrying correlation between density and number of residences. This someone violates the assumptions of linear regressions, but since it is one mutlicolinearity, we shall allow it."
   ]
  },
  {
   "cell_type": "code",
   "execution_count": null,
   "id": "2d9070bc-43bf-4ee8-9493-c7fbdebf4ab1",
   "metadata": {},
   "outputs": [],
   "source": [
    "socvars = [\"density\", \"%_>_bat_90\", \"%_<_bat_45\", \"%_residences\", \"mean_income\"]\n",
    "import statsmodels.api as sm\n",
    "\n",
    "X = gdfs[socvars]  \n",
    "X = sm.add_constant(X)  \n",
    "y = gdfs['CSlog']  \n",
    "\n",
    "model = sm.OLS(y, X).fit()\n",
    "\n",
    "print(model.summary())"
   ]
  },
  {
   "cell_type": "markdown",
   "id": "f3292661-a5aa-4c73-9404-617c8397b6eb",
   "metadata": {},
   "source": [
    "# Spatial regression recreated"
   ]
  },
  {
   "cell_type": "code",
   "execution_count": null,
   "id": "5743ba83-8877-4301-abfd-cbaad53b382c",
   "metadata": {},
   "outputs": [],
   "source": [
    "from pysal.model import spreg\n",
    "from pysal.lib import weights\n",
    "from spreg import OLS"
   ]
  },
  {
   "cell_type": "code",
   "execution_count": null,
   "id": "4da20d66-459c-424c-8378-9f79421edfc6",
   "metadata": {},
   "outputs": [],
   "source": [
    "gdfs = gdf.copy()"
   ]
  },
  {
   "cell_type": "code",
   "execution_count": null,
   "id": "c1d3beea-b2e0-4a5e-9d4c-0c22495123fe",
   "metadata": {},
   "outputs": [],
   "source": [
    "gdfs[\"%_soc.minimum\"] = (gdfs[\"Men_pauv\"]/gdfs[\"Ind\"])*100\n",
    "gdfs[\"%_>_65\"] = ((gdfs[\"Ind_65_79\"] +gdfs[\"Ind_80p\"])/gdfs[\"Ind\"])*100\n",
    "gdfs[\"%_<_17\"] = ((gdfs[\"Ind_0_3\"] +gdfs[\"Ind_4_5\"] + gdfs[\"Ind_6_10\"] + gdfs[\"Ind_11_17\"])/gdfs[\"Ind\"])*100\n",
    "gdfs[\"%_<_bat_45\"] = (gdfs[\"Log_av45\"]/(gdfs[\"Log_av45\"] +gdfs[\"Log_45_70\"] + gdfs[\"Log_70_90\"] + gdfs[\"Log_ap90\"] + gdfs[\"Log_inc\"]))*100\n",
    "gdfs[\"%_>_bat_90\"] = (gdfs[\"Log_ap90\"]/(gdfs[\"Log_av45\"] +gdfs[\"Log_45_70\"] + gdfs[\"Log_70_90\"] + gdfs[\"Log_ap90\"] + gdfs[\"Log_inc\"]))*100\n",
    "gdfs[\"%_residences\"] = (gdfs[\"Men_coll\"]/(gdfs[\"Men_coll\"] +gdfs[\"Men_mais\"]))*100\n",
    "gdfs[\"mean_income\"] = gdfs[\"Ind_snv\"]/gdfs[\"Ind\"]\n",
    "gdfs[\"density\"] = gdfs[\"Ind\"]/(0.0002)"
   ]
  },
  {
   "cell_type": "code",
   "execution_count": null,
   "id": "14814196-c9eb-41c0-8497-f1973a6f50ae",
   "metadata": {},
   "outputs": [],
   "source": [
    "w_queen = weights.contiguity.Queen.from_dataframe(gdfs) # adjacent in all directions, including diagonal.\n",
    "# Replace Queen by rook for only up/down/left/right adjancy"
   ]
  },
  {
   "cell_type": "code",
   "execution_count": null,
   "id": "a735710b-7d32-4a5e-8229-a6c69760b318",
   "metadata": {},
   "outputs": [],
   "source": [
    "w_queen.transform = 'r'"
   ]
  },
  {
   "cell_type": "markdown",
   "id": "d33621b4-1d78-45e0-9194-52a1d3a25881",
   "metadata": {},
   "source": [
    "Model B:"
   ]
  },
  {
   "cell_type": "code",
   "execution_count": null,
   "id": "0f5413ad-3ca3-4da2-8455-4817442179ff",
   "metadata": {},
   "outputs": [],
   "source": [
    "dep_var = \"CS_aggregated\"\n",
    "independ_var_B = [\"%_soc.minimum\", \"%_>_65\", \"%_<_17\", \"%_<_bat_45\", \"%_>_bat_90\", \"%_residences\", \"mean_income\",\"density\"]\n",
    "ols = OLS(gdfs[[dep_var]].values, gdfs[independ_var_B].values)"
   ]
  },
  {
   "cell_type": "code",
   "execution_count": null,
   "id": "28873f4a-b460-4c48-8ce5-d9094d26c5ab",
   "metadata": {},
   "outputs": [],
   "source": [
    "sample = gdfs[independ_var_B]\n",
    "sample.describe()"
   ]
  },
  {
   "cell_type": "markdown",
   "id": "873c3de0-5021-49b7-a5ea-aec3fa64493d",
   "metadata": {},
   "source": [
    "The density and mean income being distributed differently pose an issue. Therefore, we redistribute them (just for interpretability)."
   ]
  },
  {
   "cell_type": "code",
   "execution_count": null,
   "id": "164f41e9-b9ec-4047-a167-6d62cfbde891",
   "metadata": {},
   "outputs": [],
   "source": [
    "from sklearn.preprocessing import MinMaxScaler, StandardScaler\n",
    "scaler = MinMaxScaler()\n",
    "changevars = independ_var_B\n",
    "gdfs[changevars] = scaler.fit_transform(gdfs[changevars])\n",
    "gdfs[\"CS_aggregated\"] += 0.0000001"
   ]
  },
  {
   "cell_type": "code",
   "execution_count": null,
   "id": "0d48c9b1-fefd-4f43-94a1-0aeb99b7aca5",
   "metadata": {},
   "outputs": [],
   "source": [
    "gdfs[\"CS_aggregated\"] = scaler.fit_transform(gdfs[[\"CS_aggregated\"]])"
   ]
  },
  {
   "cell_type": "code",
   "execution_count": null,
   "id": "7dee5fea-88f7-416e-9d01-b18cee994442",
   "metadata": {},
   "outputs": [],
   "source": [
    "mB = spreg.GM_Combo(\n",
    "    gdfs[[dep_var]].values,\n",
    "    gdfs[independ_var_B].values,\n",
    "    w=w_queen,\n",
    "    name_y=dep_var,\n",
    "    name_x=independ_var_B,\n",
    ")\n",
    "\n",
    "print(mB.summary)"
   ]
  },
  {
   "cell_type": "code",
   "execution_count": null,
   "id": "e080c2e5-66a4-4d57-a8a3-119268ce1def",
   "metadata": {},
   "outputs": [],
   "source": [
    "mB = spreg.GM_Combo(\n",
    "    gdfs[[dep_var]].values,\n",
    "    gdfs[independ_var_B].values,\n",
    "    w=w_queen,\n",
    "    name_y=dep_var,\n",
    "    name_x=independ_var_B,\n",
    ")\n",
    "\n",
    "print(mB.summary)"
   ]
  },
  {
   "cell_type": "code",
   "execution_count": null,
   "id": "44e15096-d0a9-4721-826b-dc074a79e8c1",
   "metadata": {},
   "outputs": [],
   "source": [
    "m1 = spreg.OLS(\n",
    "    gdfs[[dep_var]].values,\n",
    "    gdfs[independ_var_B].values,\n",
    "    name_y=dep_var,\n",
    "    name_x=independ_var_B,\n",
    ")\n",
    "\n",
    "print(m1.summary)"
   ]
  },
  {
   "cell_type": "code",
   "execution_count": null,
   "id": "ef31ef5a-47cb-40b2-866c-c8911f1fd7cf",
   "metadata": {},
   "outputs": [],
   "source": [
    "allvars = independ_var_B + [\"CS_aggregated\"]\n",
    "allvar = gdfs[allvars]\n",
    "allvar.describe()"
   ]
  },
  {
   "cell_type": "code",
   "execution_count": null,
   "id": "371ffe08-207d-4f91-9fe3-38b4d6dadd51",
   "metadata": {},
   "outputs": [],
   "source": []
  }
 ],
 "metadata": {
  "kernelspec": {
   "display_name": "Python (batomouchekurwa)",
   "language": "python",
   "name": "batomouchekurwa"
  },
  "language_info": {
   "codemirror_mode": {
    "name": "ipython",
    "version": 3
   },
   "file_extension": ".py",
   "mimetype": "text/x-python",
   "name": "python",
   "nbconvert_exporter": "python",
   "pygments_lexer": "ipython3",
   "version": "3.11.7"
  }
 },
 "nbformat": 4,
 "nbformat_minor": 5
}
