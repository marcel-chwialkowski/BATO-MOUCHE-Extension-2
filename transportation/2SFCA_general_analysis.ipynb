{
 "cells": [
  {
   "cell_type": "markdown",
   "id": "1ce7b007-e6a7-46d8-9c00-4e11248169c8",
   "metadata": {},
   "source": [
    "# Accessibility analysis step-by-step"
   ]
  },
  {
   "cell_type": "markdown",
   "id": "93e2c1da-7ea3-4e62-af3c-79a9cdc11535",
   "metadata": {},
   "source": [
    "## 0. Dataset choice"
   ]
  },
  {
   "cell_type": "markdown",
   "id": "e8872b2e-f6b0-4ff0-81f6-2c47fcaefd39",
   "metadata": {},
   "source": [
    "This notebook is prepared so that you can easily perform analysis of your dataset of choice. We have already performed 3 analyses on the following regions:\n",
    "1. Paris proper,\n",
    "2. Petite Couronne (Paris, Hauts-de-Seine, Seine-Saint-Denis, Val-de-Marne),\n",
    "3. Petite Couronne without Paris.\n",
    "    "
   ]
  },
  {
   "cell_type": "markdown",
   "id": "cecfbf7f-f6ea-4f60-9629-7a8cadd8ba41",
   "metadata": {},
   "source": [
    "The data you will need:"
   ]
  },
  {
   "cell_type": "markdown",
   "id": "22416a3d-707d-4f8d-b69d-4741c86861be",
   "metadata": {},
   "source": [
    "1. geodataframe containing the spatial + statistical data of the area,\n",
    "2. .pbf file with OSM data of the area\n",
    "3. .gtfs file with transit data of the area"
   ]
  },
  {
   "cell_type": "markdown",
   "id": "a5b8b028-d15e-44a6-9c3d-212637b8c907",
   "metadata": {},
   "source": [
    "For customisation, assign to the variables below the names of your files:"
   ]
  },
  {
   "cell_type": "code",
   "execution_count": null,
   "id": "d873a006-9668-4968-bd62-9586e8d00ca4",
   "metadata": {},
   "outputs": [],
   "source": [
    "gdf_name = \"pcparis.gpkg\" \n",
    "pbf_name = \"pcparis.pbf\"\n",
    "gtfs_name = \"IDFM.gtfs.zip\""
   ]
  },
  {
   "cell_type": "markdown",
   "id": "182bd80f-701d-4409-8619-f5fc3421e270",
   "metadata": {},
   "source": [
    "In order to run the analysis on the files that we used, you should use the gtfs_name as above, and modify the gdf/pbf names accordingly:\n",
    "1. paris.gdf/pbf for Paris\n",
    "2. pcparis.gdf/pbf for Petite Couronne\n",
    "3. pc.gdf/pbf for Petite Couronne without Paris"
   ]
  },
  {
   "cell_type": "markdown",
   "id": "6a975726-fd7d-4292-a40d-43b395cf4bd0",
   "metadata": {},
   "source": [
    "## 1. Preparation"
   ]
  },
  {
   "cell_type": "code",
   "execution_count": null,
   "id": "b3ca5fff-1de2-48f9-8462-c06bae9e7f53",
   "metadata": {},
   "outputs": [],
   "source": [
    "import os\n",
    "import sys\n",
    "sys.path.append(os.path.abspath(os.path.join(os.getcwd(), os.pardir)))\n",
    "os.environ['USE_PYGEOS'] = '0'\n",
    "import pysal.lib\n",
    "import helpers as hs\n",
    "from importlib import reload\n",
    "import folium\n",
    "import pandas as pd\n",
    "import geopandas as gpd\n",
    "import r5py\n",
    "import shapely\n",
    "import time\n",
    "import datetime"
   ]
  },
  {
   "cell_type": "markdown",
   "id": "188760cd-0f12-4608-989e-d93876ccd626",
   "metadata": {},
   "source": [
    "1. Read the geopackage containing geographical data + amenities statistic (the creation of such geopackage is shown in GeneralExtraction notebook). Be careful about the working directory."
   ]
  },
  {
   "cell_type": "code",
   "execution_count": null,
   "id": "53d13f44-9d54-42c8-8029-05d40195b8db",
   "metadata": {},
   "outputs": [],
   "source": [
    "%cd ../data\n",
    "gdf = gpd.read_file(gdf_name, layer=\"cool\")"
   ]
  },
  {
   "cell_type": "markdown",
   "id": "b3196f29-e524-4082-8cc8-a3bb9fb08890",
   "metadata": {},
   "source": [
    "2. Inspect the geodataframe. r5py requires a column named 'id', therefore we rename the correspodning id column"
   ]
  },
  {
   "cell_type": "code",
   "execution_count": null,
   "id": "62e77c00-ef45-4178-a34e-64dbde2212fe",
   "metadata": {},
   "outputs": [],
   "source": [
    "gdf.rename(columns={'IdINSPIRE':'id'}, inplace = True)\n",
    "gdf.iloc[14,:]"
   ]
  },
  {
   "cell_type": "markdown",
   "id": "7f649894-acf3-4df0-a74d-e68a3e0a067b",
   "metadata": {},
   "source": [
    "3. Example: number of restaurants in each square"
   ]
  },
  {
   "cell_type": "code",
   "execution_count": null,
   "id": "0b6b368b-c8b6-4a4a-b595-88b8c00e0e25",
   "metadata": {},
   "outputs": [],
   "source": [
    "hs.folium_color_map(gdf,\"restaurant\")"
   ]
  },
  {
   "cell_type": "markdown",
   "id": "a4d45f83-9a40-42c6-a3b2-921a0d14283b",
   "metadata": {},
   "source": [
    "4. Additional variable of interest, the total number of housing units:"
   ]
  },
  {
   "cell_type": "code",
   "execution_count": null,
   "id": "b4591f4c-5ab1-4ab1-a8ec-708e21705e18",
   "metadata": {},
   "outputs": [],
   "source": [
    "gdf['Log'] = gdf['Log_inc'] + gdf['Log_av45'] + gdf['Log_45_70'] + gdf['Log_70_90'] + gdf['Log_ap90']"
   ]
  },
  {
   "cell_type": "markdown",
   "id": "68311e39-968c-4b66-bd9e-004a3b56d7ec",
   "metadata": {},
   "source": [
    "## Travel times computation"
   ]
  },
  {
   "cell_type": "markdown",
   "id": "9010f08a-df9f-48c3-89c1-b88a79b0fe91",
   "metadata": {},
   "source": [
    "1. Initialise r5py with the OSM extract and GTFS file"
   ]
  },
  {
   "cell_type": "code",
   "execution_count": null,
   "id": "6dc91cea-43a0-4a39-8e2a-07c0c3bf06e6",
   "metadata": {},
   "outputs": [],
   "source": [
    "transport_network = r5py.TransportNetwork(pbf_name, [gtfs_name])"
   ]
  },
  {
   "cell_type": "code",
   "execution_count": null,
   "id": "24dad9ee-0a0b-4a7a-a972-18092bcdea11",
   "metadata": {},
   "outputs": [],
   "source": [
    "gdf_centered = gdf.copy()\n",
    "gdf_centered['geometry'] = gdf_centered['geometry'].apply(lambda x : x.centroid)\n",
    "\n",
    "travel_time_matrix_computer = r5py.TravelTimeMatrixComputer(\n",
    "    transport_network,\n",
    "    origins=gdf_centered,\n",
    "    destinations=gdf_centered,\n",
    "    departure=datetime.datetime(2024,10,8,11,59),\n",
    "    transport_modes=[\n",
    "        r5py.TransportMode.TRANSIT,\n",
    "        r5py.TransportMode.WALK,\n",
    "    ],\n",
    ")"
   ]
  },
  {
   "cell_type": "markdown",
   "id": "2719ff0c-f5a1-4c9f-a3cb-d57fb5eb8801",
   "metadata": {},
   "source": [
    "6. Compute the travel times matrix. Warning: this can take up to 1h hour on Petite Couronne. You can skip this step and just import the already performed calculations in the next step."
   ]
  },
  {
   "cell_type": "code",
   "execution_count": null,
   "id": "8ce0cb2a-a0e9-4f85-a03e-1b749ff78cb9",
   "metadata": {},
   "outputs": [],
   "source": [
    "travel_times = travel_time_matrix_computer.compute_travel_times()\n",
    "travel_times.to_csv('travel_times_' + gdf_name[:-5] + '.csv')  "
   ]
  },
  {
   "cell_type": "markdown",
   "id": "707fe6b5-0088-467c-ac9d-215e008f8557",
   "metadata": {},
   "source": [
    "7. This step is if you skipped the previous step."
   ]
  },
  {
   "cell_type": "code",
   "execution_count": null,
   "id": "aa3d3138-4394-4d81-849b-d7b4f49999a0",
   "metadata": {},
   "outputs": [],
   "source": [
    "travel_times = pd.read_csv('travel_times_' + gdf_name[:-5] + '.csv')"
   ]
  },
  {
   "cell_type": "markdown",
   "id": "01512848-7297-4031-a24e-ee24c63b25e5",
   "metadata": {},
   "source": [
    "8. Change the format into a square matrix."
   ]
  },
  {
   "cell_type": "code",
   "execution_count": null,
   "id": "8a7d300c-42f9-4843-a247-1f16b517bf00",
   "metadata": {},
   "outputs": [],
   "source": [
    "travel_times_square = hs.vert_to_square(travel_times)"
   ]
  },
  {
   "cell_type": "markdown",
   "id": "5ba23865-1b64-40f6-b0ef-964599997ed5",
   "metadata": {},
   "source": [
    "9. Calculate the weights between squares."
   ]
  },
  {
   "cell_type": "code",
   "execution_count": null,
   "id": "f194d7fb-6c05-4a33-9350-3bea29d8e5ea",
   "metadata": {},
   "outputs": [],
   "source": [
    "weights_by_id = hs.transfer_time_to_weight_faster(travel_times_square)"
   ]
  },
  {
   "cell_type": "markdown",
   "id": "b4a48280-100b-408a-bf0b-f67748b36864",
   "metadata": {},
   "source": [
    "10. Inspect the resulting dataframe:"
   ]
  },
  {
   "cell_type": "code",
   "execution_count": null,
   "id": "ecdcc18e-0c85-4729-835f-fe3a71ed1363",
   "metadata": {},
   "outputs": [],
   "source": [
    "weights_by_id.head()"
   ]
  },
  {
   "cell_type": "code",
   "execution_count": null,
   "id": "730f786e-0687-469a-9a18-a03d76fd767e",
   "metadata": {},
   "outputs": [],
   "source": []
  },
  {
   "cell_type": "markdown",
   "id": "efb3745b-d3d7-4653-acd9-e21ef1955382",
   "metadata": {},
   "source": [
    "11. Example: weights with reference to Chatelet Les Halles."
   ]
  },
  {
   "cell_type": "code",
   "execution_count": null,
   "id": "c42eb0d0-79a6-4f0b-a303-9f3d1ab6bec7",
   "metadata": {},
   "outputs": [],
   "source": [
    "df_reset = weights_by_id.reset_index()\n",
    "\n",
    "value = 'CRS3035RES200mN2890000E3760400'\n",
    "losc = df_reset.where(df_reset == value).stack().index.tolist()\n",
    "print(losc)\n",
    "\n",
    "example = gdf[[\"geometry\", \"id\"]].assign(weight_0 = df_reset.iloc[losc[0][0],1:].values)#\n",
    "example"
   ]
  },
  {
   "cell_type": "code",
   "execution_count": null,
   "id": "59a7ae78-c55c-4f04-a8cf-484319976da8",
   "metadata": {},
   "outputs": [],
   "source": [
    "hs.folium_color_map(example, \"weight_0\")"
   ]
  },
  {
   "cell_type": "markdown",
   "id": "bfc7a5f8-f69c-4b89-aaae-3894d74f9ce1",
   "metadata": {},
   "source": [
    "## 2SFCA"
   ]
  },
  {
   "cell_type": "markdown",
   "id": "b54da46c-0cd2-4830-8969-a03a89bce22f",
   "metadata": {},
   "source": [
    "1. Calculate the 2SFCA score. Important: don't skip the first line! both gdf and weights_by_id need to have the same id column!"
   ]
  },
  {
   "cell_type": "code",
   "execution_count": null,
   "id": "1c6082aa-25aa-47a3-91cd-d13d943ca01d",
   "metadata": {},
   "outputs": [],
   "source": [
    "gdf = gdf.set_index('id')\n",
    "interestVar = ['Log','Log_soc','restaurant',\n",
    "       'culture and art', 'education', 'food_shops', 'fashion_beauty',\n",
    "       'supply_shops']\n",
    "accessibility_measures = hs.calculate_2SFCA_accessibility(gdf,interestVar,weights_by_id)"
   ]
  },
  {
   "cell_type": "code",
   "execution_count": null,
   "id": "f535a4b2-7565-47d7-924c-17f9c0753b7a",
   "metadata": {},
   "outputs": [],
   "source": [
    "for var in interestVar:\n",
    "    gdf[var+\"_access\"] = accessibility_measures[var]"
   ]
  },
  {
   "cell_type": "markdown",
   "id": "87fddca5-97b6-428a-a8c8-c5baafff6358",
   "metadata": {},
   "source": [
    "2. Inspect the results."
   ]
  },
  {
   "cell_type": "code",
   "execution_count": null,
   "id": "cd3902ab-6d4f-421a-b406-428fdaad0ed5",
   "metadata": {},
   "outputs": [],
   "source": [
    "gdf.head()"
   ]
  },
  {
   "cell_type": "code",
   "execution_count": null,
   "id": "ab7f7ead-a3fb-4460-8690-d396de78e647",
   "metadata": {},
   "outputs": [],
   "source": [
    "hs.folium_color_map(gdf, \"Log_soc_access\", cmap = 'Reds')"
   ]
  },
  {
   "cell_type": "markdown",
   "id": "51484b1a-fb18-4b2d-90bc-47de511958a6",
   "metadata": {},
   "source": [
    "## Aggregation of accessibility"
   ]
  },
  {
   "cell_type": "markdown",
   "id": "691df4da-b559-4778-b773-a8121700be4a",
   "metadata": {},
   "source": [
    "In order to obtain the aggregated 2SFCA score for each square, we attach a weight to each amenity. For an amenity $p$, we define its weight as \n",
    "$$ w_p = \\dfrac{N_p}{N}$$\n",
    "where $N$ is the number of occurences of all amenities and $N_p$ the number of occurences of the amenity $p$. The idea is that the less frequent an amenity is, the more important it is. This approach has a drawback of prioritising some amenities which are known to be less important, like museums.\n",
    "\n",
    "Obtaining the aggregated 2SFCA is then just:\n",
    "$$ CS_{i} = \\sum_{p=1}^{P} (1 -w_{p}) \\times X_{i,p} $$ where $X_{i,p}$ denotes the minmax normalisation of accessibility of $p$ in square $i$. (Why is this important? some variables, like housing access, have higher accessibility scores, just because naturally there are more housing units than schools).\n",
    "\n",
    "We implement this approach below:"
   ]
  },
  {
   "cell_type": "markdown",
   "id": "200cb547-195b-4d87-b7bf-ed425a6e4fba",
   "metadata": {},
   "source": [
    "1. Calculate the weights:"
   ]
  },
  {
   "cell_type": "code",
   "execution_count": null,
   "id": "0afb07aa-f0fb-4edb-8c04-dc116bc3476e",
   "metadata": {},
   "outputs": [],
   "source": [
    "interestVarAggr = ['restaurant',\n",
    "       'culture and art', 'education', 'food_shops', 'fashion_beauty',\n",
    "       'supply_shops']\n",
    "for var in interestVarAggr:\n",
    "        gdf[str(\"weight_\" + var)] = gdf[var].sum()/(gdf[interestVarAggr].sum(axis = 1).sum())"
   ]
  },
  {
   "cell_type": "code",
   "execution_count": null,
   "id": "69ef3476-be68-47f3-bd87-6f4e3ec3bf58",
   "metadata": {},
   "outputs": [],
   "source": [
    "weight_table = 1 - gdf[[str(\"weight_\" + var) for var in interestVarAggr]]\n",
    "print(weight_table.iloc[[0]].to_latex())"
   ]
  },
  {
   "cell_type": "markdown",
   "id": "9298416a-e3f6-4b03-803f-133cb08f9009",
   "metadata": {},
   "source": [
    "2. Get the normalised version of measurements:"
   ]
  },
  {
   "cell_type": "code",
   "execution_count": null,
   "id": "d634cb05-43cc-460c-912b-ae9691b3a26b",
   "metadata": {},
   "outputs": [],
   "source": [
    "interestVarAggrAccess = [i + '_access' for i in interestVarAggr]\n",
    "for col in interestVarAggrAccess:\n",
    "    gdf[f'{col}_normalized'] = (gdf[col] - gdf[col].min()) / (gdf[col].max() - gdf[col].min())"
   ]
  },
  {
   "cell_type": "code",
   "execution_count": null,
   "id": "4bfa2abd-caac-4bd9-900e-ad899482d732",
   "metadata": {},
   "outputs": [],
   "source": [
    "gdf['CS_aggregated'] = sum(gdf[f'{col}_access_normalized'] * (1 - gdf[f'weight_{col}']) for col in interestVarAggr)"
   ]
  },
  {
   "cell_type": "code",
   "execution_count": null,
   "id": "3292a40f-db33-4a39-82dc-4036679fa5f7",
   "metadata": {},
   "outputs": [],
   "source": [
    "gdf['CS_aggregated_without_weight'] = sum(gdf[f'{col}_access_normalized'] for col in interestVarAggr)"
   ]
  },
  {
   "cell_type": "code",
   "execution_count": null,
   "id": "6ce566a4-8344-4db8-9dc8-3296e3f2e94a",
   "metadata": {},
   "outputs": [],
   "source": [
    "gdf.head()"
   ]
  },
  {
   "cell_type": "markdown",
   "id": "e02774f4-ec72-4d46-ae55-ec63b20d4f8e",
   "metadata": {},
   "source": [
    "## 2SFCA results"
   ]
  },
  {
   "cell_type": "code",
   "execution_count": null,
   "id": "d35508a2-22ce-49e9-a562-5ea527446c15",
   "metadata": {},
   "outputs": [],
   "source": [
    "hs.folium_color_map(gdf,\"CS_aggregated_without_weight\")"
   ]
  },
  {
   "cell_type": "code",
   "execution_count": null,
   "id": "5a193562-1fc6-411c-ab4d-851eabcbe943",
   "metadata": {},
   "outputs": [],
   "source": [
    "hs.folium_color_map(gdf,\"CS_aggregated\")"
   ]
  },
  {
   "cell_type": "markdown",
   "id": "2c84c532-5770-4e50-88cb-5869b88dd89e",
   "metadata": {},
   "source": [
    "Save the results:"
   ]
  },
  {
   "cell_type": "code",
   "execution_count": null,
   "id": "3e86cbda-6bf8-4ee7-9dc3-17f1cd9e9093",
   "metadata": {},
   "outputs": [],
   "source": [
    "gdf.to_file('results_' + gdf_name, layer=\"cool\", driver=\"GPKG\")"
   ]
  },
  {
   "cell_type": "code",
   "execution_count": null,
   "id": "46257cc3-e420-41b8-927c-c7a4d806d443",
   "metadata": {},
   "outputs": [],
   "source": []
  }
 ],
 "metadata": {
  "kernelspec": {
   "display_name": "Python (batomouchekurwa)",
   "language": "python",
   "name": "batomouchekurwa"
  },
  "language_info": {
   "codemirror_mode": {
    "name": "ipython",
    "version": 3
   },
   "file_extension": ".py",
   "mimetype": "text/x-python",
   "name": "python",
   "nbconvert_exporter": "python",
   "pygments_lexer": "ipython3",
   "version": "3.11.7"
  }
 },
 "nbformat": 4,
 "nbformat_minor": 5
}
