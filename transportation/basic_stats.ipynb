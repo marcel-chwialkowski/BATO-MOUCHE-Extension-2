{
 "cells": [
  {
   "cell_type": "code",
   "execution_count": 98,
   "metadata": {},
   "outputs": [
    {
     "name": "stdout",
     "output_type": "stream",
     "text": [
      "巴黎轨道交通站数量: 485\n",
      "巴黎公交站数量: 248\n",
      "巴黎共享自行车站数量: 992\n"
     ]
    },
    {
     "name": "stderr",
     "output_type": "stream",
     "text": [
      "/Users/yubocai/anaconda3/envs/mlp/lib/python3.9/site-packages/ipykernel/ipkernel.py:283: DeprecationWarning:\n",
      "\n",
      "`should_run_async` will not call `transform_cell` automatically in the future. Please pass the result to `transformed_cell` argument and any exception that happen during thetransform in `preprocessing_exc_tuple` in IPython 7.17 and above.\n",
      "\n",
      "<ipython-input-98-b00129f26f65>:10: UserWarning:\n",
      "\n",
      "The `geometries` module and `geometries_from_X` functions have been renamed the `features` module and `features_from_X` functions. Use these instead. The `geometries` module and function names are deprecated and will be removed in a future release.\n",
      "\n",
      "<ipython-input-98-b00129f26f65>:14: UserWarning:\n",
      "\n",
      "The `geometries` module and `geometries_from_X` functions have been renamed the `features` module and `features_from_X` functions. Use these instead. The `geometries` module and function names are deprecated and will be removed in a future release.\n",
      "\n",
      "<ipython-input-98-b00129f26f65>:18: UserWarning:\n",
      "\n",
      "The `geometries` module and `geometries_from_X` functions have been renamed the `features` module and `features_from_X` functions. Use these instead. The `geometries` module and function names are deprecated and will be removed in a future release.\n",
      "\n"
     ]
    }
   ],
   "source": [
    "import osmnx as ox\n",
    "\n",
    "# 定义巴黎的地理位置和轨道交通、公交站、共享自行车站的标签\n",
    "city = \"Paris, France\"\n",
    "tags_railway = {\"railway\": [\"station\", \"halt\", \"tram_stop\"], 'station': 'subway'}\n",
    "tags_bus = {'public_transport': 'station'}\n",
    "tags_bike = tags_bike = {\"bicycle_rental\": \"docking_station\"}\n",
    "\n",
    "# 获取巴黎轨道交通站的数量\n",
    "stations_railway = ox.geometries_from_place(city, tags_railway)\n",
    "num_railway_stations = len(stations_railway)\n",
    "\n",
    "# 获取巴黎公交站数\n",
    "stations_bus = ox.geometries_from_place(city, tags_bus)\n",
    "num_bus_stations = len(stations_bus)\n",
    "\n",
    "# 获取巴黎共享自行车站的数量\n",
    "stations_bike = ox.geometries_from_place(city, tags_bike)\n",
    "num_bike_stations = len(stations_bike)\n",
    "\n",
    "print(\"巴黎轨道交通站数量:\", num_railway_stations)\n",
    "print(\"巴黎公交站数量:\", num_bus_stations)\n",
    "print(\"巴黎共享自行车站数量:\", num_bike_stations)\n"
   ]
  },
  {
   "cell_type": "code",
   "execution_count": 99,
   "metadata": {},
   "outputs": [
    {
     "name": "stderr",
     "output_type": "stream",
     "text": [
      "/Users/yubocai/anaconda3/envs/mlp/lib/python3.9/site-packages/ipykernel/ipkernel.py:283: DeprecationWarning:\n",
      "\n",
      "`should_run_async` will not call `transform_cell` automatically in the future. Please pass the result to `transformed_cell` argument and any exception that happen during thetransform in `preprocessing_exc_tuple` in IPython 7.17 and above.\n",
      "\n",
      "<ipython-input-99-69a3eaa8019f>:13: UserWarning:\n",
      "\n",
      "The `geometries` module and `geometries_from_X` functions have been renamed the `features` module and `features_from_X` functions. Use these instead. The `geometries` module and function names are deprecated and will be removed in a future release.\n",
      "\n",
      "<ipython-input-99-69a3eaa8019f>:13: UserWarning:\n",
      "\n",
      "The `geometries` module and `geometries_from_X` functions have been renamed the `features` module and `features_from_X` functions. Use these instead. The `geometries` module and function names are deprecated and will be removed in a future release.\n",
      "\n",
      "<ipython-input-99-69a3eaa8019f>:13: UserWarning:\n",
      "\n",
      "The `geometries` module and `geometries_from_X` functions have been renamed the `features` module and `features_from_X` functions. Use these instead. The `geometries` module and function names are deprecated and will be removed in a future release.\n",
      "\n",
      "<ipython-input-99-69a3eaa8019f>:13: UserWarning:\n",
      "\n",
      "The `geometries` module and `geometries_from_X` functions have been renamed the `features` module and `features_from_X` functions. Use these instead. The `geometries` module and function names are deprecated and will be removed in a future release.\n",
      "\n",
      "<ipython-input-99-69a3eaa8019f>:13: UserWarning:\n",
      "\n",
      "The `geometries` module and `geometries_from_X` functions have been renamed the `features` module and `features_from_X` functions. Use these instead. The `geometries` module and function names are deprecated and will be removed in a future release.\n",
      "\n",
      "<ipython-input-99-69a3eaa8019f>:13: UserWarning:\n",
      "\n",
      "The `geometries` module and `geometries_from_X` functions have been renamed the `features` module and `features_from_X` functions. Use these instead. The `geometries` module and function names are deprecated and will be removed in a future release.\n",
      "\n",
      "<ipython-input-99-69a3eaa8019f>:13: UserWarning:\n",
      "\n",
      "The `geometries` module and `geometries_from_X` functions have been renamed the `features` module and `features_from_X` functions. Use these instead. The `geometries` module and function names are deprecated and will be removed in a future release.\n",
      "\n",
      "<ipython-input-99-69a3eaa8019f>:13: UserWarning:\n",
      "\n",
      "The `geometries` module and `geometries_from_X` functions have been renamed the `features` module and `features_from_X` functions. Use these instead. The `geometries` module and function names are deprecated and will be removed in a future release.\n",
      "\n",
      "<ipython-input-99-69a3eaa8019f>:13: UserWarning:\n",
      "\n",
      "The `geometries` module and `geometries_from_X` functions have been renamed the `features` module and `features_from_X` functions. Use these instead. The `geometries` module and function names are deprecated and will be removed in a future release.\n",
      "\n",
      "<ipython-input-99-69a3eaa8019f>:13: UserWarning:\n",
      "\n",
      "The `geometries` module and `geometries_from_X` functions have been renamed the `features` module and `features_from_X` functions. Use these instead. The `geometries` module and function names are deprecated and will be removed in a future release.\n",
      "\n",
      "<ipython-input-99-69a3eaa8019f>:13: UserWarning:\n",
      "\n",
      "The `geometries` module and `geometries_from_X` functions have been renamed the `features` module and `features_from_X` functions. Use these instead. The `geometries` module and function names are deprecated and will be removed in a future release.\n",
      "\n",
      "<ipython-input-99-69a3eaa8019f>:13: UserWarning:\n",
      "\n",
      "The `geometries` module and `geometries_from_X` functions have been renamed the `features` module and `features_from_X` functions. Use these instead. The `geometries` module and function names are deprecated and will be removed in a future release.\n",
      "\n",
      "<ipython-input-99-69a3eaa8019f>:13: UserWarning:\n",
      "\n",
      "The `geometries` module and `geometries_from_X` functions have been renamed the `features` module and `features_from_X` functions. Use these instead. The `geometries` module and function names are deprecated and will be removed in a future release.\n",
      "\n",
      "<ipython-input-99-69a3eaa8019f>:13: UserWarning:\n",
      "\n",
      "The `geometries` module and `geometries_from_X` functions have been renamed the `features` module and `features_from_X` functions. Use these instead. The `geometries` module and function names are deprecated and will be removed in a future release.\n",
      "\n",
      "<ipython-input-99-69a3eaa8019f>:13: UserWarning:\n",
      "\n",
      "The `geometries` module and `geometries_from_X` functions have been renamed the `features` module and `features_from_X` functions. Use these instead. The `geometries` module and function names are deprecated and will be removed in a future release.\n",
      "\n",
      "<ipython-input-99-69a3eaa8019f>:13: UserWarning:\n",
      "\n",
      "The `geometries` module and `geometries_from_X` functions have been renamed the `features` module and `features_from_X` functions. Use these instead. The `geometries` module and function names are deprecated and will be removed in a future release.\n",
      "\n",
      "<ipython-input-99-69a3eaa8019f>:13: UserWarning:\n",
      "\n",
      "The `geometries` module and `geometries_from_X` functions have been renamed the `features` module and `features_from_X` functions. Use these instead. The `geometries` module and function names are deprecated and will be removed in a future release.\n",
      "\n",
      "<ipython-input-99-69a3eaa8019f>:13: UserWarning:\n",
      "\n",
      "The `geometries` module and `geometries_from_X` functions have been renamed the `features` module and `features_from_X` functions. Use these instead. The `geometries` module and function names are deprecated and will be removed in a future release.\n",
      "\n",
      "<ipython-input-99-69a3eaa8019f>:13: UserWarning:\n",
      "\n",
      "The `geometries` module and `geometries_from_X` functions have been renamed the `features` module and `features_from_X` functions. Use these instead. The `geometries` module and function names are deprecated and will be removed in a future release.\n",
      "\n",
      "<ipython-input-99-69a3eaa8019f>:13: UserWarning:\n",
      "\n",
      "The `geometries` module and `geometries_from_X` functions have been renamed the `features` module and `features_from_X` functions. Use these instead. The `geometries` module and function names are deprecated and will be removed in a future release.\n",
      "\n",
      "<ipython-input-99-69a3eaa8019f>:13: UserWarning:\n",
      "\n",
      "The `geometries` module and `geometries_from_X` functions have been renamed the `features` module and `features_from_X` functions. Use these instead. The `geometries` module and function names are deprecated and will be removed in a future release.\n",
      "\n",
      "<ipython-input-99-69a3eaa8019f>:13: UserWarning:\n",
      "\n",
      "The `geometries` module and `geometries_from_X` functions have been renamed the `features` module and `features_from_X` functions. Use these instead. The `geometries` module and function names are deprecated and will be removed in a future release.\n",
      "\n",
      "<ipython-input-99-69a3eaa8019f>:13: UserWarning:\n",
      "\n",
      "The `geometries` module and `geometries_from_X` functions have been renamed the `features` module and `features_from_X` functions. Use these instead. The `geometries` module and function names are deprecated and will be removed in a future release.\n",
      "\n",
      "<ipython-input-99-69a3eaa8019f>:13: UserWarning:\n",
      "\n",
      "The `geometries` module and `geometries_from_X` functions have been renamed the `features` module and `features_from_X` functions. Use these instead. The `geometries` module and function names are deprecated and will be removed in a future release.\n",
      "\n",
      "<ipython-input-99-69a3eaa8019f>:13: UserWarning:\n",
      "\n",
      "The `geometries` module and `geometries_from_X` functions have been renamed the `features` module and `features_from_X` functions. Use these instead. The `geometries` module and function names are deprecated and will be removed in a future release.\n",
      "\n",
      "<ipython-input-99-69a3eaa8019f>:13: UserWarning:\n",
      "\n",
      "The `geometries` module and `geometries_from_X` functions have been renamed the `features` module and `features_from_X` functions. Use these instead. The `geometries` module and function names are deprecated and will be removed in a future release.\n",
      "\n",
      "<ipython-input-99-69a3eaa8019f>:13: UserWarning:\n",
      "\n",
      "The `geometries` module and `geometries_from_X` functions have been renamed the `features` module and `features_from_X` functions. Use these instead. The `geometries` module and function names are deprecated and will be removed in a future release.\n",
      "\n",
      "<ipython-input-99-69a3eaa8019f>:13: UserWarning:\n",
      "\n",
      "The `geometries` module and `geometries_from_X` functions have been renamed the `features` module and `features_from_X` functions. Use these instead. The `geometries` module and function names are deprecated and will be removed in a future release.\n",
      "\n",
      "<ipython-input-99-69a3eaa8019f>:13: UserWarning:\n",
      "\n",
      "The `geometries` module and `geometries_from_X` functions have been renamed the `features` module and `features_from_X` functions. Use these instead. The `geometries` module and function names are deprecated and will be removed in a future release.\n",
      "\n",
      "<ipython-input-99-69a3eaa8019f>:13: UserWarning:\n",
      "\n",
      "The `geometries` module and `geometries_from_X` functions have been renamed the `features` module and `features_from_X` functions. Use these instead. The `geometries` module and function names are deprecated and will be removed in a future release.\n",
      "\n"
     ]
    },
    {
     "data": {
      "text/html": [
       "<div>\n",
       "<style scoped>\n",
       "    .dataframe tbody tr th:only-of-type {\n",
       "        vertical-align: middle;\n",
       "    }\n",
       "\n",
       "    .dataframe tbody tr th {\n",
       "        vertical-align: top;\n",
       "    }\n",
       "\n",
       "    .dataframe thead th {\n",
       "        text-align: right;\n",
       "    }\n",
       "</style>\n",
       "<table border=\"1\" class=\"dataframe\">\n",
       "  <thead>\n",
       "    <tr style=\"text-align: right;\">\n",
       "      <th></th>\n",
       "      <th>Bicycle Sharing Docking Station</th>\n",
       "      <th>Bus Station</th>\n",
       "      <th>Railway Station</th>\n",
       "    </tr>\n",
       "  </thead>\n",
       "  <tbody>\n",
       "    <tr>\n",
       "      <th>Gare du Nord, Paris</th>\n",
       "      <td>68</td>\n",
       "      <td>16</td>\n",
       "      <td>18</td>\n",
       "    </tr>\n",
       "    <tr>\n",
       "      <th>Porte de la Chapelle, Paris</th>\n",
       "      <td>20</td>\n",
       "      <td>3</td>\n",
       "      <td>13</td>\n",
       "    </tr>\n",
       "    <tr>\n",
       "      <th>Opéra Garnier, Paris</th>\n",
       "      <td>77</td>\n",
       "      <td>24</td>\n",
       "      <td>26</td>\n",
       "    </tr>\n",
       "    <tr>\n",
       "      <th>Sacré Coeur, Paris</th>\n",
       "      <td>54</td>\n",
       "      <td>12</td>\n",
       "      <td>14</td>\n",
       "    </tr>\n",
       "    <tr>\n",
       "      <th>Place de la Bastille, Paris</th>\n",
       "      <td>48</td>\n",
       "      <td>10</td>\n",
       "      <td>14</td>\n",
       "    </tr>\n",
       "    <tr>\n",
       "      <th>Arc de triomphe, Paris</th>\n",
       "      <td>49</td>\n",
       "      <td>17</td>\n",
       "      <td>19</td>\n",
       "    </tr>\n",
       "    <tr>\n",
       "      <th>Olympiades, Paris</th>\n",
       "      <td>37</td>\n",
       "      <td>9</td>\n",
       "      <td>24</td>\n",
       "    </tr>\n",
       "    <tr>\n",
       "      <th>Quartier de Javel, Paris</th>\n",
       "      <td>40</td>\n",
       "      <td>12</td>\n",
       "      <td>28</td>\n",
       "    </tr>\n",
       "    <tr>\n",
       "      <th>Eglise du Saint-Esprit, Paris</th>\n",
       "      <td>31</td>\n",
       "      <td>9</td>\n",
       "      <td>22</td>\n",
       "    </tr>\n",
       "    <tr>\n",
       "      <th>Place des Vosges, Paris</th>\n",
       "      <td>55</td>\n",
       "      <td>8</td>\n",
       "      <td>13</td>\n",
       "    </tr>\n",
       "  </tbody>\n",
       "</table>\n",
       "</div>"
      ],
      "text/plain": [
       "                               Bicycle Sharing Docking Station  Bus Station  \\\n",
       "Gare du Nord, Paris                                         68           16   \n",
       "Porte de la Chapelle, Paris                                 20            3   \n",
       "Opéra Garnier, Paris                                        77           24   \n",
       "Sacré Coeur, Paris                                          54           12   \n",
       "Place de la Bastille, Paris                                 48           10   \n",
       "Arc de triomphe, Paris                                      49           17   \n",
       "Olympiades, Paris                                           37            9   \n",
       "Quartier de Javel, Paris                                    40           12   \n",
       "Eglise du Saint-Esprit, Paris                               31            9   \n",
       "Place des Vosges, Paris                                     55            8   \n",
       "\n",
       "                               Railway Station  \n",
       "Gare du Nord, Paris                         18  \n",
       "Porte de la Chapelle, Paris                 13  \n",
       "Opéra Garnier, Paris                        26  \n",
       "Sacré Coeur, Paris                          14  \n",
       "Place de la Bastille, Paris                 14  \n",
       "Arc de triomphe, Paris                      19  \n",
       "Olympiades, Paris                           24  \n",
       "Quartier de Javel, Paris                    28  \n",
       "Eglise du Saint-Esprit, Paris               22  \n",
       "Place des Vosges, Paris                     13  "
      ]
     },
     "execution_count": 99,
     "metadata": {},
     "output_type": "execute_result"
    }
   ],
   "source": [
    "import osmnx as ox\n",
    "\n",
    "def count_transport_stations(coords, tags_information, radius=1000):\n",
    "    # 初始化字典，用于存储每个站点类型的数量\n",
    "    data = {key: [] for key in tags_information.keys()}\n",
    "\n",
    "    # 遍历每个地点\n",
    "    for place, coordinate in coords.items():\n",
    "        # 遍历每个标签\n",
    "        for key, tag in tags_information.items():\n",
    "            try:\n",
    "                # 检索特定标签的 POI\n",
    "                gdf = ox.geometries_from_point(coordinate, tags=tag, dist=radius)\n",
    "                data[key].append(len(gdf))\n",
    "            except Exception as e:\n",
    "                # 如果出现错误，记录错误信息\n",
    "                print(f\"Error with tag {key} at location {place}: {e}\")\n",
    "                data[key].append('Error')\n",
    "\n",
    "    # 将数据转换为 Pandas DataFrame\n",
    "    return pd.DataFrame(data, index=coords.keys())\n",
    "\n",
    "# 定义标签信息\n",
    "# tags_information = {\n",
    "#     'Number of Bicycle Sharing': {'amenity': 'bicycle_rental'},\n",
    "#     'Bus Station Number': {\"highway\": \"bus_stop\"},\n",
    "#     'railway_station': {'railway': [\"station\", \"halt\", \"tram_stop\"]},\n",
    "# }\n",
    "\n",
    "tags_information = {\n",
    "    'Bicycle Sharing Docking Station': {\"bicycle_rental\": \"docking_station\"},\n",
    "    'Bus Station': {'public_transport': 'station'},\n",
    "    'Railway Station': {'railway': [\"station\", \"halt\", \"tram_stop\"]},\n",
    "}\n",
    "\n",
    "# 定义坐标信息\n",
    "coords = {\n",
    " 'Gare du Nord, Paris': (48.881399, 2.357438),\n",
    " 'Porte de la Chapelle, Paris': (48.8977035, 2.3594563),\n",
    " 'Opéra Garnier, Paris': (48.87202885000001, 2.331785061251358),\n",
    " 'Sacré Coeur, Paris': (48.88680575, 2.3430153448835087),\n",
    " 'Place de la Bastille, Paris': (48.8534157, 2.3696321),\n",
    " 'Arc de triomphe, Paris': (48.8737791, 2.295037226037673),\n",
    " 'Olympiades, Paris': (48.8270448, 2.3664175),\n",
    " 'Quartier de Javel, Paris': (48.8392472, 2.279050277443888),\n",
    " 'Eglise du Saint-Esprit, Paris': (48.8382111, 2.397625542131148),\n",
    " 'Place des Vosges, Paris': (48.85559575, 2.3655334556312413)\n",
    "}\n",
    "\n",
    "# 执行函数并打印结果\n",
    "stations_count_df = count_transport_stations(coords, tags_information)\n",
    "stations_count_df\n"
   ]
  },
  {
   "cell_type": "code",
   "execution_count": 100,
   "metadata": {},
   "outputs": [
    {
     "name": "stderr",
     "output_type": "stream",
     "text": [
      "/Users/yubocai/anaconda3/envs/mlp/lib/python3.9/site-packages/ipykernel/ipkernel.py:283: DeprecationWarning:\n",
      "\n",
      "`should_run_async` will not call `transform_cell` automatically in the future. Please pass the result to `transformed_cell` argument and any exception that happen during thetransform in `preprocessing_exc_tuple` in IPython 7.17 and above.\n",
      "\n"
     ]
    },
    {
     "data": {
      "image/png": "[encoded data removed]",
      "text/plain": [
       "<Figure size 576x576 with 1 Axes>"
      ]
     },
     "metadata": {},
     "output_type": "display_data"
    },
    {
     "data": {
      "application/vnd.plotly.v1+json": {
       "config": {
        "plotlyServerURL": "https://plot.ly"
       },
       "data": [
        {
         "alignmentgroup": "True",
         "hovertemplate": "Variable=Bicycle Sharing Docking Station<br>Place=%{x}<br>Number=%{y}<extra></extra>",
         "legendgroup": "Bicycle Sharing Docking Station",
         "marker": {
          "color": "#636efa",
          "pattern": {
           "shape": ""
          }
         },
         "name": "Bicycle Sharing Docking Station",
         "offsetgroup": "Bicycle Sharing Docking Station",
         "orientation": "v",
         "showlegend": true,
         "textposition": "auto",
         "type": "bar",
         "x": [
          "Gare du Nord, Paris",
          "Porte de la Chapelle, Paris",
          "Opéra Garnier, Paris",
          "Sacré Coeur, Paris",
          "Place de la Bastille, Paris",
          "Arc de triomphe, Paris",
          "Olympiades, Paris",
          "Quartier de Javel, Paris",
          "Eglise du Saint-Esprit, Paris",
          "Place des Vosges, Paris"
         ],
         "xaxis": "x",
         "y": [
          68,
          20,
          77,
          54,
          48,
          49,
          37,
          40,
          31,
          55
         ],
         "yaxis": "y"
        },
        {
         "alignmentgroup": "True",
         "hovertemplate": "Variable=Bus Station<br>Place=%{x}<br>Number=%{y}<extra></extra>",
         "legendgroup": "Bus Station",
         "marker": {
          "color": "#EF553B",
          "pattern": {
           "shape": ""
          }
         },
         "name": "Bus Station",
         "offsetgroup": "Bus Station",
         "orientation": "v",
         "showlegend": true,
         "textposition": "auto",
         "type": "bar",
         "x": [
          "Gare du Nord, Paris",
          "Porte de la Chapelle, Paris",
          "Opéra Garnier, Paris",
          "Sacré Coeur, Paris",
          "Place de la Bastille, Paris",
          "Arc de triomphe, Paris",
          "Olympiades, Paris",
          "Quartier de Javel, Paris",
          "Eglise du Saint-Esprit, Paris",
          "Place des Vosges, Paris"
         ],
         "xaxis": "x",
         "y": [
          16,
          3,
          24,
          12,
          10,
          17,
          9,
          12,
          9,
          8
         ],
         "yaxis": "y"
        },
        {
         "alignmentgroup": "True",
         "hovertemplate": "Variable=Railway Station<br>Place=%{x}<br>Number=%{y}<extra></extra>",
         "legendgroup": "Railway Station",
         "marker": {
          "color": "#00cc96",
          "pattern": {
           "shape": ""
          }
         },
         "name": "Railway Station",
         "offsetgroup": "Railway Station",
         "orientation": "v",
         "showlegend": true,
         "textposition": "auto",
         "type": "bar",
         "x": [
          "Gare du Nord, Paris",
          "Porte de la Chapelle, Paris",
          "Opéra Garnier, Paris",
          "Sacré Coeur, Paris",
          "Place de la Bastille, Paris",
          "Arc de triomphe, Paris",
          "Olympiades, Paris",
          "Quartier de Javel, Paris",
          "Eglise du Saint-Esprit, Paris",
          "Place des Vosges, Paris"
         ],
         "xaxis": "x",
         "y": [
          18,
          13,
          26,
          14,
          14,
          19,
          24,
          28,
          22,
          13
         ],
         "yaxis": "y"
        }
       ],
       "layout": {
        "barmode": "relative",
        "height": 500,
        "legend": {
         "title": {
          "text": "Variable"
         },
         "tracegroupgap": 0
        },
        "margin": {
         "t": 60
        },
        "showlegend": true,
        "template": {
         "data": {
          "bar": [
           {
            "error_x": {
             "color": "#2a3f5f"
            },
            "error_y": {
             "color": "#2a3f5f"
            },
            "marker": {
             "line": {
              "color": "#E5ECF6",
              "width": 0.5
             },
             "pattern": {
              "fillmode": "overlay",
              "size": 10,
              "solidity": 0.2
             }
            },
            "type": "bar"
           }
          ],
          "barpolar": [
           {
            "marker": {
             "line": {
              "color": "#E5ECF6",
              "width": 0.5
             },
             "pattern": {
              "fillmode": "overlay",
              "size": 10,
              "solidity": 0.2
             }
            },
            "type": "barpolar"
           }
          ],
          "carpet": [
           {
            "aaxis": {
             "endlinecolor": "#2a3f5f",
             "gridcolor": "white",
             "linecolor": "white",
             "minorgridcolor": "white",
             "startlinecolor": "#2a3f5f"
            },
            "baxis": {
             "endlinecolor": "#2a3f5f",
             "gridcolor": "white",
             "linecolor": "white",
             "minorgridcolor": "white",
             "startlinecolor": "#2a3f5f"
            },
            "type": "carpet"
           }
          ],
          "choropleth": [
           {
            "colorbar": {
             "outlinewidth": 0,
             "ticks": ""
            },
            "type": "choropleth"
           }
          ],
          "contour": [
           {
            "colorbar": {
             "outlinewidth": 0,
             "ticks": ""
            },
            "colorscale": [
             [
              0,
              "#0d0887"
             ],
             [
              0.1111111111111111,
              "#46039f"
             ],
             [
              0.2222222222222222,
              "#7201a8"
             ],
             [
              0.3333333333333333,
              "#9c179e"
             ],
             [
              0.4444444444444444,
              "#bd3786"
             ],
             [
              0.5555555555555556,
              "#d8576b"
             ],
             [
              0.6666666666666666,
              "#ed7953"
             ],
             [
              0.7777777777777778,
              "#fb9f3a"
             ],
             [
              0.8888888888888888,
              "#fdca26"
             ],
             [
              1,
              "#f0f921"
             ]
            ],
            "type": "contour"
           }
          ],
          "contourcarpet": [
           {
            "colorbar": {
             "outlinewidth": 0,
             "ticks": ""
            },
            "type": "contourcarpet"
           }
          ],
          "heatmap": [
           {
            "colorbar": {
             "outlinewidth": 0,
             "ticks": ""
            },
            "colorscale": [
             [
              0,
              "#0d0887"
             ],
             [
              0.1111111111111111,
              "#46039f"
             ],
             [
              0.2222222222222222,
              "#7201a8"
             ],
             [
              0.3333333333333333,
              "#9c179e"
             ],
             [
              0.4444444444444444,
              "#bd3786"
             ],
             [
              0.5555555555555556,
              "#d8576b"
             ],
             [
              0.6666666666666666,
              "#ed7953"
             ],
             [
              0.7777777777777778,
              "#fb9f3a"
             ],
             [
              0.8888888888888888,
              "#fdca26"
             ],
             [
              1,
              "#f0f921"
             ]
            ],
            "type": "heatmap"
           }
          ],
          "heatmapgl": [
           {
            "colorbar": {
             "outlinewidth": 0,
             "ticks": ""
            },
            "colorscale": [
             [
              0,
              "#0d0887"
             ],
             [
              0.1111111111111111,
              "#46039f"
             ],
             [
              0.2222222222222222,
              "#7201a8"
             ],
             [
              0.3333333333333333,
              "#9c179e"
             ],
             [
              0.4444444444444444,
              "#bd3786"
             ],
             [
              0.5555555555555556,
              "#d8576b"
             ],
             [
              0.6666666666666666,
              "#ed7953"
             ],
             [
              0.7777777777777778,
              "#fb9f3a"
             ],
             [
              0.8888888888888888,
              "#fdca26"
             ],
             [
              1,
              "#f0f921"
             ]
            ],
            "type": "heatmapgl"
           }
          ],
          "histogram": [
           {
            "marker": {
             "pattern": {
              "fillmode": "overlay",
              "size": 10,
              "solidity": 0.2
             }
            },
            "type": "histogram"
           }
          ],
          "histogram2d": [
           {
            "colorbar": {
             "outlinewidth": 0,
             "ticks": ""
            },
            "colorscale": [
             [
              0,
              "#0d0887"
             ],
             [
              0.1111111111111111,
              "#46039f"
             ],
             [
              0.2222222222222222,
              "#7201a8"
             ],
             [
              0.3333333333333333,
              "#9c179e"
             ],
             [
              0.4444444444444444,
              "#bd3786"
             ],
             [
              0.5555555555555556,
              "#d8576b"
             ],
             [
              0.6666666666666666,
              "#ed7953"
             ],
             [
              0.7777777777777778,
              "#fb9f3a"
             ],
             [
              0.8888888888888888,
              "#fdca26"
             ],
             [
              1,
              "#f0f921"
             ]
            ],
            "type": "histogram2d"
           }
          ],
          "histogram2dcontour": [
           {
            "colorbar": {
             "outlinewidth": 0,
             "ticks": ""
            },
            "colorscale": [
             [
              0,
              "#0d0887"
             ],
             [
              0.1111111111111111,
              "#46039f"
             ],
             [
              0.2222222222222222,
              "#7201a8"
             ],
             [
              0.3333333333333333,
              "#9c179e"
             ],
             [
              0.4444444444444444,
              "#bd3786"
             ],
             [
              0.5555555555555556,
              "#d8576b"
             ],
             [
              0.6666666666666666,
              "#ed7953"
             ],
             [
              0.7777777777777778,
              "#fb9f3a"
             ],
             [
              0.8888888888888888,
              "#fdca26"
             ],
             [
              1,
              "#f0f921"
             ]
            ],
            "type": "histogram2dcontour"
           }
          ],
          "mesh3d": [
           {
            "colorbar": {
             "outlinewidth": 0,
             "ticks": ""
            },
            "type": "mesh3d"
           }
          ],
          "parcoords": [
           {
            "line": {
             "colorbar": {
              "outlinewidth": 0,
              "ticks": ""
             }
            },
            "type": "parcoords"
           }
          ],
          "pie": [
           {
            "automargin": true,
            "type": "pie"
           }
          ],
          "scatter": [
           {
            "fillpattern": {
             "fillmode": "overlay",
             "size": 10,
             "solidity": 0.2
            },
            "type": "scatter"
           }
          ],
          "scatter3d": [
           {
            "line": {
             "colorbar": {
              "outlinewidth": 0,
              "ticks": ""
             }
            },
            "marker": {
             "colorbar": {
              "outlinewidth": 0,
              "ticks": ""
             }
            },
            "type": "scatter3d"
           }
          ],
          "scattercarpet": [
           {
            "marker": {
             "colorbar": {
              "outlinewidth": 0,
              "ticks": ""
             }
            },
            "type": "scattercarpet"
           }
          ],
          "scattergeo": [
           {
            "marker": {
             "colorbar": {
              "outlinewidth": 0,
              "ticks": ""
             }
            },
            "type": "scattergeo"
           }
          ],
          "scattergl": [
           {
            "marker": {
             "colorbar": {
              "outlinewidth": 0,
              "ticks": ""
             }
            },
            "type": "scattergl"
           }
          ],
          "scattermapbox": [
           {
            "marker": {
             "colorbar": {
              "outlinewidth": 0,
              "ticks": ""
             }
            },
            "type": "scattermapbox"
           }
          ],
          "scatterpolar": [
           {
            "marker": {
             "colorbar": {
              "outlinewidth": 0,
              "ticks": ""
             }
            },
            "type": "scatterpolar"
           }
          ],
          "scatterpolargl": [
           {
            "marker": {
             "colorbar": {
              "outlinewidth": 0,
              "ticks": ""
             }
            },
            "type": "scatterpolargl"
           }
          ],
          "scatterternary": [
           {
            "marker": {
             "colorbar": {
              "outlinewidth": 0,
              "ticks": ""
             }
            },
            "type": "scatterternary"
           }
          ],
          "surface": [
           {
            "colorbar": {
             "outlinewidth": 0,
             "ticks": ""
            },
            "colorscale": [
             [
              0,
              "#0d0887"
             ],
             [
              0.1111111111111111,
              "#46039f"
             ],
             [
              0.2222222222222222,
              "#7201a8"
             ],
             [
              0.3333333333333333,
              "#9c179e"
             ],
             [
              0.4444444444444444,
              "#bd3786"
             ],
             [
              0.5555555555555556,
              "#d8576b"
             ],
             [
              0.6666666666666666,
              "#ed7953"
             ],
             [
              0.7777777777777778,
              "#fb9f3a"
             ],
             [
              0.8888888888888888,
              "#fdca26"
             ],
             [
              1,
              "#f0f921"
             ]
            ],
            "type": "surface"
           }
          ],
          "table": [
           {
            "cells": {
             "fill": {
              "color": "#EBF0F8"
             },
             "line": {
              "color": "white"
             }
            },
            "header": {
             "fill": {
              "color": "#C8D4E3"
             },
             "line": {
              "color": "white"
             }
            },
            "type": "table"
           }
          ]
         },
         "layout": {
          "annotationdefaults": {
           "arrowcolor": "#2a3f5f",
           "arrowhead": 0,
           "arrowwidth": 1
          },
          "autotypenumbers": "strict",
          "coloraxis": {
           "colorbar": {
            "outlinewidth": 0,
            "ticks": ""
           }
          },
          "colorscale": {
           "diverging": [
            [
             0,
             "#8e0152"
            ],
            [
             0.1,
             "#c51b7d"
            ],
            [
             0.2,
             "#de77ae"
            ],
            [
             0.3,
             "#f1b6da"
            ],
            [
             0.4,
             "#fde0ef"
            ],
            [
             0.5,
             "#f7f7f7"
            ],
            [
             0.6,
             "#e6f5d0"
            ],
            [
             0.7,
             "#b8e186"
            ],
            [
             0.8,
             "#7fbc41"
            ],
            [
             0.9,
             "#4d9221"
            ],
            [
             1,
             "#276419"
            ]
           ],
           "sequential": [
            [
             0,
             "#0d0887"
            ],
            [
             0.1111111111111111,
             "#46039f"
            ],
            [
             0.2222222222222222,
             "#7201a8"
            ],
            [
             0.3333333333333333,
             "#9c179e"
            ],
            [
             0.4444444444444444,
             "#bd3786"
            ],
            [
             0.5555555555555556,
             "#d8576b"
            ],
            [
             0.6666666666666666,
             "#ed7953"
            ],
            [
             0.7777777777777778,
             "#fb9f3a"
            ],
            [
             0.8888888888888888,
             "#fdca26"
            ],
            [
             1,
             "#f0f921"
            ]
           ],
           "sequentialminus": [
            [
             0,
             "#0d0887"
            ],
            [
             0.1111111111111111,
             "#46039f"
            ],
            [
             0.2222222222222222,
             "#7201a8"
            ],
            [
             0.3333333333333333,
             "#9c179e"
            ],
            [
             0.4444444444444444,
             "#bd3786"
            ],
            [
             0.5555555555555556,
             "#d8576b"
            ],
            [
             0.6666666666666666,
             "#ed7953"
            ],
            [
             0.7777777777777778,
             "#fb9f3a"
            ],
            [
             0.8888888888888888,
             "#fdca26"
            ],
            [
             1,
             "#f0f921"
            ]
           ]
          },
          "colorway": [
           "#636efa",
           "#EF553B",
           "#00cc96",
           "#ab63fa",
           "#FFA15A",
           "#19d3f3",
           "#FF6692",
           "#B6E880",
           "#FF97FF",
           "#FECB52"
          ],
          "font": {
           "color": "#2a3f5f"
          },
          "geo": {
           "bgcolor": "white",
           "lakecolor": "white",
           "landcolor": "#E5ECF6",
           "showlakes": true,
           "showland": true,
           "subunitcolor": "white"
          },
          "hoverlabel": {
           "align": "left"
          },
          "hovermode": "closest",
          "mapbox": {
           "style": "light"
          },
          "paper_bgcolor": "white",
          "plot_bgcolor": "#E5ECF6",
          "polar": {
           "angularaxis": {
            "gridcolor": "white",
            "linecolor": "white",
            "ticks": ""
           },
           "bgcolor": "#E5ECF6",
           "radialaxis": {
            "gridcolor": "white",
            "linecolor": "white",
            "ticks": ""
           }
          },
          "scene": {
           "xaxis": {
            "backgroundcolor": "#E5ECF6",
            "gridcolor": "white",
            "gridwidth": 2,
            "linecolor": "white",
            "showbackground": true,
            "ticks": "",
            "zerolinecolor": "white"
           },
           "yaxis": {
            "backgroundcolor": "#E5ECF6",
            "gridcolor": "white",
            "gridwidth": 2,
            "linecolor": "white",
            "showbackground": true,
            "ticks": "",
            "zerolinecolor": "white"
           },
           "zaxis": {
            "backgroundcolor": "#E5ECF6",
            "gridcolor": "white",
            "gridwidth": 2,
            "linecolor": "white",
            "showbackground": true,
            "ticks": "",
            "zerolinecolor": "white"
           }
          },
          "shapedefaults": {
           "line": {
            "color": "#2a3f5f"
           }
          },
          "ternary": {
           "aaxis": {
            "gridcolor": "white",
            "linecolor": "white",
            "ticks": ""
           },
           "baxis": {
            "gridcolor": "white",
            "linecolor": "white",
            "ticks": ""
           },
           "bgcolor": "#E5ECF6",
           "caxis": {
            "gridcolor": "white",
            "linecolor": "white",
            "ticks": ""
           }
          },
          "title": {
           "x": 0.05
          },
          "xaxis": {
           "automargin": true,
           "gridcolor": "white",
           "linecolor": "white",
           "ticks": "",
           "title": {
            "standoff": 15
           },
           "zerolinecolor": "white",
           "zerolinewidth": 2
          },
          "yaxis": {
           "automargin": true,
           "gridcolor": "white",
           "linecolor": "white",
           "ticks": "",
           "title": {
            "standoff": 15
           },
           "zerolinecolor": "white",
           "zerolinewidth": 2
          }
         }
        },
        "width": 800,
        "xaxis": {
         "anchor": "y",
         "domain": [
          0,
          1
         ],
         "title": {
          "text": "Place"
         }
        },
        "yaxis": {
         "anchor": "x",
         "domain": [
          0,
          1
         ],
         "title": {
          "text": "Number"
         }
        }
       }
      }
     },
     "metadata": {},
     "output_type": "display_data"
    }
   ],
   "source": [
    "import matplotlib.pyplot as plt\n",
    "import pandas as pd\n",
    "import numpy as np\n",
    "from palettable.colorbrewer.qualitative import Pastel1_7\n",
    "import seaborn as sns\n",
    "\n",
    "def composition_chart(df, place, font_name='sans-serif', font_size=12, fig_size=(8, 8)):\n",
    "    # Extract the data for the specified place\n",
    "    data_row = df.loc[place]\n",
    "\n",
    "    # Prepare the data for the pie chart\n",
    "    sizes = data_row.values.tolist()\n",
    "    categories = data_row.index.tolist()\n",
    "\n",
    "    # Set font properties\n",
    "    plt.rcParams['font.size'] = font_size\n",
    "    plt.rcParams['font.family'] = font_name\n",
    "\n",
    "    # Create a pie chart with the specified figure size\n",
    "    plt.figure(figsize=fig_size)\n",
    "    plt.pie(sizes, labels=categories, autopct='%1.1f%%', startangle=90, pctdistance=0.85, colors=Pastel1_7.hex_colors, wedgeprops = { 'linewidth' : 7, 'edgecolor' : 'white' })\n",
    "\n",
    "    # Draw a circle at the center to make it a donut chart\n",
    "    center_circle = plt.Circle((0, 0), 0.70, color='white')\n",
    "    plt.gcf().gca().add_artist(center_circle)\n",
    "\n",
    "    # Equal aspect ratio ensures that pie is drawn as a circle\n",
    "    plt.axis('equal')\n",
    "    plt.title(f'Distribution of Amenities for {place}')\n",
    "    plt.show()\n",
    "\n",
    "# Call the function for a specific place\n",
    "graph = composition_chart(stations_count_df, 'Gare du Nord, Paris')\n",
    "graph \n",
    "\n",
    "def compare_places(df):\n",
    "    list_places = []\n",
    "    list_var = []\n",
    "    list_number = []\n",
    "    for place in df.index:\n",
    "        for var in df.columns:\n",
    "            list_places.append(place)\n",
    "            list_var.append(var)\n",
    "            list_number.append(df.loc[place, var])\n",
    "    \n",
    "    # Create a new dataframe with the lists\n",
    "    df_new = pd.DataFrame({'Place': list_places, 'Variable': list_var, 'Number': list_number})\n",
    "    fig = px.bar(df_new, x=\"Place\", y=\"Number\", color=\"Variable\", width=800, height=500)\n",
    "    fig.update_layout(showlegend=True)\n",
    "    \n",
    "    return fig\n",
    "\n",
    "# Call the function\n",
    "graph = compare_places(stations_count_df)\n",
    "graph"
   ]
  }
 ],
 "metadata": {
  "kernelspec": {
   "display_name": "Python 3",
   "language": "python",
   "name": "python3"
  },
  "language_info": {
   "codemirror_mode": {
    "name": "ipython",
    "version": 3
   },
   "file_extension": ".py",
   "mimetype": "text/x-python",
   "name": "python",
   "nbconvert_exporter": "python",
   "pygments_lexer": "ipython3",
   "version": "3.9.16"
  }
 },
 "nbformat": 4,
 "nbformat_minor": 2
}
