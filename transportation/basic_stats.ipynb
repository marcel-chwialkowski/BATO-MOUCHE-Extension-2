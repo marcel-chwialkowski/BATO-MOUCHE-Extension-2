{
 "cells": [
  {
   "cell_type": "markdown",
   "metadata": {},
   "source": [
    "## Basic statistics of the public transport network of Paris\n",
    "\n",
    "---\n",
    "\n",
    "In this notebook, we will compute some basic statistics of the public transport network of Paris. We focus on three types of public transportation:\n",
    "\n",
    "- **Railway Network:** Metro, RER, Tramway\n",
    "\n",
    "- **Bus Network:** Bus stops and bus lines\n",
    "\n",
    "- **Bike Network:** Bike stations and bike lanes\n",
    "\n",
    "All the data used in this notebook is coming from the [Open Street Map](https://www.openstreetmap.org/) project. However, since in [Open Street Map](https://www.openstreetmap.org/), all the information are provided by users, the data is not always accurate. "
   ]
  },
  {
   "cell_type": "code",
   "execution_count": 32,
   "metadata": {},
   "outputs": [
    {
     "name": "stderr",
     "output_type": "stream",
     "text": [
      "/Users/yubocai/anaconda3/envs/mlp/lib/python3.9/site-packages/ipykernel/ipkernel.py:283: DeprecationWarning:\n",
      "\n",
      "`should_run_async` will not call `transform_cell` automatically in the future. Please pass the result to `transformed_cell` argument and any exception that happen during thetransform in `preprocessing_exc_tuple` in IPython 7.17 and above.\n",
      "\n"
     ]
    }
   ],
   "source": [
    "import os\n",
    "import osmnx as ox\n",
    "import sys\n",
    "sys.path.append(os.path.abspath(os.path.join(os.getcwd(), os.pardir)))\n",
    "os.environ['USE_PYGEOS'] = '0'\n",
    "import helpers as hs"
   ]
  },
  {
   "cell_type": "code",
   "execution_count": 33,
   "metadata": {},
   "outputs": [],
   "source": [
    "tags_transportation = {\n",
    "    'Bicycle Sharing Docking Station': {\"bicycle_rental\": \"docking_station\"},\n",
    "    'Bus Station': {'highway': 'bus_stop'},\n",
    "    'Railway Station': {'railway': [\"station\", \"halt\", \"tram_stop\"]},\n",
    "}\n",
    "\n",
    "coords_places = {\n",
    "    'Gare du Nord, Paris': (48.881399, 2.357438),\n",
    "    'Porte de la Chapelle, Paris': (48.8977035, 2.3594563),\n",
    "    'Opéra Garnier, Paris': (48.87202885000001, 2.331785061251358),\n",
    "    'Sacré Coeur, Paris': (48.88680575, 2.3430153448835087),\n",
    "    'Place de la Bastille, Paris': (48.8534157, 2.3696321),\n",
    "    'Arc de triomphe, Paris': (48.8737791, 2.295037226037673),\n",
    "    'Olympiades, Paris': (48.8270448, 2.3664175),\n",
    "    'Quartier de Javel, Paris': (48.8392472, 2.279050277443888),\n",
    "    'Eglise du Saint-Esprit, Paris': (48.8382111, 2.397625542131148),\n",
    "    'Place des Vosges, Paris': (48.85559575, 2.3655334556312413),\n",
    "    \"Chatelet Les Halles, Paris\": (48.8616513, 2.3470129)\n",
    "}"
   ]
  },
  {
   "cell_type": "code",
   "execution_count": 40,
   "metadata": {},
   "outputs": [
    {
     "name": "stderr",
     "output_type": "stream",
     "text": [
      "/Users/yubocai/anaconda3/envs/mlp/lib/python3.9/site-packages/ipykernel/ipkernel.py:283: DeprecationWarning:\n",
      "\n",
      "`should_run_async` will not call `transform_cell` automatically in the future. Please pass the result to `transformed_cell` argument and any exception that happen during thetransform in `preprocessing_exc_tuple` in IPython 7.17 and above.\n",
      "\n",
      "<ipython-input-40-6bd0effb384e>:8: UserWarning:\n",
      "\n",
      "The `geometries` module and `geometries_from_X` functions have been renamed the `features` module and `features_from_X` functions. Use these instead. The `geometries` module and function names are deprecated and will be removed in a future release.\n",
      "\n",
      "<ipython-input-40-6bd0effb384e>:12: UserWarning:\n",
      "\n",
      "The `geometries` module and `geometries_from_X` functions have been renamed the `features` module and `features_from_X` functions. Use these instead. The `geometries` module and function names are deprecated and will be removed in a future release.\n",
      "\n"
     ]
    },
    {
     "name": "stdout",
     "output_type": "stream",
     "text": [
      "Number of bus stations in Paris: 2801\n",
      "Number of bike rental stations in Paris: 992\n"
     ]
    }
   ],
   "source": [
    "# Define geographic location of Paris and tags for railway stations, bus stations, and bike rental stations\n",
    "city = \"Paris, France\"\n",
    "tags_railway = {\"railway\": [\"station\", \"halt\", \"tram_stop\"], 'station': 'subway'}\n",
    "tags_bus = {'highway': 'bus_stop', 'layer': '*'}\n",
    "tags_bike = {\"bicycle_rental\": \"docking_station\"}\n",
    "\n",
    "# Retrieve the number of bus stations in Paris\n",
    "stations_bus = ox.geometries_from_place(city, tags_bus)\n",
    "num_bus_stations = len(stations_bus)\n",
    "\n",
    "# Retrieve the number of bike rental stations in Paris\n",
    "stations_bike = ox.geometries_from_place(city, tags_bike)\n",
    "num_bike_stations = len(stations_bike)\n",
    "\n",
    "print(\"Number of bus stations in Paris:\", num_bus_stations)\n",
    "print(\"Number of bike rental stations in Paris:\", num_bike_stations)"
   ]
  },
  {
   "cell_type": "markdown",
   "metadata": {},
   "source": [
    "Then, we try to see the puiblic transportation resources in the different districts of Paris. We first find out the coordinates of the districts of Paris, and then we use the Open Street Map API to find out the public transportation resources in the region with a radius of 1 km."
   ]
  },
  {
   "cell_type": "code",
   "execution_count": 35,
   "metadata": {},
   "outputs": [
    {
     "name": "stderr",
     "output_type": "stream",
     "text": [
      "/Users/yubocai/anaconda3/envs/mlp/lib/python3.9/site-packages/ipykernel/ipkernel.py:283: DeprecationWarning:\n",
      "\n",
      "`should_run_async` will not call `transform_cell` automatically in the future. Please pass the result to `transformed_cell` argument and any exception that happen during thetransform in `preprocessing_exc_tuple` in IPython 7.17 and above.\n",
      "\n",
      "/Users/yubocai/Desktop/Ecole Polytechnique/Internship/CREST/BATO_extension/helpers/basicstatistics.py:53: UserWarning:\n",
      "\n",
      "The `geometries` module and `geometries_from_X` functions have been renamed the `features` module and `features_from_X` functions. Use these instead. The `geometries` module and function names are deprecated and will be removed in a future release.\n",
      "\n",
      "/Users/yubocai/Desktop/Ecole Polytechnique/Internship/CREST/BATO_extension/helpers/basicstatistics.py:53: UserWarning:\n",
      "\n",
      "The `geometries` module and `geometries_from_X` functions have been renamed the `features` module and `features_from_X` functions. Use these instead. The `geometries` module and function names are deprecated and will be removed in a future release.\n",
      "\n",
      "/Users/yubocai/Desktop/Ecole Polytechnique/Internship/CREST/BATO_extension/helpers/basicstatistics.py:53: UserWarning:\n",
      "\n",
      "The `geometries` module and `geometries_from_X` functions have been renamed the `features` module and `features_from_X` functions. Use these instead. The `geometries` module and function names are deprecated and will be removed in a future release.\n",
      "\n",
      "/Users/yubocai/Desktop/Ecole Polytechnique/Internship/CREST/BATO_extension/helpers/basicstatistics.py:53: UserWarning:\n",
      "\n",
      "The `geometries` module and `geometries_from_X` functions have been renamed the `features` module and `features_from_X` functions. Use these instead. The `geometries` module and function names are deprecated and will be removed in a future release.\n",
      "\n",
      "/Users/yubocai/Desktop/Ecole Polytechnique/Internship/CREST/BATO_extension/helpers/basicstatistics.py:53: UserWarning:\n",
      "\n",
      "The `geometries` module and `geometries_from_X` functions have been renamed the `features` module and `features_from_X` functions. Use these instead. The `geometries` module and function names are deprecated and will be removed in a future release.\n",
      "\n",
      "/Users/yubocai/Desktop/Ecole Polytechnique/Internship/CREST/BATO_extension/helpers/basicstatistics.py:53: UserWarning:\n",
      "\n",
      "The `geometries` module and `geometries_from_X` functions have been renamed the `features` module and `features_from_X` functions. Use these instead. The `geometries` module and function names are deprecated and will be removed in a future release.\n",
      "\n",
      "/Users/yubocai/Desktop/Ecole Polytechnique/Internship/CREST/BATO_extension/helpers/basicstatistics.py:53: UserWarning:\n",
      "\n",
      "The `geometries` module and `geometries_from_X` functions have been renamed the `features` module and `features_from_X` functions. Use these instead. The `geometries` module and function names are deprecated and will be removed in a future release.\n",
      "\n",
      "/Users/yubocai/Desktop/Ecole Polytechnique/Internship/CREST/BATO_extension/helpers/basicstatistics.py:53: UserWarning:\n",
      "\n",
      "The `geometries` module and `geometries_from_X` functions have been renamed the `features` module and `features_from_X` functions. Use these instead. The `geometries` module and function names are deprecated and will be removed in a future release.\n",
      "\n",
      "/Users/yubocai/Desktop/Ecole Polytechnique/Internship/CREST/BATO_extension/helpers/basicstatistics.py:53: UserWarning:\n",
      "\n",
      "The `geometries` module and `geometries_from_X` functions have been renamed the `features` module and `features_from_X` functions. Use these instead. The `geometries` module and function names are deprecated and will be removed in a future release.\n",
      "\n",
      "/Users/yubocai/Desktop/Ecole Polytechnique/Internship/CREST/BATO_extension/helpers/basicstatistics.py:53: UserWarning:\n",
      "\n",
      "The `geometries` module and `geometries_from_X` functions have been renamed the `features` module and `features_from_X` functions. Use these instead. The `geometries` module and function names are deprecated and will be removed in a future release.\n",
      "\n",
      "/Users/yubocai/Desktop/Ecole Polytechnique/Internship/CREST/BATO_extension/helpers/basicstatistics.py:53: UserWarning:\n",
      "\n",
      "The `geometries` module and `geometries_from_X` functions have been renamed the `features` module and `features_from_X` functions. Use these instead. The `geometries` module and function names are deprecated and will be removed in a future release.\n",
      "\n",
      "/Users/yubocai/Desktop/Ecole Polytechnique/Internship/CREST/BATO_extension/helpers/basicstatistics.py:53: UserWarning:\n",
      "\n",
      "The `geometries` module and `geometries_from_X` functions have been renamed the `features` module and `features_from_X` functions. Use these instead. The `geometries` module and function names are deprecated and will be removed in a future release.\n",
      "\n",
      "/Users/yubocai/Desktop/Ecole Polytechnique/Internship/CREST/BATO_extension/helpers/basicstatistics.py:53: UserWarning:\n",
      "\n",
      "The `geometries` module and `geometries_from_X` functions have been renamed the `features` module and `features_from_X` functions. Use these instead. The `geometries` module and function names are deprecated and will be removed in a future release.\n",
      "\n",
      "/Users/yubocai/Desktop/Ecole Polytechnique/Internship/CREST/BATO_extension/helpers/basicstatistics.py:53: UserWarning:\n",
      "\n",
      "The `geometries` module and `geometries_from_X` functions have been renamed the `features` module and `features_from_X` functions. Use these instead. The `geometries` module and function names are deprecated and will be removed in a future release.\n",
      "\n",
      "/Users/yubocai/Desktop/Ecole Polytechnique/Internship/CREST/BATO_extension/helpers/basicstatistics.py:53: UserWarning:\n",
      "\n",
      "The `geometries` module and `geometries_from_X` functions have been renamed the `features` module and `features_from_X` functions. Use these instead. The `geometries` module and function names are deprecated and will be removed in a future release.\n",
      "\n",
      "/Users/yubocai/Desktop/Ecole Polytechnique/Internship/CREST/BATO_extension/helpers/basicstatistics.py:53: UserWarning:\n",
      "\n",
      "The `geometries` module and `geometries_from_X` functions have been renamed the `features` module and `features_from_X` functions. Use these instead. The `geometries` module and function names are deprecated and will be removed in a future release.\n",
      "\n",
      "/Users/yubocai/Desktop/Ecole Polytechnique/Internship/CREST/BATO_extension/helpers/basicstatistics.py:53: UserWarning:\n",
      "\n",
      "The `geometries` module and `geometries_from_X` functions have been renamed the `features` module and `features_from_X` functions. Use these instead. The `geometries` module and function names are deprecated and will be removed in a future release.\n",
      "\n",
      "/Users/yubocai/Desktop/Ecole Polytechnique/Internship/CREST/BATO_extension/helpers/basicstatistics.py:53: UserWarning:\n",
      "\n",
      "The `geometries` module and `geometries_from_X` functions have been renamed the `features` module and `features_from_X` functions. Use these instead. The `geometries` module and function names are deprecated and will be removed in a future release.\n",
      "\n",
      "/Users/yubocai/Desktop/Ecole Polytechnique/Internship/CREST/BATO_extension/helpers/basicstatistics.py:53: UserWarning:\n",
      "\n",
      "The `geometries` module and `geometries_from_X` functions have been renamed the `features` module and `features_from_X` functions. Use these instead. The `geometries` module and function names are deprecated and will be removed in a future release.\n",
      "\n",
      "/Users/yubocai/Desktop/Ecole Polytechnique/Internship/CREST/BATO_extension/helpers/basicstatistics.py:53: UserWarning:\n",
      "\n",
      "The `geometries` module and `geometries_from_X` functions have been renamed the `features` module and `features_from_X` functions. Use these instead. The `geometries` module and function names are deprecated and will be removed in a future release.\n",
      "\n",
      "/Users/yubocai/Desktop/Ecole Polytechnique/Internship/CREST/BATO_extension/helpers/basicstatistics.py:53: UserWarning:\n",
      "\n",
      "The `geometries` module and `geometries_from_X` functions have been renamed the `features` module and `features_from_X` functions. Use these instead. The `geometries` module and function names are deprecated and will be removed in a future release.\n",
      "\n",
      "/Users/yubocai/Desktop/Ecole Polytechnique/Internship/CREST/BATO_extension/helpers/basicstatistics.py:53: UserWarning:\n",
      "\n",
      "The `geometries` module and `geometries_from_X` functions have been renamed the `features` module and `features_from_X` functions. Use these instead. The `geometries` module and function names are deprecated and will be removed in a future release.\n",
      "\n",
      "/Users/yubocai/Desktop/Ecole Polytechnique/Internship/CREST/BATO_extension/helpers/basicstatistics.py:53: UserWarning:\n",
      "\n",
      "The `geometries` module and `geometries_from_X` functions have been renamed the `features` module and `features_from_X` functions. Use these instead. The `geometries` module and function names are deprecated and will be removed in a future release.\n",
      "\n",
      "/Users/yubocai/Desktop/Ecole Polytechnique/Internship/CREST/BATO_extension/helpers/basicstatistics.py:53: UserWarning:\n",
      "\n",
      "The `geometries` module and `geometries_from_X` functions have been renamed the `features` module and `features_from_X` functions. Use these instead. The `geometries` module and function names are deprecated and will be removed in a future release.\n",
      "\n",
      "/Users/yubocai/Desktop/Ecole Polytechnique/Internship/CREST/BATO_extension/helpers/basicstatistics.py:53: UserWarning:\n",
      "\n",
      "The `geometries` module and `geometries_from_X` functions have been renamed the `features` module and `features_from_X` functions. Use these instead. The `geometries` module and function names are deprecated and will be removed in a future release.\n",
      "\n",
      "/Users/yubocai/Desktop/Ecole Polytechnique/Internship/CREST/BATO_extension/helpers/basicstatistics.py:53: UserWarning:\n",
      "\n",
      "The `geometries` module and `geometries_from_X` functions have been renamed the `features` module and `features_from_X` functions. Use these instead. The `geometries` module and function names are deprecated and will be removed in a future release.\n",
      "\n",
      "/Users/yubocai/Desktop/Ecole Polytechnique/Internship/CREST/BATO_extension/helpers/basicstatistics.py:53: UserWarning:\n",
      "\n",
      "The `geometries` module and `geometries_from_X` functions have been renamed the `features` module and `features_from_X` functions. Use these instead. The `geometries` module and function names are deprecated and will be removed in a future release.\n",
      "\n",
      "/Users/yubocai/Desktop/Ecole Polytechnique/Internship/CREST/BATO_extension/helpers/basicstatistics.py:53: UserWarning:\n",
      "\n",
      "The `geometries` module and `geometries_from_X` functions have been renamed the `features` module and `features_from_X` functions. Use these instead. The `geometries` module and function names are deprecated and will be removed in a future release.\n",
      "\n",
      "/Users/yubocai/Desktop/Ecole Polytechnique/Internship/CREST/BATO_extension/helpers/basicstatistics.py:53: UserWarning:\n",
      "\n",
      "The `geometries` module and `geometries_from_X` functions have been renamed the `features` module and `features_from_X` functions. Use these instead. The `geometries` module and function names are deprecated and will be removed in a future release.\n",
      "\n",
      "/Users/yubocai/Desktop/Ecole Polytechnique/Internship/CREST/BATO_extension/helpers/basicstatistics.py:53: UserWarning:\n",
      "\n",
      "The `geometries` module and `geometries_from_X` functions have been renamed the `features` module and `features_from_X` functions. Use these instead. The `geometries` module and function names are deprecated and will be removed in a future release.\n",
      "\n",
      "/Users/yubocai/Desktop/Ecole Polytechnique/Internship/CREST/BATO_extension/helpers/basicstatistics.py:53: UserWarning:\n",
      "\n",
      "The `geometries` module and `geometries_from_X` functions have been renamed the `features` module and `features_from_X` functions. Use these instead. The `geometries` module and function names are deprecated and will be removed in a future release.\n",
      "\n",
      "/Users/yubocai/Desktop/Ecole Polytechnique/Internship/CREST/BATO_extension/helpers/basicstatistics.py:53: UserWarning:\n",
      "\n",
      "The `geometries` module and `geometries_from_X` functions have been renamed the `features` module and `features_from_X` functions. Use these instead. The `geometries` module and function names are deprecated and will be removed in a future release.\n",
      "\n",
      "/Users/yubocai/Desktop/Ecole Polytechnique/Internship/CREST/BATO_extension/helpers/basicstatistics.py:53: UserWarning:\n",
      "\n",
      "The `geometries` module and `geometries_from_X` functions have been renamed the `features` module and `features_from_X` functions. Use these instead. The `geometries` module and function names are deprecated and will be removed in a future release.\n",
      "\n"
     ]
    },
    {
     "data": {
      "text/html": [
       "<div>\n",
       "<style scoped>\n",
       "    .dataframe tbody tr th:only-of-type {\n",
       "        vertical-align: middle;\n",
       "    }\n",
       "\n",
       "    .dataframe tbody tr th {\n",
       "        vertical-align: top;\n",
       "    }\n",
       "\n",
       "    .dataframe thead th {\n",
       "        text-align: right;\n",
       "    }\n",
       "</style>\n",
       "<table border=\"1\" class=\"dataframe\">\n",
       "  <thead>\n",
       "    <tr style=\"text-align: right;\">\n",
       "      <th></th>\n",
       "      <th>Bicycle Sharing Docking Station</th>\n",
       "      <th>Bus Station</th>\n",
       "      <th>Railway Station</th>\n",
       "    </tr>\n",
       "  </thead>\n",
       "  <tbody>\n",
       "    <tr>\n",
       "      <th>Gare du Nord, Paris</th>\n",
       "      <td>68</td>\n",
       "      <td>140</td>\n",
       "      <td>18</td>\n",
       "    </tr>\n",
       "    <tr>\n",
       "      <th>Porte de la Chapelle, Paris</th>\n",
       "      <td>20</td>\n",
       "      <td>107</td>\n",
       "      <td>13</td>\n",
       "    </tr>\n",
       "    <tr>\n",
       "      <th>Opéra Garnier, Paris</th>\n",
       "      <td>77</td>\n",
       "      <td>178</td>\n",
       "      <td>26</td>\n",
       "    </tr>\n",
       "    <tr>\n",
       "      <th>Sacré Coeur, Paris</th>\n",
       "      <td>54</td>\n",
       "      <td>148</td>\n",
       "      <td>14</td>\n",
       "    </tr>\n",
       "    <tr>\n",
       "      <th>Place de la Bastille, Paris</th>\n",
       "      <td>48</td>\n",
       "      <td>132</td>\n",
       "      <td>14</td>\n",
       "    </tr>\n",
       "    <tr>\n",
       "      <th>Arc de triomphe, Paris</th>\n",
       "      <td>49</td>\n",
       "      <td>132</td>\n",
       "      <td>19</td>\n",
       "    </tr>\n",
       "    <tr>\n",
       "      <th>Olympiades, Paris</th>\n",
       "      <td>37</td>\n",
       "      <td>129</td>\n",
       "      <td>24</td>\n",
       "    </tr>\n",
       "    <tr>\n",
       "      <th>Quartier de Javel, Paris</th>\n",
       "      <td>40</td>\n",
       "      <td>101</td>\n",
       "      <td>28</td>\n",
       "    </tr>\n",
       "    <tr>\n",
       "      <th>Eglise du Saint-Esprit, Paris</th>\n",
       "      <td>31</td>\n",
       "      <td>86</td>\n",
       "      <td>22</td>\n",
       "    </tr>\n",
       "    <tr>\n",
       "      <th>Place des Vosges, Paris</th>\n",
       "      <td>55</td>\n",
       "      <td>119</td>\n",
       "      <td>13</td>\n",
       "    </tr>\n",
       "    <tr>\n",
       "      <th>Chatelet Les Halles, Paris</th>\n",
       "      <td>86</td>\n",
       "      <td>147</td>\n",
       "      <td>24</td>\n",
       "    </tr>\n",
       "  </tbody>\n",
       "</table>\n",
       "</div>"
      ],
      "text/plain": [
       "                               Bicycle Sharing Docking Station  Bus Station  \\\n",
       "Gare du Nord, Paris                                         68          140   \n",
       "Porte de la Chapelle, Paris                                 20          107   \n",
       "Opéra Garnier, Paris                                        77          178   \n",
       "Sacré Coeur, Paris                                          54          148   \n",
       "Place de la Bastille, Paris                                 48          132   \n",
       "Arc de triomphe, Paris                                      49          132   \n",
       "Olympiades, Paris                                           37          129   \n",
       "Quartier de Javel, Paris                                    40          101   \n",
       "Eglise du Saint-Esprit, Paris                               31           86   \n",
       "Place des Vosges, Paris                                     55          119   \n",
       "Chatelet Les Halles, Paris                                  86          147   \n",
       "\n",
       "                               Railway Station  \n",
       "Gare du Nord, Paris                         18  \n",
       "Porte de la Chapelle, Paris                 13  \n",
       "Opéra Garnier, Paris                        26  \n",
       "Sacré Coeur, Paris                          14  \n",
       "Place de la Bastille, Paris                 14  \n",
       "Arc de triomphe, Paris                      19  \n",
       "Olympiades, Paris                           24  \n",
       "Quartier de Javel, Paris                    28  \n",
       "Eglise du Saint-Esprit, Paris               22  \n",
       "Place des Vosges, Paris                     13  \n",
       "Chatelet Les Halles, Paris                  24  "
      ]
     },
     "execution_count": 35,
     "metadata": {},
     "output_type": "execute_result"
    }
   ],
   "source": [
    "stations_count_df = hs.count_transport_stations(coords=coords_places, tags=tags_transportation)\n",
    "stations_count_df"
   ]
  },
  {
   "cell_type": "code",
   "execution_count": 41,
   "metadata": {},
   "outputs": [
    {
     "name": "stderr",
     "output_type": "stream",
     "text": [
      "/Users/yubocai/anaconda3/envs/mlp/lib/python3.9/site-packages/ipykernel/ipkernel.py:283: DeprecationWarning:\n",
      "\n",
      "`should_run_async` will not call `transform_cell` automatically in the future. Please pass the result to `transformed_cell` argument and any exception that happen during thetransform in `preprocessing_exc_tuple` in IPython 7.17 and above.\n",
      "\n"
     ]
    },
    {
     "data": {
      "image/png": "[encoded data removed]",
      "text/plain": [
       "<Figure size 576x576 with 1 Axes>"
      ]
     },
     "metadata": {},
     "output_type": "display_data"
    }
   ],
   "source": [
    "graph_composition_chart = hs.composition_chart_public_transportation(stations_count_df, place='Quartier de Javel, Paris', font_size=16, font_name='Arial')\n",
    "graph_composition_chart.show()"
   ]
  },
  {
   "cell_type": "code",
   "execution_count": 37,
   "metadata": {},
   "outputs": [
    {
     "data": {
      "image/png": "[encoded data removed]",
      "text/plain": [
       "<Figure size 576x576 with 1 Axes>"
      ]
     },
     "metadata": {},
     "output_type": "display_data"
    }
   ],
   "source": [
    "graph_composition_chart = hs.composition_chart_public_transportation(stations_count_df, place='Opéra Garnier, Paris', font_size=16, font_name='Arial')\n",
    "graph_composition_chart.show()"
   ]
  },
  {
   "cell_type": "code",
   "execution_count": 38,
   "metadata": {},
   "outputs": [
    {
     "data": {
      "image/png": "[encoded data removed]",
      "text/plain": [
       "<Figure size 576x576 with 1 Axes>"
      ]
     },
     "metadata": {},
     "output_type": "display_data"
    }
   ],
   "source": [
    "graph_composition_chart = hs.composition_chart_public_transportation(stations_count_df, place='Chatelet Les Halles, Paris', font_size=16, font_name='Arial')\n",
    "graph_composition_chart.show()"
   ]
  },
  {
   "cell_type": "code",
   "execution_count": 39,
   "metadata": {},
   "outputs": [
    {
     "data": {
      "application/vnd.plotly.v1+json": {
       "config": {
        "plotlyServerURL": "https://plot.ly"
       },
       "data": [
        {
         "alignmentgroup": "True",
         "hovertemplate": "Variable=Bicycle Sharing Docking Station<br>Place=%{x}<br>Number=%{y}<extra></extra>",
         "legendgroup": "Bicycle Sharing Docking Station",
         "marker": {
          "color": "#636efa",
          "pattern": {
           "shape": ""
          }
         },
         "name": "Bicycle Sharing Docking Station",
         "offsetgroup": "Bicycle Sharing Docking Station",
         "orientation": "v",
         "showlegend": true,
         "textposition": "auto",
         "type": "bar",
         "x": [
          "Gare du Nord, Paris",
          "Porte de la Chapelle, Paris",
          "Opéra Garnier, Paris",
          "Sacré Coeur, Paris",
          "Place de la Bastille, Paris",
          "Arc de triomphe, Paris",
          "Olympiades, Paris",
          "Quartier de Javel, Paris",
          "Eglise du Saint-Esprit, Paris",
          "Place des Vosges, Paris",
          "Chatelet Les Halles, Paris"
         ],
         "xaxis": "x",
         "y": [
          68,
          20,
          77,
          54,
          48,
          49,
          37,
          40,
          31,
          55,
          86
         ],
         "yaxis": "y"
        },
        {
         "alignmentgroup": "True",
         "hovertemplate": "Variable=Bus Station<br>Place=%{x}<br>Number=%{y}<extra></extra>",
         "legendgroup": "Bus Station",
         "marker": {
          "color": "#EF553B",
          "pattern": {
           "shape": ""
          }
         },
         "name": "Bus Station",
         "offsetgroup": "Bus Station",
         "orientation": "v",
         "showlegend": true,
         "textposition": "auto",
         "type": "bar",
         "x": [
          "Gare du Nord, Paris",
          "Porte de la Chapelle, Paris",
          "Opéra Garnier, Paris",
          "Sacré Coeur, Paris",
          "Place de la Bastille, Paris",
          "Arc de triomphe, Paris",
          "Olympiades, Paris",
          "Quartier de Javel, Paris",
          "Eglise du Saint-Esprit, Paris",
          "Place des Vosges, Paris",
          "Chatelet Les Halles, Paris"
         ],
         "xaxis": "x",
         "y": [
          140,
          107,
          178,
          148,
          132,
          132,
          129,
          101,
          86,
          119,
          147
         ],
         "yaxis": "y"
        },
        {
         "alignmentgroup": "True",
         "hovertemplate": "Variable=Railway Station<br>Place=%{x}<br>Number=%{y}<extra></extra>",
         "legendgroup": "Railway Station",
         "marker": {
          "color": "#00cc96",
          "pattern": {
           "shape": ""
          }
         },
         "name": "Railway Station",
         "offsetgroup": "Railway Station",
         "orientation": "v",
         "showlegend": true,
         "textposition": "auto",
         "type": "bar",
         "x": [
          "Gare du Nord, Paris",
          "Porte de la Chapelle, Paris",
          "Opéra Garnier, Paris",
          "Sacré Coeur, Paris",
          "Place de la Bastille, Paris",
          "Arc de triomphe, Paris",
          "Olympiades, Paris",
          "Quartier de Javel, Paris",
          "Eglise du Saint-Esprit, Paris",
          "Place des Vosges, Paris",
          "Chatelet Les Halles, Paris"
         ],
         "xaxis": "x",
         "y": [
          18,
          13,
          26,
          14,
          14,
          19,
          24,
          28,
          22,
          13,
          24
         ],
         "yaxis": "y"
        }
       ],
       "layout": {
        "barmode": "relative",
        "font": {
         "family": "sans-serif",
         "size": 12
        },
        "height": 500,
        "legend": {
         "title": {
          "text": "Variable"
         },
         "tracegroupgap": 0
        },
        "margin": {
         "t": 60
        },
        "showlegend": true,
        "template": {
         "data": {
          "bar": [
           {
            "error_x": {
             "color": "#2a3f5f"
            },
            "error_y": {
             "color": "#2a3f5f"
            },
            "marker": {
             "line": {
              "color": "#E5ECF6",
              "width": 0.5
             },
             "pattern": {
              "fillmode": "overlay",
              "size": 10,
              "solidity": 0.2
             }
            },
            "type": "bar"
           }
          ],
          "barpolar": [
           {
            "marker": {
             "line": {
              "color": "#E5ECF6",
              "width": 0.5
             },
             "pattern": {
              "fillmode": "overlay",
              "size": 10,
              "solidity": 0.2
             }
            },
            "type": "barpolar"
           }
          ],
          "carpet": [
           {
            "aaxis": {
             "endlinecolor": "#2a3f5f",
             "gridcolor": "white",
             "linecolor": "white",
             "minorgridcolor": "white",
             "startlinecolor": "#2a3f5f"
            },
            "baxis": {
             "endlinecolor": "#2a3f5f",
             "gridcolor": "white",
             "linecolor": "white",
             "minorgridcolor": "white",
             "startlinecolor": "#2a3f5f"
            },
            "type": "carpet"
           }
          ],
          "choropleth": [
           {
            "colorbar": {
             "outlinewidth": 0,
             "ticks": ""
            },
            "type": "choropleth"
           }
          ],
          "contour": [
           {
            "colorbar": {
             "outlinewidth": 0,
             "ticks": ""
            },
            "colorscale": [
             [
              0,
              "#0d0887"
             ],
             [
              0.1111111111111111,
              "#46039f"
             ],
             [
              0.2222222222222222,
              "#7201a8"
             ],
             [
              0.3333333333333333,
              "#9c179e"
             ],
             [
              0.4444444444444444,
              "#bd3786"
             ],
             [
              0.5555555555555556,
              "#d8576b"
             ],
             [
              0.6666666666666666,
              "#ed7953"
             ],
             [
              0.7777777777777778,
              "#fb9f3a"
             ],
             [
              0.8888888888888888,
              "#fdca26"
             ],
             [
              1,
              "#f0f921"
             ]
            ],
            "type": "contour"
           }
          ],
          "contourcarpet": [
           {
            "colorbar": {
             "outlinewidth": 0,
             "ticks": ""
            },
            "type": "contourcarpet"
           }
          ],
          "heatmap": [
           {
            "colorbar": {
             "outlinewidth": 0,
             "ticks": ""
            },
            "colorscale": [
             [
              0,
              "#0d0887"
             ],
             [
              0.1111111111111111,
              "#46039f"
             ],
             [
              0.2222222222222222,
              "#7201a8"
             ],
             [
              0.3333333333333333,
              "#9c179e"
             ],
             [
              0.4444444444444444,
              "#bd3786"
             ],
             [
              0.5555555555555556,
              "#d8576b"
             ],
             [
              0.6666666666666666,
              "#ed7953"
             ],
             [
              0.7777777777777778,
              "#fb9f3a"
             ],
             [
              0.8888888888888888,
              "#fdca26"
             ],
             [
              1,
              "#f0f921"
             ]
            ],
            "type": "heatmap"
           }
          ],
          "heatmapgl": [
           {
            "colorbar": {
             "outlinewidth": 0,
             "ticks": ""
            },
            "colorscale": [
             [
              0,
              "#0d0887"
             ],
             [
              0.1111111111111111,
              "#46039f"
             ],
             [
              0.2222222222222222,
              "#7201a8"
             ],
             [
              0.3333333333333333,
              "#9c179e"
             ],
             [
              0.4444444444444444,
              "#bd3786"
             ],
             [
              0.5555555555555556,
              "#d8576b"
             ],
             [
              0.6666666666666666,
              "#ed7953"
             ],
             [
              0.7777777777777778,
              "#fb9f3a"
             ],
             [
              0.8888888888888888,
              "#fdca26"
             ],
             [
              1,
              "#f0f921"
             ]
            ],
            "type": "heatmapgl"
           }
          ],
          "histogram": [
           {
            "marker": {
             "pattern": {
              "fillmode": "overlay",
              "size": 10,
              "solidity": 0.2
             }
            },
            "type": "histogram"
           }
          ],
          "histogram2d": [
           {
            "colorbar": {
             "outlinewidth": 0,
             "ticks": ""
            },
            "colorscale": [
             [
              0,
              "#0d0887"
             ],
             [
              0.1111111111111111,
              "#46039f"
             ],
             [
              0.2222222222222222,
              "#7201a8"
             ],
             [
              0.3333333333333333,
              "#9c179e"
             ],
             [
              0.4444444444444444,
              "#bd3786"
             ],
             [
              0.5555555555555556,
              "#d8576b"
             ],
             [
              0.6666666666666666,
              "#ed7953"
             ],
             [
              0.7777777777777778,
              "#fb9f3a"
             ],
             [
              0.8888888888888888,
              "#fdca26"
             ],
             [
              1,
              "#f0f921"
             ]
            ],
            "type": "histogram2d"
           }
          ],
          "histogram2dcontour": [
           {
            "colorbar": {
             "outlinewidth": 0,
             "ticks": ""
            },
            "colorscale": [
             [
              0,
              "#0d0887"
             ],
             [
              0.1111111111111111,
              "#46039f"
             ],
             [
              0.2222222222222222,
              "#7201a8"
             ],
             [
              0.3333333333333333,
              "#9c179e"
             ],
             [
              0.4444444444444444,
              "#bd3786"
             ],
             [
              0.5555555555555556,
              "#d8576b"
             ],
             [
              0.6666666666666666,
              "#ed7953"
             ],
             [
              0.7777777777777778,
              "#fb9f3a"
             ],
             [
              0.8888888888888888,
              "#fdca26"
             ],
             [
              1,
              "#f0f921"
             ]
            ],
            "type": "histogram2dcontour"
           }
          ],
          "mesh3d": [
           {
            "colorbar": {
             "outlinewidth": 0,
             "ticks": ""
            },
            "type": "mesh3d"
           }
          ],
          "parcoords": [
           {
            "line": {
             "colorbar": {
              "outlinewidth": 0,
              "ticks": ""
             }
            },
            "type": "parcoords"
           }
          ],
          "pie": [
           {
            "automargin": true,
            "type": "pie"
           }
          ],
          "scatter": [
           {
            "fillpattern": {
             "fillmode": "overlay",
             "size": 10,
             "solidity": 0.2
            },
            "type": "scatter"
           }
          ],
          "scatter3d": [
           {
            "line": {
             "colorbar": {
              "outlinewidth": 0,
              "ticks": ""
             }
            },
            "marker": {
             "colorbar": {
              "outlinewidth": 0,
              "ticks": ""
             }
            },
            "type": "scatter3d"
           }
          ],
          "scattercarpet": [
           {
            "marker": {
             "colorbar": {
              "outlinewidth": 0,
              "ticks": ""
             }
            },
            "type": "scattercarpet"
           }
          ],
          "scattergeo": [
           {
            "marker": {
             "colorbar": {
              "outlinewidth": 0,
              "ticks": ""
             }
            },
            "type": "scattergeo"
           }
          ],
          "scattergl": [
           {
            "marker": {
             "colorbar": {
              "outlinewidth": 0,
              "ticks": ""
             }
            },
            "type": "scattergl"
           }
          ],
          "scattermapbox": [
           {
            "marker": {
             "colorbar": {
              "outlinewidth": 0,
              "ticks": ""
             }
            },
            "type": "scattermapbox"
           }
          ],
          "scatterpolar": [
           {
            "marker": {
             "colorbar": {
              "outlinewidth": 0,
              "ticks": ""
             }
            },
            "type": "scatterpolar"
           }
          ],
          "scatterpolargl": [
           {
            "marker": {
             "colorbar": {
              "outlinewidth": 0,
              "ticks": ""
             }
            },
            "type": "scatterpolargl"
           }
          ],
          "scatterternary": [
           {
            "marker": {
             "colorbar": {
              "outlinewidth": 0,
              "ticks": ""
             }
            },
            "type": "scatterternary"
           }
          ],
          "surface": [
           {
            "colorbar": {
             "outlinewidth": 0,
             "ticks": ""
            },
            "colorscale": [
             [
              0,
              "#0d0887"
             ],
             [
              0.1111111111111111,
              "#46039f"
             ],
             [
              0.2222222222222222,
              "#7201a8"
             ],
             [
              0.3333333333333333,
              "#9c179e"
             ],
             [
              0.4444444444444444,
              "#bd3786"
             ],
             [
              0.5555555555555556,
              "#d8576b"
             ],
             [
              0.6666666666666666,
              "#ed7953"
             ],
             [
              0.7777777777777778,
              "#fb9f3a"
             ],
             [
              0.8888888888888888,
              "#fdca26"
             ],
             [
              1,
              "#f0f921"
             ]
            ],
            "type": "surface"
           }
          ],
          "table": [
           {
            "cells": {
             "fill": {
              "color": "#EBF0F8"
             },
             "line": {
              "color": "white"
             }
            },
            "header": {
             "fill": {
              "color": "#C8D4E3"
             },
             "line": {
              "color": "white"
             }
            },
            "type": "table"
           }
          ]
         },
         "layout": {
          "annotationdefaults": {
           "arrowcolor": "#2a3f5f",
           "arrowhead": 0,
           "arrowwidth": 1
          },
          "autotypenumbers": "strict",
          "coloraxis": {
           "colorbar": {
            "outlinewidth": 0,
            "ticks": ""
           }
          },
          "colorscale": {
           "diverging": [
            [
             0,
             "#8e0152"
            ],
            [
             0.1,
             "#c51b7d"
            ],
            [
             0.2,
             "#de77ae"
            ],
            [
             0.3,
             "#f1b6da"
            ],
            [
             0.4,
             "#fde0ef"
            ],
            [
             0.5,
             "#f7f7f7"
            ],
            [
             0.6,
             "#e6f5d0"
            ],
            [
             0.7,
             "#b8e186"
            ],
            [
             0.8,
             "#7fbc41"
            ],
            [
             0.9,
             "#4d9221"
            ],
            [
             1,
             "#276419"
            ]
           ],
           "sequential": [
            [
             0,
             "#0d0887"
            ],
            [
             0.1111111111111111,
             "#46039f"
            ],
            [
             0.2222222222222222,
             "#7201a8"
            ],
            [
             0.3333333333333333,
             "#9c179e"
            ],
            [
             0.4444444444444444,
             "#bd3786"
            ],
            [
             0.5555555555555556,
             "#d8576b"
            ],
            [
             0.6666666666666666,
             "#ed7953"
            ],
            [
             0.7777777777777778,
             "#fb9f3a"
            ],
            [
             0.8888888888888888,
             "#fdca26"
            ],
            [
             1,
             "#f0f921"
            ]
           ],
           "sequentialminus": [
            [
             0,
             "#0d0887"
            ],
            [
             0.1111111111111111,
             "#46039f"
            ],
            [
             0.2222222222222222,
             "#7201a8"
            ],
            [
             0.3333333333333333,
             "#9c179e"
            ],
            [
             0.4444444444444444,
             "#bd3786"
            ],
            [
             0.5555555555555556,
             "#d8576b"
            ],
            [
             0.6666666666666666,
             "#ed7953"
            ],
            [
             0.7777777777777778,
             "#fb9f3a"
            ],
            [
             0.8888888888888888,
             "#fdca26"
            ],
            [
             1,
             "#f0f921"
            ]
           ]
          },
          "colorway": [
           "#636efa",
           "#EF553B",
           "#00cc96",
           "#ab63fa",
           "#FFA15A",
           "#19d3f3",
           "#FF6692",
           "#B6E880",
           "#FF97FF",
           "#FECB52"
          ],
          "font": {
           "color": "#2a3f5f"
          },
          "geo": {
           "bgcolor": "white",
           "lakecolor": "white",
           "landcolor": "#E5ECF6",
           "showlakes": true,
           "showland": true,
           "subunitcolor": "white"
          },
          "hoverlabel": {
           "align": "left"
          },
          "hovermode": "closest",
          "mapbox": {
           "style": "light"
          },
          "paper_bgcolor": "white",
          "plot_bgcolor": "#E5ECF6",
          "polar": {
           "angularaxis": {
            "gridcolor": "white",
            "linecolor": "white",
            "ticks": ""
           },
           "bgcolor": "#E5ECF6",
           "radialaxis": {
            "gridcolor": "white",
            "linecolor": "white",
            "ticks": ""
           }
          },
          "scene": {
           "xaxis": {
            "backgroundcolor": "#E5ECF6",
            "gridcolor": "white",
            "gridwidth": 2,
            "linecolor": "white",
            "showbackground": true,
            "ticks": "",
            "zerolinecolor": "white"
           },
           "yaxis": {
            "backgroundcolor": "#E5ECF6",
            "gridcolor": "white",
            "gridwidth": 2,
            "linecolor": "white",
            "showbackground": true,
            "ticks": "",
            "zerolinecolor": "white"
           },
           "zaxis": {
            "backgroundcolor": "#E5ECF6",
            "gridcolor": "white",
            "gridwidth": 2,
            "linecolor": "white",
            "showbackground": true,
            "ticks": "",
            "zerolinecolor": "white"
           }
          },
          "shapedefaults": {
           "line": {
            "color": "#2a3f5f"
           }
          },
          "ternary": {
           "aaxis": {
            "gridcolor": "white",
            "linecolor": "white",
            "ticks": ""
           },
           "baxis": {
            "gridcolor": "white",
            "linecolor": "white",
            "ticks": ""
           },
           "bgcolor": "#E5ECF6",
           "caxis": {
            "gridcolor": "white",
            "linecolor": "white",
            "ticks": ""
           }
          },
          "title": {
           "x": 0.05
          },
          "xaxis": {
           "automargin": true,
           "gridcolor": "white",
           "linecolor": "white",
           "ticks": "",
           "title": {
            "standoff": 15
           },
           "zerolinecolor": "white",
           "zerolinewidth": 2
          },
          "yaxis": {
           "automargin": true,
           "gridcolor": "white",
           "linecolor": "white",
           "ticks": "",
           "title": {
            "standoff": 15
           },
           "zerolinecolor": "white",
           "zerolinewidth": 2
          }
         }
        },
        "width": 800,
        "xaxis": {
         "anchor": "y",
         "domain": [
          0,
          1
         ],
         "title": {
          "text": "Place"
         }
        },
        "yaxis": {
         "anchor": "x",
         "domain": [
          0,
          1
         ],
         "title": {
          "text": "Number"
         }
        }
       }
      }
     },
     "metadata": {},
     "output_type": "display_data"
    }
   ],
   "source": [
    "graph_compare_places = hs.compare_places_public_transportation(stations_count_df)\n",
    "graph_compare_places.show()"
   ]
  }
 ],
 "metadata": {
  "kernelspec": {
   "display_name": "Python 3",
   "language": "python",
   "name": "python3"
  },
  "language_info": {
   "codemirror_mode": {
    "name": "ipython",
    "version": 3
   },
   "file_extension": ".py",
   "mimetype": "text/x-python",
   "name": "python",
   "nbconvert_exporter": "python",
   "pygments_lexer": "ipython3",
   "version": "3.9.16"
  }
 },
 "nbformat": 4,
 "nbformat_minor": 2
}
