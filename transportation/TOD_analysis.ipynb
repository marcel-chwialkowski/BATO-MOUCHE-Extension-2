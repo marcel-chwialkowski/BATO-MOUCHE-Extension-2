{
 "cells": [
  {
   "cell_type": "markdown",
   "metadata": {},
   "source": [
    "## Transit-oriented development (TOD) degree Measurement with Railway Network\n",
    "\n",
    "---"
   ]
  },
  {
   "cell_type": "code",
   "execution_count": 2,
   "metadata": {},
   "outputs": [
    {
     "name": "stdout",
     "output_type": "stream",
     "text": [
      "---------- Import helpers ----------\n",
      "--- Transportation Module loaded ---\n"
     ]
    }
   ],
   "source": [
    "import os\n",
    "import sys\n",
    "sys.path.append(os.path.abspath(os.path.join(os.getcwd(), os.pardir)))\n",
    "os.environ['USE_PYGEOS'] = '0'\n",
    "import helpers as hs\n",
    "from importlib import reload\n",
    "import folium\n",
    "import matplotlib.pyplot as plt\n",
    "import pandas as pd\n",
    "import numpy as np\n",
    "from scipy.stats import linregress"
   ]
  },
  {
   "cell_type": "markdown",
   "metadata": {},
   "source": [
    "### Read the distance dataset\n",
    "\n",
    "---"
   ]
  },
  {
   "cell_type": "code",
   "execution_count": 3,
   "metadata": {},
   "outputs": [],
   "source": [
    "result_distance = hs.read_distance_csv(\"data_result/result_distance.csv\")\n",
    "result_distance = pd.DataFrame(result_distance.values, index=result_distance.columns, columns=result_distance.columns)"
   ]
  },
  {
   "cell_type": "code",
   "execution_count": 4,
   "metadata": {},
   "outputs": [
    {
     "data": {
      "text/html": [
       "<div>\n",
       "<style scoped>\n",
       "    .dataframe tbody tr th:only-of-type {\n",
       "        vertical-align: middle;\n",
       "    }\n",
       "\n",
       "    .dataframe tbody tr th {\n",
       "        vertical-align: top;\n",
       "    }\n",
       "\n",
       "    .dataframe thead th {\n",
       "        text-align: right;\n",
       "    }\n",
       "</style>\n",
       "<table border=\"1\" class=\"dataframe\">\n",
       "  <thead>\n",
       "    <tr style=\"text-align: right;\">\n",
       "      <th></th>\n",
       "      <th>sum</th>\n",
       "    </tr>\n",
       "  </thead>\n",
       "  <tbody>\n",
       "    <tr>\n",
       "      <th>CRS3035RES200mN2893400E3763200</th>\n",
       "      <td>176296.654194</td>\n",
       "    </tr>\n",
       "    <tr>\n",
       "      <th>CRS3035RES200mN2890000E3762200</th>\n",
       "      <td>134484.732575</td>\n",
       "    </tr>\n",
       "    <tr>\n",
       "      <th>CRS3035RES200mN2893400E3762400</th>\n",
       "      <td>161872.358663</td>\n",
       "    </tr>\n",
       "    <tr>\n",
       "      <th>CRS3035RES200mN2891800E3763600</th>\n",
       "      <td>169713.93164</td>\n",
       "    </tr>\n",
       "    <tr>\n",
       "      <th>CRS3035RES200mN2890800E3763200</th>\n",
       "      <td>155289.718228</td>\n",
       "    </tr>\n",
       "  </tbody>\n",
       "</table>\n",
       "</div>"
      ],
      "text/plain": [
       "                                          sum\n",
       "CRS3035RES200mN2893400E3763200  176296.654194\n",
       "CRS3035RES200mN2890000E3762200  134484.732575\n",
       "CRS3035RES200mN2893400E3762400  161872.358663\n",
       "CRS3035RES200mN2891800E3763600   169713.93164\n",
       "CRS3035RES200mN2890800E3763200  155289.718228"
      ]
     },
     "execution_count": 4,
     "metadata": {},
     "output_type": "execute_result"
    }
   ],
   "source": [
    "distance_sum = hs.compute_distance_sum(result_distance)\n",
    "distance_sum.head()"
   ]
  },
  {
   "cell_type": "code",
   "execution_count": 5,
   "metadata": {},
   "outputs": [
    {
     "data": {
      "text/html": [
       "<div>\n",
       "<style scoped>\n",
       "    .dataframe tbody tr th:only-of-type {\n",
       "        vertical-align: middle;\n",
       "    }\n",
       "\n",
       "    .dataframe tbody tr th {\n",
       "        vertical-align: top;\n",
       "    }\n",
       "\n",
       "    .dataframe thead th {\n",
       "        text-align: right;\n",
       "    }\n",
       "</style>\n",
       "<table border=\"1\" class=\"dataframe\">\n",
       "  <thead>\n",
       "    <tr style=\"text-align: right;\">\n",
       "      <th></th>\n",
       "      <th>node_index</th>\n",
       "    </tr>\n",
       "  </thead>\n",
       "  <tbody>\n",
       "    <tr>\n",
       "      <th>CRS3035RES200mN2893400E3763200</th>\n",
       "      <td>0.486866</td>\n",
       "    </tr>\n",
       "    <tr>\n",
       "      <th>CRS3035RES200mN2890000E3762200</th>\n",
       "      <td>0.790941</td>\n",
       "    </tr>\n",
       "    <tr>\n",
       "      <th>CRS3035RES200mN2893400E3762400</th>\n",
       "      <td>0.574018</td>\n",
       "    </tr>\n",
       "    <tr>\n",
       "      <th>CRS3035RES200mN2891800E3763600</th>\n",
       "      <td>0.524801</td>\n",
       "    </tr>\n",
       "    <tr>\n",
       "      <th>CRS3035RES200mN2890800E3763200</th>\n",
       "      <td>0.61917</td>\n",
       "    </tr>\n",
       "  </tbody>\n",
       "</table>\n",
       "</div>"
      ],
      "text/plain": [
       "                               node_index\n",
       "CRS3035RES200mN2893400E3763200   0.486866\n",
       "CRS3035RES200mN2890000E3762200   0.790941\n",
       "CRS3035RES200mN2893400E3762400   0.574018\n",
       "CRS3035RES200mN2891800E3763600   0.524801\n",
       "CRS3035RES200mN2890800E3763200    0.61917"
      ]
     },
     "execution_count": 5,
     "metadata": {},
     "output_type": "execute_result"
    }
   ],
   "source": [
    "node_index = hs.compute_distance_node_index(distance_sum)\n",
    "# restore the data to csv file\n",
    "node_index.to_csv(\"data_result/node_index.csv\")\n",
    "node_index.head()"
   ]
  },
  {
   "cell_type": "code",
   "execution_count": 6,
   "metadata": {},
   "outputs": [],
   "source": [
    "# node_index = pd.read_csv(\"data_result/node_index.csv\", index_col=0)\n",
    "# node_index.head()"
   ]
  },
  {
   "cell_type": "markdown",
   "metadata": {},
   "source": [
    "### plot the graph of node index with railway transportations\n",
    "\n",
    "---"
   ]
  },
  {
   "cell_type": "code",
   "execution_count": 7,
   "metadata": {},
   "outputs": [
    {
     "name": "stderr",
     "output_type": "stream",
     "text": [
      "/Users/yubocai/Desktop/Ecole Polytechnique/Internship/CREST/BATO_extension/helpers/scrapping.py:200: UserWarning: The `geometries` module and `geometries_from_X` functions have been renamed the `features` module and `features_from_X` functions. Use these instead. The `geometries` module and function names are deprecated and will be removed in a future release.\n",
      "  gdf_pois = ox.geometries_from_place(place, tags, buffer_dist=1000)\n",
      "/Users/yubocai/anaconda3/envs/mlp/lib/python3.9/site-packages/osmnx/geometries.py:127: UserWarning: The buffer_dist argument as been deprecated and will be removed in a future release. Buffer your query area directly, if desired.\n",
      "  return features.features_from_place(query, tags, which_result, buffer_dist)\n",
      "/Users/yubocai/anaconda3/envs/mlp/lib/python3.9/site-packages/osmnx/features.py:268: UserWarning: The buffer_dist argument as been deprecated and will be removed in a future release. Buffer your results directly, if desired.\n",
      "  gdf_place = geocoder.geocode_to_gdf(\n",
      "/Users/yubocai/Desktop/Ecole Polytechnique/Internship/CREST/BATO_extension/helpers/scrapping.py:204: UserWarning: Geometry is in a geographic CRS. Results from 'centroid' are likely incorrect. Use 'GeoSeries.to_crs()' to re-project geometries to a projected CRS before this operation.\n",
      "\n",
      "  gdf_pois[\"center\"] = gdf_pois.centroid\n"
     ]
    }
   ],
   "source": [
    "filosofi_file = \"../data/Filosofi2015_carreaux_200m_paris.gpkg\"\n",
    "pgdf = hs.get_POI_cat_on_INSPIRE_grid(filosofi_file)\n",
    "pgdf['Log'] = pgdf['Log_inc'] + pgdf['Log_av45'] + pgdf['Log_45_70'] + pgdf['Log_70_90'] + pgdf['Log_ap90']"
   ]
  },
  {
   "cell_type": "code",
   "execution_count": 8,
   "metadata": {},
   "outputs": [
    {
     "name": "stderr",
     "output_type": "stream",
     "text": [
      "/Users/yubocai/anaconda3/envs/mlp/lib/python3.9/site-packages/ipykernel/ipkernel.py:283: DeprecationWarning: `should_run_async` will not call `transform_cell` automatically in the future. Please pass the result to `transformed_cell` argument and any exception that happen during thetransform in `preprocessing_exc_tuple` in IPython 7.17 and above.\n",
      "  and should_run_async(code)\n"
     ]
    }
   ],
   "source": [
    "# First create a new column with the node index in pgdf\n",
    "pgdf[\"node_index\"] = 0\n",
    "\n",
    "# Then for each IdINSPIRE, we assign the node index\n",
    "for i in range(len(pgdf)):\n",
    "    pgdf.iloc[i, -1] = node_index.loc[pgdf.iloc[i, pgdf.columns.get_loc(\"IdINSPIRE\")], \"node_index\"]"
   ]
  },
  {
   "cell_type": "code",
   "execution_count": 9,
   "metadata": {},
   "outputs": [
    {
     "name": "stderr",
     "output_type": "stream",
     "text": [
      "/Users/yubocai/anaconda3/envs/mlp/lib/python3.9/site-packages/ipykernel/ipkernel.py:283: DeprecationWarning: `should_run_async` will not call `transform_cell` automatically in the future. Please pass the result to `transformed_cell` argument and any exception that happen during thetransform in `preprocessing_exc_tuple` in IPython 7.17 and above.\n",
      "  and should_run_async(code)\n",
      "/Users/yubocai/anaconda3/envs/mlp/lib/python3.9/site-packages/scipy/sparse/_data.py:117: RuntimeWarning: divide by zero encountered in reciprocal\n",
      "  return self._with_data(data ** n)\n"
     ]
    }
   ],
   "source": [
    "idCol = \"IdINSPIRE\"\n",
    "weights_by_id_without_transportation = hs.calculate_distanceband_weights(pgdf,idCol=idCol) "
   ]
  },
  {
   "cell_type": "markdown",
   "metadata": {},
   "source": [
    "### Plot the graph of node index \n",
    "\n",
    "---"
   ]
  },
  {
   "cell_type": "code",
   "execution_count": 10,
   "metadata": {},
   "outputs": [
    {
     "name": "stderr",
     "output_type": "stream",
     "text": [
      "/Users/yubocai/anaconda3/envs/mlp/lib/python3.9/site-packages/ipykernel/ipkernel.py:283: DeprecationWarning: `should_run_async` will not call `transform_cell` automatically in the future. Please pass the result to `transformed_cell` argument and any exception that happen during thetransform in `preprocessing_exc_tuple` in IPython 7.17 and above.\n",
      "  and should_run_async(code)\n"
     ]
    }
   ],
   "source": [
    "img_node_index = hs.folium_grid_cat_plot(pgdf, \"node_index\", zoom_start=12.5, linecolor='maroon',   \n",
    "                                         linewidth=4,\n",
    "                                         nodecolor='cyan',\n",
    "                                         noderadius=3,\n",
    "                                         op=0.8,)\n",
    "m_img = hs.fig_save_folium(img_node_index, 'figure/',\n",
    "                           \"img_node_index\", width=1100, height=1100, dpi=600)"
   ]
  },
  {
   "cell_type": "markdown",
   "metadata": {},
   "source": [
    "### Compute the Place index\n",
    "\n",
    "---\n",
    "\n",
    "The **place index** of an AZ is the amenity score per unit of inhabitants. For each type of amenity, we assigned a frequency and a weight. The frequency is determined by the ratio of the number of items in that category $\\left(N_p\\right)$ to the total number of amenities $(N)$ and the weight is the opposite of the frequency:\n",
    "\\begin{equation}\n",
    "    f = \\frac{N_{p}}{N} \\quad \\text{and} \\quad w_{p}=1-\\frac{N_{p}}{N} \\quad \\text{where $p$ is the category}\n",
    "\\end{equation}\n",
    "The underlying concept here is that if a particular type of amenity is less abundant in a certain area, its relative importance in that area becomes higher. After performing the calculations, we obtained the weights for each type of facility:\n",
    "\n",
    "For each AZ, we can compute the amenity score (AS) and place index with the following formula:\n",
    "\\begin{equation}\n",
    "    AS_{i} = \\sum_{p} N_{p} w_{p}  \\quad \\text{and} \\quad  \\text{place index}_{i} = \\frac{AS_{i}}{\\text{inh}_{i}}\n",
    "\\end{equation}\n",
    "where $p$ is the category, $i$ is the index of AS, and $\\text{inh}_{i}$ is the number of inhabitants in the $AZ_{i}$. To facilitate comparison across various case studies, we applied min-max normalization to calculate standardized node and place indices for each study."
   ]
  },
  {
   "cell_type": "code",
   "execution_count": 11,
   "metadata": {},
   "outputs": [
    {
     "name": "stderr",
     "output_type": "stream",
     "text": [
      "/Users/yubocai/anaconda3/envs/mlp/lib/python3.9/site-packages/ipykernel/ipkernel.py:283: DeprecationWarning: `should_run_async` will not call `transform_cell` automatically in the future. Please pass the result to `transformed_cell` argument and any exception that happen during thetransform in `preprocessing_exc_tuple` in IPython 7.17 and above.\n",
      "  and should_run_async(code)\n"
     ]
    }
   ],
   "source": [
    "pgdf['Inhabitants'] = pgdf['Ind_0_3'] + pgdf['Ind_4_5'] + pgdf['Ind_6_10'] + pgdf['Ind_11_17'] + pgdf['Ind_18_24'] + pgdf['Ind_25_39'] + pgdf['Ind_40_54'] + pgdf['Ind_55_64'] + pgdf['Ind_65_79'] + pgdf['Ind_80p'] "
   ]
  },
  {
   "cell_type": "code",
   "execution_count": 12,
   "metadata": {},
   "outputs": [
    {
     "name": "stderr",
     "output_type": "stream",
     "text": [
      "/Users/yubocai/anaconda3/envs/mlp/lib/python3.9/site-packages/ipykernel/ipkernel.py:283: DeprecationWarning: `should_run_async` will not call `transform_cell` automatically in the future. Please pass the result to `transformed_cell` argument and any exception that happen during thetransform in `preprocessing_exc_tuple` in IPython 7.17 and above.\n",
      "  and should_run_async(code)\n"
     ]
    }
   ],
   "source": [
    "interestVar2 = ['restaurant',\n",
    "       'culture and art', 'education', 'food_shops', 'fashion_beauty',\n",
    "       'supply_shops']\n",
    "for var in interestVar2:\n",
    "        pgdf[str(\"weight_\" + var)] = pgdf[var].sum()/(pgdf[interestVar2].sum(axis = 1).sum())"
   ]
  },
  {
   "cell_type": "code",
   "execution_count": 13,
   "metadata": {},
   "outputs": [
    {
     "name": "stderr",
     "output_type": "stream",
     "text": [
      "/Users/yubocai/anaconda3/envs/mlp/lib/python3.9/site-packages/ipykernel/ipkernel.py:283: DeprecationWarning: `should_run_async` will not call `transform_cell` automatically in the future. Please pass the result to `transformed_cell` argument and any exception that happen during thetransform in `preprocessing_exc_tuple` in IPython 7.17 and above.\n",
      "  and should_run_async(code)\n"
     ]
    },
    {
     "data": {
      "text/html": [
       "<div>\n",
       "<style scoped>\n",
       "    .dataframe tbody tr th:only-of-type {\n",
       "        vertical-align: middle;\n",
       "    }\n",
       "\n",
       "    .dataframe tbody tr th {\n",
       "        vertical-align: top;\n",
       "    }\n",
       "\n",
       "    .dataframe thead th {\n",
       "        text-align: right;\n",
       "    }\n",
       "</style>\n",
       "<table border=\"1\" class=\"dataframe\">\n",
       "  <thead>\n",
       "    <tr style=\"text-align: right;\">\n",
       "      <th></th>\n",
       "      <th>weight_restaurant</th>\n",
       "      <th>weight_culture and art</th>\n",
       "      <th>weight_education</th>\n",
       "      <th>weight_food_shops</th>\n",
       "      <th>weight_fashion_beauty</th>\n",
       "      <th>weight_supply_shops</th>\n",
       "    </tr>\n",
       "    <tr>\n",
       "      <th>IdINSPIRE</th>\n",
       "      <th></th>\n",
       "      <th></th>\n",
       "      <th></th>\n",
       "      <th></th>\n",
       "      <th></th>\n",
       "      <th></th>\n",
       "    </tr>\n",
       "  </thead>\n",
       "  <tbody>\n",
       "    <tr>\n",
       "      <th>CRS3035RES200mN2893400E3763200</th>\n",
       "      <td>0.641828</td>\n",
       "      <td>0.946926</td>\n",
       "      <td>0.965579</td>\n",
       "      <td>0.845934</td>\n",
       "      <td>0.795573</td>\n",
       "      <td>0.80416</td>\n",
       "    </tr>\n",
       "    <tr>\n",
       "      <th>CRS3035RES200mN2890000E3762200</th>\n",
       "      <td>0.641828</td>\n",
       "      <td>0.946926</td>\n",
       "      <td>0.965579</td>\n",
       "      <td>0.845934</td>\n",
       "      <td>0.795573</td>\n",
       "      <td>0.80416</td>\n",
       "    </tr>\n",
       "    <tr>\n",
       "      <th>CRS3035RES200mN2893400E3762400</th>\n",
       "      <td>0.641828</td>\n",
       "      <td>0.946926</td>\n",
       "      <td>0.965579</td>\n",
       "      <td>0.845934</td>\n",
       "      <td>0.795573</td>\n",
       "      <td>0.80416</td>\n",
       "    </tr>\n",
       "    <tr>\n",
       "      <th>CRS3035RES200mN2891800E3763600</th>\n",
       "      <td>0.641828</td>\n",
       "      <td>0.946926</td>\n",
       "      <td>0.965579</td>\n",
       "      <td>0.845934</td>\n",
       "      <td>0.795573</td>\n",
       "      <td>0.80416</td>\n",
       "    </tr>\n",
       "    <tr>\n",
       "      <th>CRS3035RES200mN2890800E3763200</th>\n",
       "      <td>0.641828</td>\n",
       "      <td>0.946926</td>\n",
       "      <td>0.965579</td>\n",
       "      <td>0.845934</td>\n",
       "      <td>0.795573</td>\n",
       "      <td>0.80416</td>\n",
       "    </tr>\n",
       "  </tbody>\n",
       "</table>\n",
       "</div>"
      ],
      "text/plain": [
       "                                weight_restaurant  weight_culture and art  \\\n",
       "IdINSPIRE                                                                   \n",
       "CRS3035RES200mN2893400E3763200           0.641828                0.946926   \n",
       "CRS3035RES200mN2890000E3762200           0.641828                0.946926   \n",
       "CRS3035RES200mN2893400E3762400           0.641828                0.946926   \n",
       "CRS3035RES200mN2891800E3763600           0.641828                0.946926   \n",
       "CRS3035RES200mN2890800E3763200           0.641828                0.946926   \n",
       "\n",
       "                                weight_education  weight_food_shops  \\\n",
       "IdINSPIRE                                                             \n",
       "CRS3035RES200mN2893400E3763200          0.965579           0.845934   \n",
       "CRS3035RES200mN2890000E3762200          0.965579           0.845934   \n",
       "CRS3035RES200mN2893400E3762400          0.965579           0.845934   \n",
       "CRS3035RES200mN2891800E3763600          0.965579           0.845934   \n",
       "CRS3035RES200mN2890800E3763200          0.965579           0.845934   \n",
       "\n",
       "                                weight_fashion_beauty  weight_supply_shops  \n",
       "IdINSPIRE                                                                   \n",
       "CRS3035RES200mN2893400E3763200               0.795573              0.80416  \n",
       "CRS3035RES200mN2890000E3762200               0.795573              0.80416  \n",
       "CRS3035RES200mN2893400E3762400               0.795573              0.80416  \n",
       "CRS3035RES200mN2891800E3763600               0.795573              0.80416  \n",
       "CRS3035RES200mN2890800E3763200               0.795573              0.80416  "
      ]
     },
     "execution_count": 13,
     "metadata": {},
     "output_type": "execute_result"
    }
   ],
   "source": [
    "weight_table = 1 - pgdf[[str(\"weight_\" + var) for var in interestVar2]]\n",
    "weight_table.head()"
   ]
  },
  {
   "cell_type": "code",
   "execution_count": 14,
   "metadata": {},
   "outputs": [
    {
     "name": "stdout",
     "output_type": "stream",
     "text": [
      "Max Place Index: 1.0\n"
     ]
    },
    {
     "name": "stderr",
     "output_type": "stream",
     "text": [
      "/Users/yubocai/anaconda3/envs/mlp/lib/python3.9/site-packages/ipykernel/ipkernel.py:283: DeprecationWarning: `should_run_async` will not call `transform_cell` automatically in the future. Please pass the result to `transformed_cell` argument and any exception that happen during thetransform in `preprocessing_exc_tuple` in IPython 7.17 and above.\n",
      "  and should_run_async(code)\n"
     ]
    },
    {
     "data": {
      "text/html": [
       "<div>\n",
       "<style scoped>\n",
       "    .dataframe tbody tr th:only-of-type {\n",
       "        vertical-align: middle;\n",
       "    }\n",
       "\n",
       "    .dataframe tbody tr th {\n",
       "        vertical-align: top;\n",
       "    }\n",
       "\n",
       "    .dataframe thead th {\n",
       "        text-align: right;\n",
       "    }\n",
       "</style>\n",
       "<table border=\"1\" class=\"dataframe\">\n",
       "  <thead>\n",
       "    <tr style=\"text-align: right;\">\n",
       "      <th></th>\n",
       "      <th>Inhabitants</th>\n",
       "      <th>AS</th>\n",
       "      <th>place_index</th>\n",
       "      <th>restaurant</th>\n",
       "      <th>culture and art</th>\n",
       "      <th>education</th>\n",
       "      <th>food_shops</th>\n",
       "      <th>fashion_beauty</th>\n",
       "      <th>supply_shops</th>\n",
       "    </tr>\n",
       "    <tr>\n",
       "      <th>IdINSPIRE</th>\n",
       "      <th></th>\n",
       "      <th></th>\n",
       "      <th></th>\n",
       "      <th></th>\n",
       "      <th></th>\n",
       "      <th></th>\n",
       "      <th></th>\n",
       "      <th></th>\n",
       "      <th></th>\n",
       "    </tr>\n",
       "  </thead>\n",
       "  <tbody>\n",
       "    <tr>\n",
       "      <th>CRS3035RES200mN2893400E3763200</th>\n",
       "      <td>2749.5</td>\n",
       "      <td>8.483172</td>\n",
       "      <td>0.081037</td>\n",
       "      <td>4.0</td>\n",
       "      <td>0.0</td>\n",
       "      <td>1.0</td>\n",
       "      <td>3.0</td>\n",
       "      <td>0.0</td>\n",
       "      <td>3.0</td>\n",
       "    </tr>\n",
       "    <tr>\n",
       "      <th>CRS3035RES200mN2890000E3762200</th>\n",
       "      <td>1520.5</td>\n",
       "      <td>42.948061</td>\n",
       "      <td>0.410269</td>\n",
       "      <td>21.0</td>\n",
       "      <td>8.0</td>\n",
       "      <td>0.0</td>\n",
       "      <td>6.0</td>\n",
       "      <td>8.0</td>\n",
       "      <td>13.0</td>\n",
       "    </tr>\n",
       "    <tr>\n",
       "      <th>CRS3035RES200mN2893400E3762400</th>\n",
       "      <td>1313.0</td>\n",
       "      <td>0.804160</td>\n",
       "      <td>0.007682</td>\n",
       "      <td>0.0</td>\n",
       "      <td>0.0</td>\n",
       "      <td>0.0</td>\n",
       "      <td>0.0</td>\n",
       "      <td>0.0</td>\n",
       "      <td>1.0</td>\n",
       "    </tr>\n",
       "    <tr>\n",
       "      <th>CRS3035RES200mN2891800E3763600</th>\n",
       "      <td>1200.5</td>\n",
       "      <td>0.965579</td>\n",
       "      <td>0.009224</td>\n",
       "      <td>0.0</td>\n",
       "      <td>0.0</td>\n",
       "      <td>1.0</td>\n",
       "      <td>0.0</td>\n",
       "      <td>0.0</td>\n",
       "      <td>0.0</td>\n",
       "    </tr>\n",
       "    <tr>\n",
       "      <th>CRS3035RES200mN2890800E3763200</th>\n",
       "      <td>672.0</td>\n",
       "      <td>1.607407</td>\n",
       "      <td>0.015355</td>\n",
       "      <td>1.0</td>\n",
       "      <td>0.0</td>\n",
       "      <td>1.0</td>\n",
       "      <td>0.0</td>\n",
       "      <td>0.0</td>\n",
       "      <td>0.0</td>\n",
       "    </tr>\n",
       "  </tbody>\n",
       "</table>\n",
       "</div>"
      ],
      "text/plain": [
       "                                Inhabitants         AS  place_index  \\\n",
       "IdINSPIRE                                                             \n",
       "CRS3035RES200mN2893400E3763200       2749.5   8.483172     0.081037   \n",
       "CRS3035RES200mN2890000E3762200       1520.5  42.948061     0.410269   \n",
       "CRS3035RES200mN2893400E3762400       1313.0   0.804160     0.007682   \n",
       "CRS3035RES200mN2891800E3763600       1200.5   0.965579     0.009224   \n",
       "CRS3035RES200mN2890800E3763200        672.0   1.607407     0.015355   \n",
       "\n",
       "                                restaurant  culture and art  education  \\\n",
       "IdINSPIRE                                                                \n",
       "CRS3035RES200mN2893400E3763200         4.0              0.0        1.0   \n",
       "CRS3035RES200mN2890000E3762200        21.0              8.0        0.0   \n",
       "CRS3035RES200mN2893400E3762400         0.0              0.0        0.0   \n",
       "CRS3035RES200mN2891800E3763600         0.0              0.0        1.0   \n",
       "CRS3035RES200mN2890800E3763200         1.0              0.0        1.0   \n",
       "\n",
       "                                food_shops  fashion_beauty  supply_shops  \n",
       "IdINSPIRE                                                                 \n",
       "CRS3035RES200mN2893400E3763200         3.0             0.0           3.0  \n",
       "CRS3035RES200mN2890000E3762200         6.0             8.0          13.0  \n",
       "CRS3035RES200mN2893400E3762400         0.0             0.0           1.0  \n",
       "CRS3035RES200mN2891800E3763600         0.0             0.0           0.0  \n",
       "CRS3035RES200mN2890800E3763200         0.0             0.0           0.0  "
      ]
     },
     "execution_count": 14,
     "metadata": {},
     "output_type": "execute_result"
    }
   ],
   "source": [
    "# We have the weights for each node index and each type of amenity in the dataset weight_table\n",
    "# We can compute the Amenity Score for each zone, with the formula:\n",
    "# Amenity Score = sum(weight_amenity * number_amenity for each type of amenity)\n",
    "\n",
    "# Import weight data from weight_table\n",
    "for var in interestVar2:\n",
    "    pgdf[f\"weight_{var}\"] = weight_table[f\"weight_{var}\"]\n",
    "\n",
    "# Calculate the total Amenity Score (AS) for each AZ (Analysis Zone)\n",
    "pgdf['AS'] = sum(pgdf[var] * pgdf[f\"weight_{var}\"] for var in interestVar2)\n",
    "\n",
    "# Calculate the Place Index for each AZ\n",
    "pgdf['place_index'] = pgdf['AS']\n",
    "\n",
    "# Perform Min-Max Normalization on the Place Index\n",
    "pgdf['place_index'] = (pgdf['place_index'] - pgdf['place_index'].min()) / \\\n",
    "    (pgdf['place_index'].max() - pgdf['place_index'].min())\n",
    "\n",
    "print(f\"Max Place Index: {pgdf['place_index'].max()}\")\n",
    "\n",
    "# Define columns to display\n",
    "column_to_display = ['Inhabitants', 'AS', 'place_index', 'restaurant',\n",
    "                     'culture and art', 'education', 'food_shops', 'fashion_beauty',\n",
    "                     'supply_shops']\n",
    "\n",
    "# Display the head of the dataframe for the specified columns\n",
    "pgdf[column_to_display].head()"
   ]
  },
  {
   "cell_type": "code",
   "execution_count": 15,
   "metadata": {},
   "outputs": [
    {
     "name": "stderr",
     "output_type": "stream",
     "text": [
      "/Users/yubocai/anaconda3/envs/mlp/lib/python3.9/site-packages/ipykernel/ipkernel.py:283: DeprecationWarning: `should_run_async` will not call `transform_cell` automatically in the future. Please pass the result to `transformed_cell` argument and any exception that happen during thetransform in `preprocessing_exc_tuple` in IPython 7.17 and above.\n",
      "  and should_run_async(code)\n"
     ]
    },
    {
     "data": {
      "text/html": [
       "<div>\n",
       "<style scoped>\n",
       "    .dataframe tbody tr th:only-of-type {\n",
       "        vertical-align: middle;\n",
       "    }\n",
       "\n",
       "    .dataframe tbody tr th {\n",
       "        vertical-align: top;\n",
       "    }\n",
       "\n",
       "    .dataframe thead th {\n",
       "        text-align: right;\n",
       "    }\n",
       "</style>\n",
       "<table border=\"1\" class=\"dataframe\">\n",
       "  <thead>\n",
       "    <tr style=\"text-align: right;\">\n",
       "      <th></th>\n",
       "      <th>place_index</th>\n",
       "    </tr>\n",
       "    <tr>\n",
       "      <th>IdINSPIRE</th>\n",
       "      <th></th>\n",
       "    </tr>\n",
       "  </thead>\n",
       "  <tbody>\n",
       "    <tr>\n",
       "      <th>CRS3035RES200mN2893400E3763200</th>\n",
       "      <td>0.081037</td>\n",
       "    </tr>\n",
       "    <tr>\n",
       "      <th>CRS3035RES200mN2890000E3762200</th>\n",
       "      <td>0.410269</td>\n",
       "    </tr>\n",
       "    <tr>\n",
       "      <th>CRS3035RES200mN2893400E3762400</th>\n",
       "      <td>0.007682</td>\n",
       "    </tr>\n",
       "    <tr>\n",
       "      <th>CRS3035RES200mN2891800E3763600</th>\n",
       "      <td>0.009224</td>\n",
       "    </tr>\n",
       "    <tr>\n",
       "      <th>CRS3035RES200mN2890800E3763200</th>\n",
       "      <td>0.015355</td>\n",
       "    </tr>\n",
       "  </tbody>\n",
       "</table>\n",
       "</div>"
      ],
      "text/plain": [
       "                                place_index\n",
       "IdINSPIRE                                  \n",
       "CRS3035RES200mN2893400E3763200     0.081037\n",
       "CRS3035RES200mN2890000E3762200     0.410269\n",
       "CRS3035RES200mN2893400E3762400     0.007682\n",
       "CRS3035RES200mN2891800E3763600     0.009224\n",
       "CRS3035RES200mN2890800E3763200     0.015355"
      ]
     },
     "execution_count": 15,
     "metadata": {},
     "output_type": "execute_result"
    }
   ],
   "source": [
    "data_place_index = pgdf[['place_index']]\n",
    "data_place_index.to_csv(\"data_result/place_index.csv\")\n",
    "data_place_index.head()"
   ]
  },
  {
   "cell_type": "code",
   "execution_count": 24,
   "metadata": {},
   "outputs": [
    {
     "name": "stderr",
     "output_type": "stream",
     "text": [
      "/Users/yubocai/anaconda3/envs/mlp/lib/python3.9/site-packages/ipykernel/ipkernel.py:283: DeprecationWarning: `should_run_async` will not call `transform_cell` automatically in the future. Please pass the result to `transformed_cell` argument and any exception that happen during thetransform in `preprocessing_exc_tuple` in IPython 7.17 and above.\n",
      "  and should_run_async(code)\n"
     ]
    }
   ],
   "source": [
    "img_place_index = hs.folium_grid_cat_plot(pgdf,\"place_index\", zoom_start=12.5, linecolor='blue',   \n",
    "                                         linewidth=4,\n",
    "                                         nodecolor='orange',\n",
    "                                         noderadius=3,\n",
    "                                         op=0.8,)\n",
    "m_img = hs.fig_save_folium(img_place_index,'figure/', \"img_place_index\", width=1100, height=1100, dpi=600)"
   ]
  },
  {
   "cell_type": "markdown",
   "metadata": {},
   "source": [
    "### Statistics Analysis\n",
    "\n",
    "---"
   ]
  },
  {
   "cell_type": "code",
   "execution_count": 17,
   "metadata": {},
   "outputs": [
    {
     "name": "stderr",
     "output_type": "stream",
     "text": [
      "/Users/yubocai/anaconda3/envs/mlp/lib/python3.9/site-packages/ipykernel/ipkernel.py:283: DeprecationWarning: `should_run_async` will not call `transform_cell` automatically in the future. Please pass the result to `transformed_cell` argument and any exception that happen during thetransform in `preprocessing_exc_tuple` in IPython 7.17 and above.\n",
      "  and should_run_async(code)\n"
     ]
    },
    {
     "name": "stdout",
     "output_type": "stream",
     "text": [
      "Correlation coefficient: 0.4925888080350649\n",
      "Slope: 0.6072559642022091\n",
      "Intercept: 0.5489128740518976\n",
      "R-squared: 0.24264373380140605\n",
      "P-value: 2.3437120590655594e-121\n",
      "Standard error: 0.024140919638067818\n"
     ]
    },
    {
     "data": {
      "image/png": "[encoded data removed]",
      "text/plain": [
       "<Figure size 936x648 with 1 Axes>"
      ]
     },
     "metadata": {
      "needs_background": "light"
     },
     "output_type": "display_data"
    }
   ],
   "source": [
    "# Calculate the correlation coefficient and R^2 value\n",
    "correlation = pgdf['place_index'].corr(pgdf['node_index'])\n",
    "slope, intercept, r_value, p_value, std_err = linregress(pgdf['place_index'], pgdf['node_index'])\n",
    "r_squared = r_value**2\n",
    "\n",
    "# Output the results\n",
    "print(f\"Correlation coefficient: {correlation}\")\n",
    "print(f\"Slope: {slope}\")\n",
    "print(f\"Intercept: {intercept}\")\n",
    "print(f\"R-squared: {r_squared}\")\n",
    "print(f\"P-value: {p_value}\")\n",
    "print(f\"Standard error: {std_err}\")\n",
    "\n",
    "# Plot the scatter plot and the fitted line\n",
    "plt.figure(figsize=(13, 9))\n",
    "plt.scatter(pgdf['place_index'], pgdf['node_index'], label='Data points')\n",
    "plt.plot(pgdf['place_index'], intercept + slope * pgdf['place_index'], 'r', label='Fitted line', linewidth=3)\n",
    "plt.xlabel('Place Indices', fontsize=20, fontfamily='serif')\n",
    "plt.ylabel('Node Indices', fontsize=20, fontfamily='serif')\n",
    "\n",
    "# mark the value of R^2\n",
    "plt.text(0.05, 0.95, f'$R^2 = {r_squared:.3f}$', fontsize=40, ha='left', va='top', transform=plt.gca().transAxes, fontfamily='serif')\n",
    "\n",
    "plt.legend(fontsize=20, loc='lower right')\n",
    "plt.tick_params(labelsize=15)\n",
    "plt.grid(True)\n",
    "plt.savefig('figure/img_correlation.png', dpi=600, bbox_inches='tight')\n",
    "plt.show()"
   ]
  },
  {
   "cell_type": "code",
   "execution_count": 18,
   "metadata": {},
   "outputs": [
    {
     "name": "stdout",
     "output_type": "stream",
     "text": [
      "Correlation coefficient: 0.4925888080350649\n",
      "Slope: 0.3995740644889056\n",
      "Intercept: -0.10604676769145702\n",
      "R-squared: 0.24264373380140605\n",
      "P-value: 2.3437120590655594e-121\n",
      "Standard error: 0.015884710812112776\n",
      "Slope difference (degrees): -23.219631798928877\n",
      "Mean node index: 0.6397456039002978\n",
      "Mean place index: 0.14957898349789442\n"
     ]
    }
   ],
   "source": [
    "correlation_coefficient = pgdf['node_index'].corr(pgdf['place_index'])\n",
    "slope, intercept, r_value, p_value, std_err = linregress(pgdf['node_index'], pgdf['place_index'])\n",
    "r_squared = r_value ** 2\n",
    "slope_difference_degrees = np.degrees(np.arctan(slope)) - 45\n",
    "mean_node_index = pgdf['node_index'].mean()\n",
    "mean_place_index = pgdf['place_index'].mean()\n",
    "\n",
    "# get the output\n",
    "print(f\"Correlation coefficient: {correlation_coefficient}\")\n",
    "print(f\"Slope: {slope}\")\n",
    "print(f\"Intercept: {intercept}\")\n",
    "print(f\"R-squared: {r_squared}\")\n",
    "print(f\"P-value: {p_value}\")\n",
    "print(f\"Standard error: {std_err}\")\n",
    "print(f\"Slope difference (degrees): {slope_difference_degrees}\")\n",
    "print(f\"Mean node index: {mean_node_index}\")\n",
    "print(f\"Mean place index: {mean_place_index}\")"
   ]
  }
 ],
 "metadata": {
  "kernelspec": {
   "display_name": "Python 3",
   "language": "python",
   "name": "python3"
  },
  "language_info": {
   "codemirror_mode": {
    "name": "ipython",
    "version": 3
   },
   "file_extension": ".py",
   "mimetype": "text/x-python",
   "name": "python",
   "nbconvert_exporter": "python",
   "pygments_lexer": "ipython3",
   "version": "3.9.16"
  }
 },
 "nbformat": 4,
 "nbformat_minor": 2
}
